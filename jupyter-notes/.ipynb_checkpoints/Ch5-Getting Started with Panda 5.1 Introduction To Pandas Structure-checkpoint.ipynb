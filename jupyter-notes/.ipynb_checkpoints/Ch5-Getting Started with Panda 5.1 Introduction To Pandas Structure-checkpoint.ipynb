{
 "cells": [
  {
   "cell_type": "markdown",
   "id": "8218cbca",
   "metadata": {},
   "source": [
    "# Chapter 5 - Getting started with panda | Introduction to pandas data structure"
   ]
  },
  {
   "cell_type": "code",
   "execution_count": 1,
   "id": "ff84a502",
   "metadata": {},
   "outputs": [],
   "source": [
    "import numpy as np\n",
    "import pandas as pd"
   ]
  },
  {
   "cell_type": "markdown",
   "id": "0ade84d2",
   "metadata": {},
   "source": [
    "## Series"
   ]
  },
  {
   "cell_type": "code",
   "execution_count": 2,
   "id": "296fc364",
   "metadata": {},
   "outputs": [
    {
     "data": {
      "text/plain": [
       "0    1\n",
       "1    2\n",
       "2    4\n",
       "3    5\n",
       "dtype: int64"
      ]
     },
     "execution_count": 2,
     "metadata": {},
     "output_type": "execute_result"
    }
   ],
   "source": [
    "obj = pd.Series([1,2,4,5])\n",
    "obj"
   ]
  },
  {
   "cell_type": "code",
   "execution_count": 3,
   "id": "bc718fc7",
   "metadata": {},
   "outputs": [
    {
     "data": {
      "text/plain": [
       "<PandasArray>\n",
       "[1, 2, 4, 5]\n",
       "Length: 4, dtype: int64"
      ]
     },
     "execution_count": 3,
     "metadata": {},
     "output_type": "execute_result"
    }
   ],
   "source": [
    "# Array dari panda data structure\n",
    "obj.array"
   ]
  },
  {
   "cell_type": "code",
   "execution_count": 4,
   "id": "4c4366f7",
   "metadata": {},
   "outputs": [
    {
     "data": {
      "text/plain": [
       "RangeIndex(start=0, stop=4, step=1)"
      ]
     },
     "execution_count": 4,
     "metadata": {},
     "output_type": "execute_result"
    }
   ],
   "source": [
    "# Mengambil index dari seri via array\n",
    "obj.index"
   ]
  },
  {
   "cell_type": "code",
   "execution_count": 5,
   "id": "a104ab3d",
   "metadata": {},
   "outputs": [
    {
     "data": {
      "text/plain": [
       "a    1\n",
       "b    2\n",
       "c    4\n",
       "d    5\n",
       "dtype: int64"
      ]
     },
     "execution_count": 5,
     "metadata": {},
     "output_type": "execute_result"
    }
   ],
   "source": [
    "# Membuat seris dengan index costume\n",
    "obj = pd.Series([1,2,4,5], index=[\"a\", \"b\", \"c\", \"d\"])\n",
    "obj"
   ]
  },
  {
   "cell_type": "code",
   "execution_count": 6,
   "id": "69b72953",
   "metadata": {},
   "outputs": [
    {
     "data": {
      "text/plain": [
       "5"
      ]
     },
     "execution_count": 6,
     "metadata": {},
     "output_type": "execute_result"
    }
   ],
   "source": [
    "# Mengambil nilai dari series menggunakan index(label)\n",
    "obj[\"d\"]"
   ]
  },
  {
   "cell_type": "code",
   "execution_count": 7,
   "id": "f28c89a2",
   "metadata": {},
   "outputs": [
    {
     "data": {
      "text/plain": [
       "a    1\n",
       "c    4\n",
       "b    2\n",
       "d    5\n",
       "dtype: int64"
      ]
     },
     "execution_count": 7,
     "metadata": {},
     "output_type": "execute_result"
    }
   ],
   "source": [
    "# List of label digunakan untuk mengambil list of element\n",
    "obj[[\"a\",\"c\",\"b\",\"d\"]]"
   ]
  },
  {
   "cell_type": "markdown",
   "id": "ade3ec83",
   "metadata": {},
   "source": [
    "> Numpy operasi dan fungsi di pandas"
   ]
  },
  {
   "cell_type": "code",
   "execution_count": 8,
   "id": "a34624ee",
   "metadata": {},
   "outputs": [
    {
     "data": {
      "text/plain": [
       "0    0.304717\n",
       "1   -1.039984\n",
       "2    0.750451\n",
       "3    0.940565\n",
       "4   -1.951035\n",
       "5   -1.302180\n",
       "6    0.127840\n",
       "7   -0.316243\n",
       "8   -0.016801\n",
       "9   -0.853044\n",
       "dtype: float64"
      ]
     },
     "execution_count": 8,
     "metadata": {},
     "output_type": "execute_result"
    }
   ],
   "source": [
    "rng = np.random.default_rng(seed=42)\n",
    "np_array = rng.standard_normal(10)\n",
    "\n",
    "# \n",
    "series = pd.Series(np_array)\n",
    "series"
   ]
  },
  {
   "cell_type": "code",
   "execution_count": 9,
   "id": "162c7e07",
   "metadata": {},
   "outputs": [
    {
     "data": {
      "text/plain": [
       "0    0.304717\n",
       "2    0.750451\n",
       "3    0.940565\n",
       "6    0.127840\n",
       "dtype: float64"
      ]
     },
     "execution_count": 9,
     "metadata": {},
     "output_type": "execute_result"
    }
   ],
   "source": [
    "# Filtering using boolean\n",
    "series[series>0]"
   ]
  },
  {
   "cell_type": "code",
   "execution_count": 10,
   "id": "3b469878",
   "metadata": {},
   "outputs": [
    {
     "data": {
      "text/plain": [
       "0    1.218868\n",
       "1   -4.159936\n",
       "2    3.001805\n",
       "3    3.762259\n",
       "4   -7.804141\n",
       "5   -5.208718\n",
       "6    0.511362\n",
       "7   -1.264970\n",
       "8   -0.067205\n",
       "9   -3.412176\n",
       "dtype: float64"
      ]
     },
     "execution_count": 10,
     "metadata": {},
     "output_type": "execute_result"
    }
   ],
   "source": [
    "# Multiplie scalar dengan series\n",
    "4 * series"
   ]
  },
  {
   "cell_type": "code",
   "execution_count": 11,
   "id": "879413e9",
   "metadata": {},
   "outputs": [
    {
     "data": {
      "text/plain": [
       "(0    1.356241\n",
       " 1    0.353460\n",
       " 2    2.117955\n",
       " 3    2.561427\n",
       " 4    0.142127\n",
       " 5    0.271938\n",
       " 6    1.136372\n",
       " 7    0.728883\n",
       " 8    0.983339\n",
       " 9    0.426116\n",
       " dtype: float64,\n",
       " pandas.core.series.Series)"
      ]
     },
     "execution_count": 11,
     "metadata": {},
     "output_type": "execute_result"
    }
   ],
   "source": [
    "# Fungsi matematika (exponen) numpy diterapkan pada Pandas series\n",
    "np.exp(series), type(np.exp(series))"
   ]
  },
  {
   "cell_type": "code",
   "execution_count": 12,
   "id": "06251c8f",
   "metadata": {},
   "outputs": [
    {
     "data": {
      "text/plain": [
       "False"
      ]
     },
     "execution_count": 12,
     "metadata": {},
     "output_type": "execute_result"
    }
   ],
   "source": [
    "\"a\" in series"
   ]
  },
  {
   "cell_type": "markdown",
   "id": "7a4a5be9",
   "metadata": {},
   "source": [
    "**Padas Series and Python's Ditionary**"
   ]
  },
  {
   "cell_type": "code",
   "execution_count": 13,
   "id": "1237f3f0",
   "metadata": {},
   "outputs": [
    {
     "data": {
      "text/plain": [
       "Ohio      35000\n",
       "Texas     71000\n",
       "Oregon    16000\n",
       "Utah       5000\n",
       "dtype: int64"
      ]
     },
     "execution_count": 13,
     "metadata": {},
     "output_type": "execute_result"
    }
   ],
   "source": [
    "# Dict berisikan incoming/year\n",
    "sdata = {\"Ohio\": 35000, \"Texas\": 71000, \"Oregon\": 16000, \"Utah\": 5000}\n",
    "\n",
    "# Membuat series dari dictionary\n",
    "series_inc = pd.Series(sdata)\n",
    "series_inc"
   ]
  },
  {
   "cell_type": "code",
   "execution_count": 14,
   "id": "47254226",
   "metadata": {},
   "outputs": [
    {
     "data": {
      "text/plain": [
       "(True, False)"
      ]
     },
     "execution_count": 14,
     "metadata": {},
     "output_type": "execute_result"
    }
   ],
   "source": [
    "# Operasi in pada dict dapat diterapkan\n",
    "\"Texas\" in series_inc, \"Toronto\" in series_inc"
   ]
  },
  {
   "cell_type": "code",
   "execution_count": 15,
   "id": "f6124b87",
   "metadata": {},
   "outputs": [
    {
     "data": {
      "text/plain": [
       "dict"
      ]
     },
     "execution_count": 15,
     "metadata": {},
     "output_type": "execute_result"
    }
   ],
   "source": [
    "# Konversi series kembali ke dictionary python\n",
    "konversi_dict_inc = series_inc.to_dict()\n",
    "type(konversi_dict_inc)"
   ]
  },
  {
   "cell_type": "code",
   "execution_count": 16,
   "id": "2911a52f",
   "metadata": {},
   "outputs": [
    {
     "data": {
      "text/plain": [
       "Oregon     16000.0\n",
       "Jakarta        NaN\n",
       "Ohio       35000.0\n",
       "Texas      71000.0\n",
       "dtype: float64"
      ]
     },
     "execution_count": 16,
     "metadata": {},
     "output_type": "execute_result"
    }
   ],
   "source": [
    "sdata = {\"Ohio\": 35000, \"Texas\": 71000, \"Oregon\": 16000, \"Utah\": 5000}\n",
    "city = [\"Oregon\",\"Jakarta\",\"Ohio\",\"Texas\"]\n",
    "costume_series_inc = pd.Series(sdata,index=city)\n",
    "costume_series_inc"
   ]
  },
  {
   "cell_type": "code",
   "execution_count": 17,
   "id": "e9c4cd89",
   "metadata": {},
   "outputs": [
    {
     "data": {
      "text/plain": [
       "Jakarta   NaN\n",
       "dtype: float64"
      ]
     },
     "execution_count": 17,
     "metadata": {},
     "output_type": "execute_result"
    }
   ],
   "source": [
    "# Check missing value\n",
    "costume_series_inc[pd.isna(costume_series_inc)]"
   ]
  },
  {
   "cell_type": "code",
   "execution_count": 18,
   "id": "e904ddb4",
   "metadata": {},
   "outputs": [
    {
     "data": {
      "text/plain": [
       "Oregon    16000.0\n",
       "Ohio      35000.0\n",
       "Texas     71000.0\n",
       "dtype: float64"
      ]
     },
     "execution_count": 18,
     "metadata": {},
     "output_type": "execute_result"
    }
   ],
   "source": [
    "# Check eksis value\n",
    "costume_series_inc[pd.notna(costume_series_inc)]"
   ]
  },
  {
   "cell_type": "code",
   "execution_count": 19,
   "id": "48456adb",
   "metadata": {},
   "outputs": [
    {
     "data": {
      "text/plain": [
       "Oregon     False\n",
       "Jakarta     True\n",
       "Ohio       False\n",
       "Texas      False\n",
       "dtype: bool"
      ]
     },
     "execution_count": 19,
     "metadata": {},
     "output_type": "execute_result"
    }
   ],
   "source": [
    "# Fungsi isna dan notna juga bisa diakses menggunakan method pada instance\n",
    "costume_series_inc.isna()"
   ]
  },
  {
   "cell_type": "markdown",
   "id": "275f2fb1",
   "metadata": {},
   "source": [
    "**Data alignment**\n",
    "\n",
    "Pandas akan mensejajarkan secara otomatis setiap index ketika dua series dikenakan operator aritmatika"
   ]
  },
  {
   "cell_type": "code",
   "execution_count": 20,
   "id": "fba1eb62",
   "metadata": {},
   "outputs": [
    {
     "data": {
      "text/plain": [
       "Ohio      35000\n",
       "Texas     71000\n",
       "Oregon    16000\n",
       "Utah       5000\n",
       "dtype: int64"
      ]
     },
     "execution_count": 20,
     "metadata": {},
     "output_type": "execute_result"
    }
   ],
   "source": [
    "series_inc"
   ]
  },
  {
   "cell_type": "code",
   "execution_count": 21,
   "id": "b4254c03",
   "metadata": {},
   "outputs": [
    {
     "data": {
      "text/plain": [
       "Oregon     16000.0\n",
       "Jakarta        NaN\n",
       "Ohio       35000.0\n",
       "Texas      71000.0\n",
       "dtype: float64"
      ]
     },
     "execution_count": 21,
     "metadata": {},
     "output_type": "execute_result"
    }
   ],
   "source": [
    "costume_series_inc"
   ]
  },
  {
   "cell_type": "code",
   "execution_count": 22,
   "id": "4d9c617b",
   "metadata": {},
   "outputs": [
    {
     "data": {
      "text/plain": [
       "Jakarta         NaN\n",
       "Ohio        70000.0\n",
       "Oregon      32000.0\n",
       "Texas      142000.0\n",
       "Utah            NaN\n",
       "dtype: float64"
      ]
     },
     "execution_count": 22,
     "metadata": {},
     "output_type": "execute_result"
    }
   ],
   "source": [
    "# Substraction of tow serries\n",
    "series_inc + costume_series_inc"
   ]
  },
  {
   "cell_type": "code",
   "execution_count": 23,
   "id": "8de286b4",
   "metadata": {},
   "outputs": [
    {
     "name": "stdout",
     "output_type": "stream",
     "text": [
      "None\n",
      "None\n"
     ]
    }
   ],
   "source": [
    "# nama dari index dan objek series itu sendiri\n",
    "print(costume_series_inc.name)\n",
    "print(costume_series_inc.index.name)"
   ]
  },
  {
   "cell_type": "code",
   "execution_count": 24,
   "id": "9afd8416",
   "metadata": {},
   "outputs": [
    {
     "data": {
      "text/plain": [
       "Nama kota\n",
       "Oregon     16000.0\n",
       "Jakarta        NaN\n",
       "Ohio       35000.0\n",
       "Texas      71000.0\n",
       "Name: Pendapatan pertahun, dtype: float64"
      ]
     },
     "execution_count": 24,
     "metadata": {},
     "output_type": "execute_result"
    }
   ],
   "source": [
    "# Menyetela nama dari series dan index series\n",
    "costume_series_inc.name = 'Pendapatan pertahun'\n",
    "costume_series_inc.index.name = 'Nama kota'\n",
    "\n",
    "costume_series_inc"
   ]
  },
  {
   "cell_type": "markdown",
   "id": "6dec118b",
   "metadata": {},
   "source": [
    "**Replace index by assignment**"
   ]
  },
  {
   "cell_type": "code",
   "execution_count": 25,
   "id": "e2303bdb",
   "metadata": {},
   "outputs": [
    {
     "data": {
      "text/plain": [
       "Bandung     16000.0\n",
       "Jakarta         NaN\n",
       "Karawang    35000.0\n",
       "Bogor       71000.0\n",
       "Name: Pendapatan pertahun, dtype: float64"
      ]
     },
     "execution_count": 25,
     "metadata": {},
     "output_type": "execute_result"
    }
   ],
   "source": [
    "city_new = [\"Bandung\", \"Jakarta\", \"Karawang\", \"Bogor\"]\n",
    "\n",
    "costume_series_inc.index = city_new\n",
    "costume_series_inc"
   ]
  },
  {
   "cell_type": "markdown",
   "id": "745cd8c0",
   "metadata": {},
   "source": [
    "## Data Frame"
   ]
  },
  {
   "cell_type": "code",
   "execution_count": 26,
   "id": "6fac0ffe",
   "metadata": {},
   "outputs": [
    {
     "data": {
      "text/html": [
       "<div>\n",
       "<style scoped>\n",
       "    .dataframe tbody tr th:only-of-type {\n",
       "        vertical-align: middle;\n",
       "    }\n",
       "\n",
       "    .dataframe tbody tr th {\n",
       "        vertical-align: top;\n",
       "    }\n",
       "\n",
       "    .dataframe thead th {\n",
       "        text-align: right;\n",
       "    }\n",
       "</style>\n",
       "<table border=\"1\" class=\"dataframe\">\n",
       "  <thead>\n",
       "    <tr style=\"text-align: right;\">\n",
       "      <th></th>\n",
       "      <th>jml_crh_hjn</th>\n",
       "      <th>kota</th>\n",
       "      <th>jml_hr_hjn</th>\n",
       "    </tr>\n",
       "  </thead>\n",
       "  <tbody>\n",
       "    <tr>\n",
       "      <th>0</th>\n",
       "      <td>1268</td>\n",
       "      <td>Jakarta</td>\n",
       "      <td>150</td>\n",
       "    </tr>\n",
       "    <tr>\n",
       "      <th>1</th>\n",
       "      <td>2042</td>\n",
       "      <td>Bandung</td>\n",
       "      <td>252</td>\n",
       "    </tr>\n",
       "    <tr>\n",
       "      <th>2</th>\n",
       "      <td>2405</td>\n",
       "      <td>Semarang</td>\n",
       "      <td>211</td>\n",
       "    </tr>\n",
       "    <tr>\n",
       "      <th>3</th>\n",
       "      <td>1247</td>\n",
       "      <td>Jogjakarta</td>\n",
       "      <td>209</td>\n",
       "    </tr>\n",
       "    <tr>\n",
       "      <th>4</th>\n",
       "      <td>1789</td>\n",
       "      <td>Bekasi</td>\n",
       "      <td>217</td>\n",
       "    </tr>\n",
       "    <tr>\n",
       "      <th>5</th>\n",
       "      <td>3129</td>\n",
       "      <td>Surabaya</td>\n",
       "      <td>213</td>\n",
       "    </tr>\n",
       "  </tbody>\n",
       "</table>\n",
       "</div>"
      ],
      "text/plain": [
       "   jml_crh_hjn        kota  jml_hr_hjn\n",
       "0         1268     Jakarta         150\n",
       "1         2042     Bandung         252\n",
       "2         2405    Semarang         211\n",
       "3         1247  Jogjakarta         209\n",
       "4         1789      Bekasi         217\n",
       "5         3129    Surabaya         213"
      ]
     },
     "execution_count": 26,
     "metadata": {},
     "output_type": "execute_result"
    }
   ],
   "source": [
    "# Membuat df menggunakan dict python\n",
    "data = {'jml_crh_hjn':[1_268,2_042,2_405,1_247,1_789,3_129],\n",
    "        'kota':['Jakarta','Bandung','Semarang','Jogjakarta','Bekasi','Surabaya'],\n",
    "        'jml_hr_hjn':[150,252,211,209,217,213]}\n",
    "\n",
    "frame = pd.DataFrame(data)\n",
    "frame"
   ]
  },
  {
   "cell_type": "markdown",
   "id": "ea50ba8c",
   "metadata": {},
   "source": [
    "**Fungsi `head` & `tail`**"
   ]
  },
  {
   "cell_type": "code",
   "execution_count": 27,
   "id": "f3972dcb",
   "metadata": {},
   "outputs": [
    {
     "data": {
      "text/html": [
       "<div>\n",
       "<style scoped>\n",
       "    .dataframe tbody tr th:only-of-type {\n",
       "        vertical-align: middle;\n",
       "    }\n",
       "\n",
       "    .dataframe tbody tr th {\n",
       "        vertical-align: top;\n",
       "    }\n",
       "\n",
       "    .dataframe thead th {\n",
       "        text-align: right;\n",
       "    }\n",
       "</style>\n",
       "<table border=\"1\" class=\"dataframe\">\n",
       "  <thead>\n",
       "    <tr style=\"text-align: right;\">\n",
       "      <th></th>\n",
       "      <th>jml_crh_hjn</th>\n",
       "      <th>kota</th>\n",
       "      <th>jml_hr_hjn</th>\n",
       "    </tr>\n",
       "  </thead>\n",
       "  <tbody>\n",
       "    <tr>\n",
       "      <th>0</th>\n",
       "      <td>1268</td>\n",
       "      <td>Jakarta</td>\n",
       "      <td>150</td>\n",
       "    </tr>\n",
       "    <tr>\n",
       "      <th>1</th>\n",
       "      <td>2042</td>\n",
       "      <td>Bandung</td>\n",
       "      <td>252</td>\n",
       "    </tr>\n",
       "    <tr>\n",
       "      <th>2</th>\n",
       "      <td>2405</td>\n",
       "      <td>Semarang</td>\n",
       "      <td>211</td>\n",
       "    </tr>\n",
       "    <tr>\n",
       "      <th>3</th>\n",
       "      <td>1247</td>\n",
       "      <td>Jogjakarta</td>\n",
       "      <td>209</td>\n",
       "    </tr>\n",
       "    <tr>\n",
       "      <th>4</th>\n",
       "      <td>1789</td>\n",
       "      <td>Bekasi</td>\n",
       "      <td>217</td>\n",
       "    </tr>\n",
       "  </tbody>\n",
       "</table>\n",
       "</div>"
      ],
      "text/plain": [
       "   jml_crh_hjn        kota  jml_hr_hjn\n",
       "0         1268     Jakarta         150\n",
       "1         2042     Bandung         252\n",
       "2         2405    Semarang         211\n",
       "3         1247  Jogjakarta         209\n",
       "4         1789      Bekasi         217"
      ]
     },
     "execution_count": 27,
     "metadata": {},
     "output_type": "execute_result"
    }
   ],
   "source": [
    "frame.head()"
   ]
  },
  {
   "cell_type": "code",
   "execution_count": 28,
   "id": "ce36e03e",
   "metadata": {},
   "outputs": [
    {
     "data": {
      "text/html": [
       "<div>\n",
       "<style scoped>\n",
       "    .dataframe tbody tr th:only-of-type {\n",
       "        vertical-align: middle;\n",
       "    }\n",
       "\n",
       "    .dataframe tbody tr th {\n",
       "        vertical-align: top;\n",
       "    }\n",
       "\n",
       "    .dataframe thead th {\n",
       "        text-align: right;\n",
       "    }\n",
       "</style>\n",
       "<table border=\"1\" class=\"dataframe\">\n",
       "  <thead>\n",
       "    <tr style=\"text-align: right;\">\n",
       "      <th></th>\n",
       "      <th>jml_crh_hjn</th>\n",
       "      <th>kota</th>\n",
       "      <th>jml_hr_hjn</th>\n",
       "    </tr>\n",
       "  </thead>\n",
       "  <tbody>\n",
       "    <tr>\n",
       "      <th>1</th>\n",
       "      <td>2042</td>\n",
       "      <td>Bandung</td>\n",
       "      <td>252</td>\n",
       "    </tr>\n",
       "    <tr>\n",
       "      <th>2</th>\n",
       "      <td>2405</td>\n",
       "      <td>Semarang</td>\n",
       "      <td>211</td>\n",
       "    </tr>\n",
       "    <tr>\n",
       "      <th>3</th>\n",
       "      <td>1247</td>\n",
       "      <td>Jogjakarta</td>\n",
       "      <td>209</td>\n",
       "    </tr>\n",
       "    <tr>\n",
       "      <th>4</th>\n",
       "      <td>1789</td>\n",
       "      <td>Bekasi</td>\n",
       "      <td>217</td>\n",
       "    </tr>\n",
       "    <tr>\n",
       "      <th>5</th>\n",
       "      <td>3129</td>\n",
       "      <td>Surabaya</td>\n",
       "      <td>213</td>\n",
       "    </tr>\n",
       "  </tbody>\n",
       "</table>\n",
       "</div>"
      ],
      "text/plain": [
       "   jml_crh_hjn        kota  jml_hr_hjn\n",
       "1         2042     Bandung         252\n",
       "2         2405    Semarang         211\n",
       "3         1247  Jogjakarta         209\n",
       "4         1789      Bekasi         217\n",
       "5         3129    Surabaya         213"
      ]
     },
     "execution_count": 28,
     "metadata": {},
     "output_type": "execute_result"
    }
   ],
   "source": [
    "frame.tail()"
   ]
  },
  {
   "cell_type": "markdown",
   "id": "9ba82b26",
   "metadata": {},
   "source": [
    "**Fill columns argumen**"
   ]
  },
  {
   "cell_type": "code",
   "execution_count": 152,
   "id": "1415fa6e",
   "metadata": {},
   "outputs": [
    {
     "data": {
      "text/html": [
       "<div>\n",
       "<style scoped>\n",
       "    .dataframe tbody tr th:only-of-type {\n",
       "        vertical-align: middle;\n",
       "    }\n",
       "\n",
       "    .dataframe tbody tr th {\n",
       "        vertical-align: top;\n",
       "    }\n",
       "\n",
       "    .dataframe thead th {\n",
       "        text-align: right;\n",
       "    }\n",
       "</style>\n",
       "<table border=\"1\" class=\"dataframe\">\n",
       "  <thead>\n",
       "    <tr style=\"text-align: right;\">\n",
       "      <th></th>\n",
       "      <th>kota</th>\n",
       "      <th>jml_crh_hjn</th>\n",
       "      <th>jml_hr_hjn</th>\n",
       "    </tr>\n",
       "  </thead>\n",
       "  <tbody>\n",
       "    <tr>\n",
       "      <th>2001</th>\n",
       "      <td>Jakarta</td>\n",
       "      <td>1218</td>\n",
       "      <td>150</td>\n",
       "    </tr>\n",
       "    <tr>\n",
       "      <th>2002</th>\n",
       "      <td>Jakarta</td>\n",
       "      <td>1042</td>\n",
       "      <td>252</td>\n",
       "    </tr>\n",
       "    <tr>\n",
       "      <th>2003</th>\n",
       "      <td>Jakarta</td>\n",
       "      <td>1405</td>\n",
       "      <td>211</td>\n",
       "    </tr>\n",
       "    <tr>\n",
       "      <th>2004</th>\n",
       "      <td>Jakarta</td>\n",
       "      <td>1647</td>\n",
       "      <td>209</td>\n",
       "    </tr>\n",
       "    <tr>\n",
       "      <th>2005</th>\n",
       "      <td>Jakarta</td>\n",
       "      <td>1789</td>\n",
       "      <td>217</td>\n",
       "    </tr>\n",
       "    <tr>\n",
       "      <th>2006</th>\n",
       "      <td>Jakarta</td>\n",
       "      <td>1129</td>\n",
       "      <td>213</td>\n",
       "    </tr>\n",
       "  </tbody>\n",
       "</table>\n",
       "</div>"
      ],
      "text/plain": [
       "         kota  jml_crh_hjn  jml_hr_hjn\n",
       "2001  Jakarta         1218         150\n",
       "2002  Jakarta         1042         252\n",
       "2003  Jakarta         1405         211\n",
       "2004  Jakarta         1647         209\n",
       "2005  Jakarta         1789         217\n",
       "2006  Jakarta         1129         213"
      ]
     },
     "execution_count": 152,
     "metadata": {},
     "output_type": "execute_result"
    }
   ],
   "source": [
    "# Set value pada argumen columns\n",
    "frame2 = pd.DataFrame(data,columns=[\"kota\",\"jml_crh_hjn\",\"jml_hr_hjn\"])\n",
    "frame2"
   ]
  },
  {
   "cell_type": "code",
   "execution_count": 30,
   "id": "f316837d",
   "metadata": {},
   "outputs": [
    {
     "data": {
      "text/html": [
       "<div>\n",
       "<style scoped>\n",
       "    .dataframe tbody tr th:only-of-type {\n",
       "        vertical-align: middle;\n",
       "    }\n",
       "\n",
       "    .dataframe tbody tr th {\n",
       "        vertical-align: top;\n",
       "    }\n",
       "\n",
       "    .dataframe thead th {\n",
       "        text-align: right;\n",
       "    }\n",
       "</style>\n",
       "<table border=\"1\" class=\"dataframe\">\n",
       "  <thead>\n",
       "    <tr style=\"text-align: right;\">\n",
       "      <th></th>\n",
       "      <th>kota</th>\n",
       "      <th>jml_crh_hjn</th>\n",
       "      <th>jml_hr_hjn</th>\n",
       "      <th>latitude</th>\n",
       "      <th>longitude</th>\n",
       "    </tr>\n",
       "  </thead>\n",
       "  <tbody>\n",
       "    <tr>\n",
       "      <th>0</th>\n",
       "      <td>Jakarta</td>\n",
       "      <td>1268</td>\n",
       "      <td>150</td>\n",
       "      <td>NaN</td>\n",
       "      <td>NaN</td>\n",
       "    </tr>\n",
       "    <tr>\n",
       "      <th>1</th>\n",
       "      <td>Bandung</td>\n",
       "      <td>2042</td>\n",
       "      <td>252</td>\n",
       "      <td>NaN</td>\n",
       "      <td>NaN</td>\n",
       "    </tr>\n",
       "    <tr>\n",
       "      <th>2</th>\n",
       "      <td>Semarang</td>\n",
       "      <td>2405</td>\n",
       "      <td>211</td>\n",
       "      <td>NaN</td>\n",
       "      <td>NaN</td>\n",
       "    </tr>\n",
       "    <tr>\n",
       "      <th>3</th>\n",
       "      <td>Jogjakarta</td>\n",
       "      <td>1247</td>\n",
       "      <td>209</td>\n",
       "      <td>NaN</td>\n",
       "      <td>NaN</td>\n",
       "    </tr>\n",
       "    <tr>\n",
       "      <th>4</th>\n",
       "      <td>Bekasi</td>\n",
       "      <td>1789</td>\n",
       "      <td>217</td>\n",
       "      <td>NaN</td>\n",
       "      <td>NaN</td>\n",
       "    </tr>\n",
       "    <tr>\n",
       "      <th>5</th>\n",
       "      <td>Surabaya</td>\n",
       "      <td>3129</td>\n",
       "      <td>213</td>\n",
       "      <td>NaN</td>\n",
       "      <td>NaN</td>\n",
       "    </tr>\n",
       "  </tbody>\n",
       "</table>\n",
       "</div>"
      ],
      "text/plain": [
       "         kota  jml_crh_hjn  jml_hr_hjn latitude longitude\n",
       "0     Jakarta         1268         150      NaN       NaN\n",
       "1     Bandung         2042         252      NaN       NaN\n",
       "2    Semarang         2405         211      NaN       NaN\n",
       "3  Jogjakarta         1247         209      NaN       NaN\n",
       "4      Bekasi         1789         217      NaN       NaN\n",
       "5    Surabaya         3129         213      NaN       NaN"
      ]
     },
     "execution_count": 30,
     "metadata": {},
     "output_type": "execute_result"
    }
   ],
   "source": [
    "# Elemen pada columns yang tidak ada di key dari dictionary\n",
    "false_frame = pd.DataFrame(data,columns=[\"kota\",\"jml_crh_hjn\",\"jml_hr_hjn\",\"latitude\",\"longitude\"])\n",
    "false_frame"
   ]
  },
  {
   "cell_type": "markdown",
   "id": "ddda11df",
   "metadata": {},
   "source": [
    "**Mengambil data dari kolom-kolom pada df**"
   ]
  },
  {
   "cell_type": "code",
   "execution_count": 31,
   "id": "369fd677",
   "metadata": {},
   "outputs": [
    {
     "data": {
      "text/plain": [
       "0       Jakarta\n",
       "1       Bandung\n",
       "2      Semarang\n",
       "3    Jogjakarta\n",
       "4        Bekasi\n",
       "5      Surabaya\n",
       "Name: kota, dtype: object"
      ]
     },
     "execution_count": 31,
     "metadata": {},
     "output_type": "execute_result"
    }
   ],
   "source": [
    "# Menggunakan pengambilan seperti dictionary\n",
    "frame2[\"kota\"]"
   ]
  },
  {
   "cell_type": "code",
   "execution_count": 32,
   "id": "9efc0583",
   "metadata": {},
   "outputs": [
    {
     "data": {
      "text/plain": [
       "0    1268\n",
       "1    2042\n",
       "2    2405\n",
       "3    1247\n",
       "4    1789\n",
       "5    3129\n",
       "Name: jml_crh_hjn, dtype: int64"
      ]
     },
     "execution_count": 32,
     "metadata": {},
     "output_type": "execute_result"
    }
   ],
   "source": [
    "# Pengambilan menggunakan dot\n",
    "frame2.jml_crh_hjn"
   ]
  },
  {
   "cell_type": "code",
   "execution_count": 33,
   "id": "88965d14",
   "metadata": {},
   "outputs": [
    {
     "data": {
      "text/plain": [
       "(pandas.core.series.Series, pandas.core.series.Series)"
      ]
     },
     "execution_count": 33,
     "metadata": {},
     "output_type": "execute_result"
    }
   ],
   "source": [
    "# Column yang diambil dari df akan menjadi Series (one dimentional array)\n",
    "type(frame2[\"kota\"]), type(frame2.jml_crh_hjn)"
   ]
  },
  {
   "cell_type": "code",
   "execution_count": 34,
   "id": "2075da42",
   "metadata": {},
   "outputs": [
    {
     "data": {
      "text/html": [
       "<div>\n",
       "<style scoped>\n",
       "    .dataframe tbody tr th:only-of-type {\n",
       "        vertical-align: middle;\n",
       "    }\n",
       "\n",
       "    .dataframe tbody tr th {\n",
       "        vertical-align: top;\n",
       "    }\n",
       "\n",
       "    .dataframe thead th {\n",
       "        text-align: right;\n",
       "    }\n",
       "</style>\n",
       "<table border=\"1\" class=\"dataframe\">\n",
       "  <thead>\n",
       "    <tr style=\"text-align: right;\">\n",
       "      <th></th>\n",
       "      <th>kota</th>\n",
       "      <th>jml_crh_hjn</th>\n",
       "    </tr>\n",
       "  </thead>\n",
       "  <tbody>\n",
       "    <tr>\n",
       "      <th>0</th>\n",
       "      <td>Jakarta</td>\n",
       "      <td>1268</td>\n",
       "    </tr>\n",
       "    <tr>\n",
       "      <th>1</th>\n",
       "      <td>Bandung</td>\n",
       "      <td>2042</td>\n",
       "    </tr>\n",
       "    <tr>\n",
       "      <th>2</th>\n",
       "      <td>Semarang</td>\n",
       "      <td>2405</td>\n",
       "    </tr>\n",
       "    <tr>\n",
       "      <th>3</th>\n",
       "      <td>Jogjakarta</td>\n",
       "      <td>1247</td>\n",
       "    </tr>\n",
       "    <tr>\n",
       "      <th>4</th>\n",
       "      <td>Bekasi</td>\n",
       "      <td>1789</td>\n",
       "    </tr>\n",
       "    <tr>\n",
       "      <th>5</th>\n",
       "      <td>Surabaya</td>\n",
       "      <td>3129</td>\n",
       "    </tr>\n",
       "  </tbody>\n",
       "</table>\n",
       "</div>"
      ],
      "text/plain": [
       "         kota  jml_crh_hjn\n",
       "0     Jakarta         1268\n",
       "1     Bandung         2042\n",
       "2    Semarang         2405\n",
       "3  Jogjakarta         1247\n",
       "4      Bekasi         1789\n",
       "5    Surabaya         3129"
      ]
     },
     "execution_count": 34,
     "metadata": {},
     "output_type": "execute_result"
    }
   ],
   "source": [
    "# Mengambil banyak kolom\n",
    "frame2[[\"kota\",\"jml_crh_hjn\"]]"
   ]
  },
  {
   "cell_type": "code",
   "execution_count": 35,
   "id": "3487e9a1",
   "metadata": {},
   "outputs": [
    {
     "data": {
      "text/plain": [
       "Satu        Jakarta\n",
       "Dua         Bandung\n",
       "Tiga       Semarang\n",
       "Empat    Jogjakarta\n",
       "Lima         Bekasi\n",
       "Enam       Surabaya\n",
       "Name: kota, dtype: object"
      ]
     },
     "execution_count": 35,
     "metadata": {},
     "output_type": "execute_result"
    }
   ],
   "source": [
    "# Series akan mengambil index yang sama dengan df aslinya\n",
    "frame_test = pd.DataFrame(data,index=[\"Satu\",\"Dua\",\"Tiga\",\"Empat\",\"Lima\",\"Enam\"])\n",
    "frame_test.kota"
   ]
  },
  {
   "cell_type": "markdown",
   "id": "c07e278c",
   "metadata": {},
   "source": [
    "Fungsi `loc` & `iloc`\n",
    "\n",
    "- `loc` , *Access a group of rows and columns by label(s) or a boolean array.*\n",
    "- `iloc` , *Purely integer-location based indexing for selection by position.*"
   ]
  },
  {
   "cell_type": "code",
   "execution_count": 36,
   "id": "602edc8b",
   "metadata": {},
   "outputs": [
    {
     "data": {
      "text/plain": [
       "jml_crh_hjn          1247\n",
       "kota           Jogjakarta\n",
       "jml_hr_hjn            209\n",
       "Name: Empat, dtype: object"
      ]
     },
     "execution_count": 36,
     "metadata": {},
     "output_type": "execute_result"
    }
   ],
   "source": [
    "frame_test.loc['Empat']"
   ]
  },
  {
   "cell_type": "code",
   "execution_count": 37,
   "id": "7389fb7e",
   "metadata": {},
   "outputs": [
    {
     "data": {
      "text/plain": [
       "jml_crh_hjn          1247\n",
       "kota           Jogjakarta\n",
       "jml_hr_hjn            209\n",
       "Name: Empat, dtype: object"
      ]
     },
     "execution_count": 37,
     "metadata": {},
     "output_type": "execute_result"
    }
   ],
   "source": [
    "frame_test.iloc[3]"
   ]
  },
  {
   "cell_type": "markdown",
   "id": "3fd74725",
   "metadata": {},
   "source": [
    "Mengambil beberapa baris"
   ]
  },
  {
   "cell_type": "code",
   "execution_count": 38,
   "id": "a5031858",
   "metadata": {},
   "outputs": [
    {
     "data": {
      "text/html": [
       "<div>\n",
       "<style scoped>\n",
       "    .dataframe tbody tr th:only-of-type {\n",
       "        vertical-align: middle;\n",
       "    }\n",
       "\n",
       "    .dataframe tbody tr th {\n",
       "        vertical-align: top;\n",
       "    }\n",
       "\n",
       "    .dataframe thead th {\n",
       "        text-align: right;\n",
       "    }\n",
       "</style>\n",
       "<table border=\"1\" class=\"dataframe\">\n",
       "  <thead>\n",
       "    <tr style=\"text-align: right;\">\n",
       "      <th></th>\n",
       "      <th>jml_crh_hjn</th>\n",
       "      <th>kota</th>\n",
       "      <th>jml_hr_hjn</th>\n",
       "    </tr>\n",
       "  </thead>\n",
       "  <tbody>\n",
       "    <tr>\n",
       "      <th>Satu</th>\n",
       "      <td>1268</td>\n",
       "      <td>Jakarta</td>\n",
       "      <td>150</td>\n",
       "    </tr>\n",
       "    <tr>\n",
       "      <th>Dua</th>\n",
       "      <td>2042</td>\n",
       "      <td>Bandung</td>\n",
       "      <td>252</td>\n",
       "    </tr>\n",
       "  </tbody>\n",
       "</table>\n",
       "</div>"
      ],
      "text/plain": [
       "      jml_crh_hjn     kota  jml_hr_hjn\n",
       "Satu         1268  Jakarta         150\n",
       "Dua          2042  Bandung         252"
      ]
     },
     "execution_count": 38,
     "metadata": {},
     "output_type": "execute_result"
    }
   ],
   "source": [
    "# Mengambil banyak baris berdasarkan nomor posisi menggunakan slice\n",
    "frame_test.iloc[0:2]"
   ]
  },
  {
   "cell_type": "code",
   "execution_count": 39,
   "id": "5904c348",
   "metadata": {},
   "outputs": [
    {
     "data": {
      "text/html": [
       "<div>\n",
       "<style scoped>\n",
       "    .dataframe tbody tr th:only-of-type {\n",
       "        vertical-align: middle;\n",
       "    }\n",
       "\n",
       "    .dataframe tbody tr th {\n",
       "        vertical-align: top;\n",
       "    }\n",
       "\n",
       "    .dataframe thead th {\n",
       "        text-align: right;\n",
       "    }\n",
       "</style>\n",
       "<table border=\"1\" class=\"dataframe\">\n",
       "  <thead>\n",
       "    <tr style=\"text-align: right;\">\n",
       "      <th></th>\n",
       "      <th>jml_crh_hjn</th>\n",
       "      <th>kota</th>\n",
       "      <th>jml_hr_hjn</th>\n",
       "    </tr>\n",
       "  </thead>\n",
       "  <tbody>\n",
       "    <tr>\n",
       "      <th>Satu</th>\n",
       "      <td>1268</td>\n",
       "      <td>Jakarta</td>\n",
       "      <td>150</td>\n",
       "    </tr>\n",
       "    <tr>\n",
       "      <th>Empat</th>\n",
       "      <td>1247</td>\n",
       "      <td>Jogjakarta</td>\n",
       "      <td>209</td>\n",
       "    </tr>\n",
       "    <tr>\n",
       "      <th>Enam</th>\n",
       "      <td>3129</td>\n",
       "      <td>Surabaya</td>\n",
       "      <td>213</td>\n",
       "    </tr>\n",
       "    <tr>\n",
       "      <th>Lima</th>\n",
       "      <td>1789</td>\n",
       "      <td>Bekasi</td>\n",
       "      <td>217</td>\n",
       "    </tr>\n",
       "  </tbody>\n",
       "</table>\n",
       "</div>"
      ],
      "text/plain": [
       "       jml_crh_hjn        kota  jml_hr_hjn\n",
       "Satu          1268     Jakarta         150\n",
       "Empat         1247  Jogjakarta         209\n",
       "Enam          3129    Surabaya         213\n",
       "Lima          1789      Bekasi         217"
      ]
     },
     "execution_count": 39,
     "metadata": {},
     "output_type": "execute_result"
    }
   ],
   "source": [
    "# Mengambil banyak baris berdasarkan nomor posisi menggunakan list\n",
    "frame_test.iloc[[0,3,5,4]]"
   ]
  },
  {
   "cell_type": "code",
   "execution_count": 40,
   "id": "cb405bd1",
   "metadata": {},
   "outputs": [
    {
     "data": {
      "text/html": [
       "<div>\n",
       "<style scoped>\n",
       "    .dataframe tbody tr th:only-of-type {\n",
       "        vertical-align: middle;\n",
       "    }\n",
       "\n",
       "    .dataframe tbody tr th {\n",
       "        vertical-align: top;\n",
       "    }\n",
       "\n",
       "    .dataframe thead th {\n",
       "        text-align: right;\n",
       "    }\n",
       "</style>\n",
       "<table border=\"1\" class=\"dataframe\">\n",
       "  <thead>\n",
       "    <tr style=\"text-align: right;\">\n",
       "      <th></th>\n",
       "      <th>jml_crh_hjn</th>\n",
       "      <th>kota</th>\n",
       "      <th>jml_hr_hjn</th>\n",
       "    </tr>\n",
       "  </thead>\n",
       "  <tbody>\n",
       "    <tr>\n",
       "      <th>Dua</th>\n",
       "      <td>2042</td>\n",
       "      <td>Bandung</td>\n",
       "      <td>252</td>\n",
       "    </tr>\n",
       "    <tr>\n",
       "      <th>Lima</th>\n",
       "      <td>1789</td>\n",
       "      <td>Bekasi</td>\n",
       "      <td>217</td>\n",
       "    </tr>\n",
       "    <tr>\n",
       "      <th>Satu</th>\n",
       "      <td>1268</td>\n",
       "      <td>Jakarta</td>\n",
       "      <td>150</td>\n",
       "    </tr>\n",
       "    <tr>\n",
       "      <th>Enam</th>\n",
       "      <td>3129</td>\n",
       "      <td>Surabaya</td>\n",
       "      <td>213</td>\n",
       "    </tr>\n",
       "  </tbody>\n",
       "</table>\n",
       "</div>"
      ],
      "text/plain": [
       "      jml_crh_hjn      kota  jml_hr_hjn\n",
       "Dua          2042   Bandung         252\n",
       "Lima         1789    Bekasi         217\n",
       "Satu         1268   Jakarta         150\n",
       "Enam         3129  Surabaya         213"
      ]
     },
     "execution_count": 40,
     "metadata": {},
     "output_type": "execute_result"
    }
   ],
   "source": [
    "# Mengambil banyak baris berdasarkan label menggunakan list\n",
    "frame_test.loc[[\"Dua\",\"Lima\",\"Satu\",\"Enam\"]]"
   ]
  },
  {
   "cell_type": "markdown",
   "id": "778cd295",
   "metadata": {},
   "source": [
    "**Re-assignment** column"
   ]
  },
  {
   "cell_type": "code",
   "execution_count": 157,
   "id": "b7065ba3",
   "metadata": {},
   "outputs": [
    {
     "data": {
      "text/html": [
       "<div>\n",
       "<style scoped>\n",
       "    .dataframe tbody tr th:only-of-type {\n",
       "        vertical-align: middle;\n",
       "    }\n",
       "\n",
       "    .dataframe tbody tr th {\n",
       "        vertical-align: top;\n",
       "    }\n",
       "\n",
       "    .dataframe thead th {\n",
       "        text-align: right;\n",
       "    }\n",
       "</style>\n",
       "<table border=\"1\" class=\"dataframe\">\n",
       "  <thead>\n",
       "    <tr style=\"text-align: right;\">\n",
       "      <th></th>\n",
       "      <th>kota</th>\n",
       "      <th>jml_crh_hjn</th>\n",
       "      <th>jml_hr_hjn</th>\n",
       "    </tr>\n",
       "  </thead>\n",
       "  <tbody>\n",
       "    <tr>\n",
       "      <th>2001</th>\n",
       "      <td>Jakarta</td>\n",
       "      <td>1218</td>\n",
       "      <td>150</td>\n",
       "    </tr>\n",
       "    <tr>\n",
       "      <th>2002</th>\n",
       "      <td>Jakarta</td>\n",
       "      <td>1042</td>\n",
       "      <td>252</td>\n",
       "    </tr>\n",
       "    <tr>\n",
       "      <th>2003</th>\n",
       "      <td>Jakarta</td>\n",
       "      <td>1405</td>\n",
       "      <td>211</td>\n",
       "    </tr>\n",
       "    <tr>\n",
       "      <th>2004</th>\n",
       "      <td>Jakarta</td>\n",
       "      <td>1647</td>\n",
       "      <td>209</td>\n",
       "    </tr>\n",
       "    <tr>\n",
       "      <th>2005</th>\n",
       "      <td>Jakarta</td>\n",
       "      <td>1789</td>\n",
       "      <td>217</td>\n",
       "    </tr>\n",
       "    <tr>\n",
       "      <th>2006</th>\n",
       "      <td>Jakarta</td>\n",
       "      <td>1129</td>\n",
       "      <td>213</td>\n",
       "    </tr>\n",
       "  </tbody>\n",
       "</table>\n",
       "</div>"
      ],
      "text/plain": [
       "         kota  jml_crh_hjn  jml_hr_hjn\n",
       "2001  Jakarta         1218         150\n",
       "2002  Jakarta         1042         252\n",
       "2003  Jakarta         1405         211\n",
       "2004  Jakarta         1647         209\n",
       "2005  Jakarta         1789         217\n",
       "2006  Jakarta         1129         213"
      ]
     },
     "execution_count": 157,
     "metadata": {},
     "output_type": "execute_result"
    }
   ],
   "source": [
    "# Create new frame\n",
    "# Set value pada argumen columns\n",
    "frame3 = pd.DataFrame(data,columns=[\"kota\",\"jml_crh_hjn\",\"jml_hr_hjn\"])\n",
    "frame3"
   ]
  },
  {
   "cell_type": "code",
   "execution_count": 158,
   "id": "50c87943",
   "metadata": {},
   "outputs": [
    {
     "data": {
      "text/html": [
       "<div>\n",
       "<style scoped>\n",
       "    .dataframe tbody tr th:only-of-type {\n",
       "        vertical-align: middle;\n",
       "    }\n",
       "\n",
       "    .dataframe tbody tr th {\n",
       "        vertical-align: top;\n",
       "    }\n",
       "\n",
       "    .dataframe thead th {\n",
       "        text-align: right;\n",
       "    }\n",
       "</style>\n",
       "<table border=\"1\" class=\"dataframe\">\n",
       "  <thead>\n",
       "    <tr style=\"text-align: right;\">\n",
       "      <th></th>\n",
       "      <th>kota</th>\n",
       "      <th>jml_crh_hjn</th>\n",
       "      <th>jml_hr_hjn</th>\n",
       "    </tr>\n",
       "  </thead>\n",
       "  <tbody>\n",
       "    <tr>\n",
       "      <th>2001</th>\n",
       "      <td>Jakarta</td>\n",
       "      <td>1218</td>\n",
       "      <td>200</td>\n",
       "    </tr>\n",
       "    <tr>\n",
       "      <th>2002</th>\n",
       "      <td>Jakarta</td>\n",
       "      <td>1042</td>\n",
       "      <td>200</td>\n",
       "    </tr>\n",
       "    <tr>\n",
       "      <th>2003</th>\n",
       "      <td>Jakarta</td>\n",
       "      <td>1405</td>\n",
       "      <td>200</td>\n",
       "    </tr>\n",
       "    <tr>\n",
       "      <th>2004</th>\n",
       "      <td>Jakarta</td>\n",
       "      <td>1647</td>\n",
       "      <td>200</td>\n",
       "    </tr>\n",
       "    <tr>\n",
       "      <th>2005</th>\n",
       "      <td>Jakarta</td>\n",
       "      <td>1789</td>\n",
       "      <td>200</td>\n",
       "    </tr>\n",
       "    <tr>\n",
       "      <th>2006</th>\n",
       "      <td>Jakarta</td>\n",
       "      <td>1129</td>\n",
       "      <td>200</td>\n",
       "    </tr>\n",
       "  </tbody>\n",
       "</table>\n",
       "</div>"
      ],
      "text/plain": [
       "         kota  jml_crh_hjn  jml_hr_hjn\n",
       "2001  Jakarta         1218         200\n",
       "2002  Jakarta         1042         200\n",
       "2003  Jakarta         1405         200\n",
       "2004  Jakarta         1647         200\n",
       "2005  Jakarta         1789         200\n",
       "2006  Jakarta         1129         200"
      ]
     },
     "execution_count": 158,
     "metadata": {},
     "output_type": "execute_result"
    }
   ],
   "source": [
    "# Re-Assign value to column using asignement\n",
    "frame3[\"jml_hr_hjn\"] = 200\n",
    "frame3"
   ]
  },
  {
   "cell_type": "code",
   "execution_count": 164,
   "id": "61151e8e",
   "metadata": {},
   "outputs": [
    {
     "data": {
      "text/html": [
       "<div>\n",
       "<style scoped>\n",
       "    .dataframe tbody tr th:only-of-type {\n",
       "        vertical-align: middle;\n",
       "    }\n",
       "\n",
       "    .dataframe tbody tr th {\n",
       "        vertical-align: top;\n",
       "    }\n",
       "\n",
       "    .dataframe thead th {\n",
       "        text-align: right;\n",
       "    }\n",
       "</style>\n",
       "<table border=\"1\" class=\"dataframe\">\n",
       "  <thead>\n",
       "    <tr style=\"text-align: right;\">\n",
       "      <th></th>\n",
       "      <th>kota</th>\n",
       "      <th>jml_crh_hjn</th>\n",
       "      <th>jml_hr_hjn</th>\n",
       "    </tr>\n",
       "  </thead>\n",
       "  <tbody>\n",
       "    <tr>\n",
       "      <th>2001</th>\n",
       "      <td>Jakarta</td>\n",
       "      <td>1111</td>\n",
       "      <td>150</td>\n",
       "    </tr>\n",
       "    <tr>\n",
       "      <th>2002</th>\n",
       "      <td>Jakarta</td>\n",
       "      <td>2222</td>\n",
       "      <td>252</td>\n",
       "    </tr>\n",
       "    <tr>\n",
       "      <th>2003</th>\n",
       "      <td>Jakarta</td>\n",
       "      <td>3333</td>\n",
       "      <td>211</td>\n",
       "    </tr>\n",
       "    <tr>\n",
       "      <th>2004</th>\n",
       "      <td>Jakarta</td>\n",
       "      <td>4444</td>\n",
       "      <td>209</td>\n",
       "    </tr>\n",
       "    <tr>\n",
       "      <th>2005</th>\n",
       "      <td>Jakarta</td>\n",
       "      <td>5555</td>\n",
       "      <td>217</td>\n",
       "    </tr>\n",
       "    <tr>\n",
       "      <th>2006</th>\n",
       "      <td>Jakarta</td>\n",
       "      <td>6666</td>\n",
       "      <td>213</td>\n",
       "    </tr>\n",
       "  </tbody>\n",
       "</table>\n",
       "</div>"
      ],
      "text/plain": [
       "         kota  jml_crh_hjn  jml_hr_hjn\n",
       "2001  Jakarta         1111         150\n",
       "2002  Jakarta         2222         252\n",
       "2003  Jakarta         3333         211\n",
       "2004  Jakarta         4444         209\n",
       "2005  Jakarta         5555         217\n",
       "2006  Jakarta         6666         213"
      ]
     },
     "execution_count": 164,
     "metadata": {},
     "output_type": "execute_result"
    }
   ],
   "source": [
    "# Re-assign value with data aseries and index\n",
    "value = pd.Series([1111,5555,2222,4444,3333,6666],index=[2001,2005,2002,2004,2003,2006])\n",
    "frame3['jml_crh_hjn'] = value\n",
    "frame3"
   ]
  },
  {
   "cell_type": "code",
   "execution_count": 155,
   "id": "482e8927",
   "metadata": {},
   "outputs": [
    {
     "data": {
      "text/html": [
       "<div>\n",
       "<style scoped>\n",
       "    .dataframe tbody tr th:only-of-type {\n",
       "        vertical-align: middle;\n",
       "    }\n",
       "\n",
       "    .dataframe tbody tr th {\n",
       "        vertical-align: top;\n",
       "    }\n",
       "\n",
       "    .dataframe thead th {\n",
       "        text-align: right;\n",
       "    }\n",
       "</style>\n",
       "<table border=\"1\" class=\"dataframe\">\n",
       "  <thead>\n",
       "    <tr style=\"text-align: right;\">\n",
       "      <th></th>\n",
       "      <th>kota</th>\n",
       "      <th>jml_crh_hjn</th>\n",
       "      <th>jml_hr_hjn</th>\n",
       "    </tr>\n",
       "  </thead>\n",
       "  <tbody>\n",
       "    <tr>\n",
       "      <th>2001</th>\n",
       "      <td>Jakarta</td>\n",
       "      <td>NaN</td>\n",
       "      <td>200</td>\n",
       "    </tr>\n",
       "    <tr>\n",
       "      <th>2002</th>\n",
       "      <td>Jakarta</td>\n",
       "      <td>NaN</td>\n",
       "      <td>200</td>\n",
       "    </tr>\n",
       "    <tr>\n",
       "      <th>2003</th>\n",
       "      <td>Jakarta</td>\n",
       "      <td>NaN</td>\n",
       "      <td>200</td>\n",
       "    </tr>\n",
       "    <tr>\n",
       "      <th>2004</th>\n",
       "      <td>Jakarta</td>\n",
       "      <td>NaN</td>\n",
       "      <td>200</td>\n",
       "    </tr>\n",
       "    <tr>\n",
       "      <th>2005</th>\n",
       "      <td>Jakarta</td>\n",
       "      <td>NaN</td>\n",
       "      <td>200</td>\n",
       "    </tr>\n",
       "    <tr>\n",
       "      <th>2006</th>\n",
       "      <td>Jakarta</td>\n",
       "      <td>NaN</td>\n",
       "      <td>200</td>\n",
       "    </tr>\n",
       "  </tbody>\n",
       "</table>\n",
       "</div>"
      ],
      "text/plain": [
       "         kota  jml_crh_hjn  jml_hr_hjn\n",
       "2001  Jakarta          NaN         200\n",
       "2002  Jakarta          NaN         200\n",
       "2003  Jakarta          NaN         200\n",
       "2004  Jakarta          NaN         200\n",
       "2005  Jakarta          NaN         200\n",
       "2006  Jakarta          NaN         200"
      ]
     },
     "execution_count": 155,
     "metadata": {},
     "output_type": "execute_result"
    }
   ],
   "source": [
    "# Re-Assign value using asignment\n",
    "frame3[\"jml_crh_hjn\"] = np.arange(6.)\n",
    "frame3\n",
    "\n",
    "# Jika panjang adari Series array atau panda series tidak sama dengan panjang dari baris DataFrame\n",
    "# nilai menjadi missing\n",
    "values = pd.Series([2.,3.,4.], index=[\"One\", \"Two\",\"Three\"])\n",
    "frame3[\"jml_crh_hjn\"] = values\n",
    "frame3"
   ]
  },
  {
   "cell_type": "code",
   "execution_count": 150,
   "id": "98faafd1",
   "metadata": {},
   "outputs": [
    {
     "data": {
      "text/html": [
       "<div>\n",
       "<style scoped>\n",
       "    .dataframe tbody tr th:only-of-type {\n",
       "        vertical-align: middle;\n",
       "    }\n",
       "\n",
       "    .dataframe tbody tr th {\n",
       "        vertical-align: top;\n",
       "    }\n",
       "\n",
       "    .dataframe thead th {\n",
       "        text-align: right;\n",
       "    }\n",
       "</style>\n",
       "<table border=\"1\" class=\"dataframe\">\n",
       "  <thead>\n",
       "    <tr style=\"text-align: right;\">\n",
       "      <th></th>\n",
       "      <th>kota</th>\n",
       "      <th>jml_crh_hjn</th>\n",
       "      <th>jml_hr_hjn</th>\n",
       "    </tr>\n",
       "  </thead>\n",
       "  <tbody>\n",
       "    <tr>\n",
       "      <th>0</th>\n",
       "      <td>Jakarta</td>\n",
       "      <td>NaN</td>\n",
       "      <td>200</td>\n",
       "    </tr>\n",
       "    <tr>\n",
       "      <th>1</th>\n",
       "      <td>Bandung</td>\n",
       "      <td>NaN</td>\n",
       "      <td>200</td>\n",
       "    </tr>\n",
       "    <tr>\n",
       "      <th>2</th>\n",
       "      <td>Semarang</td>\n",
       "      <td>NaN</td>\n",
       "      <td>200</td>\n",
       "    </tr>\n",
       "    <tr>\n",
       "      <th>3</th>\n",
       "      <td>Jogjakarta</td>\n",
       "      <td>NaN</td>\n",
       "      <td>200</td>\n",
       "    </tr>\n",
       "    <tr>\n",
       "      <th>4</th>\n",
       "      <td>Bekasi</td>\n",
       "      <td>NaN</td>\n",
       "      <td>200</td>\n",
       "    </tr>\n",
       "    <tr>\n",
       "      <th>5</th>\n",
       "      <td>Surabaya</td>\n",
       "      <td>NaN</td>\n",
       "      <td>200</td>\n",
       "    </tr>\n",
       "  </tbody>\n",
       "</table>\n",
       "</div>"
      ],
      "text/plain": [
       "         kota  jml_crh_hjn  jml_hr_hjn\n",
       "0     Jakarta          NaN         200\n",
       "1     Bandung          NaN         200\n",
       "2    Semarang          NaN         200\n",
       "3  Jogjakarta          NaN         200\n",
       "4      Bekasi          NaN         200\n",
       "5    Surabaya          NaN         200"
      ]
     },
     "execution_count": 150,
     "metadata": {},
     "output_type": "execute_result"
    }
   ],
   "source": [
    "frame3"
   ]
  },
  {
   "cell_type": "code",
   "execution_count": 171,
   "id": "4d54f4b5",
   "metadata": {},
   "outputs": [
    {
     "data": {
      "text/html": [
       "<div>\n",
       "<style scoped>\n",
       "    .dataframe tbody tr th:only-of-type {\n",
       "        vertical-align: middle;\n",
       "    }\n",
       "\n",
       "    .dataframe tbody tr th {\n",
       "        vertical-align: top;\n",
       "    }\n",
       "\n",
       "    .dataframe thead th {\n",
       "        text-align: right;\n",
       "    }\n",
       "</style>\n",
       "<table border=\"1\" class=\"dataframe\">\n",
       "  <thead>\n",
       "    <tr style=\"text-align: right;\">\n",
       "      <th></th>\n",
       "      <th>kota</th>\n",
       "      <th>jml_crh_hjn</th>\n",
       "      <th>jml_hr_hjn</th>\n",
       "    </tr>\n",
       "  </thead>\n",
       "  <tbody>\n",
       "    <tr>\n",
       "      <th>0</th>\n",
       "      <td>Jakarta</td>\n",
       "      <td>1268</td>\n",
       "      <td>150</td>\n",
       "    </tr>\n",
       "    <tr>\n",
       "      <th>1</th>\n",
       "      <td>Bandung</td>\n",
       "      <td>2042</td>\n",
       "      <td>252</td>\n",
       "    </tr>\n",
       "    <tr>\n",
       "      <th>2</th>\n",
       "      <td>Semarang</td>\n",
       "      <td>2405</td>\n",
       "      <td>211</td>\n",
       "    </tr>\n",
       "    <tr>\n",
       "      <th>3</th>\n",
       "      <td>Jogjakarta</td>\n",
       "      <td>1247</td>\n",
       "      <td>209</td>\n",
       "    </tr>\n",
       "    <tr>\n",
       "      <th>4</th>\n",
       "      <td>Bekasi</td>\n",
       "      <td>1789</td>\n",
       "      <td>217</td>\n",
       "    </tr>\n",
       "    <tr>\n",
       "      <th>5</th>\n",
       "      <td>Surabaya</td>\n",
       "      <td>3129</td>\n",
       "      <td>213</td>\n",
       "    </tr>\n",
       "  </tbody>\n",
       "</table>\n",
       "</div>"
      ],
      "text/plain": [
       "         kota  jml_crh_hjn  jml_hr_hjn\n",
       "0     Jakarta         1268         150\n",
       "1     Bandung         2042         252\n",
       "2    Semarang         2405         211\n",
       "3  Jogjakarta         1247         209\n",
       "4      Bekasi         1789         217\n",
       "5    Surabaya         3129         213"
      ]
     },
     "execution_count": 171,
     "metadata": {},
     "output_type": "execute_result"
    }
   ],
   "source": [
    "# Create new dataframe\n",
    "data = {'kota':['Jakarta','Bandung','Semarang','Jogjakarta','Bekasi','Surabaya'],\n",
    "        'jml_crh_hjn':[1_268,2_042,2_405,1_247,1_789,3_129],\n",
    "        'jml_hr_hjn':[150,252,211,209,217,213]}\n",
    "\n",
    "frame4 = pd.DataFrame(data)\n",
    "frame4"
   ]
  },
  {
   "cell_type": "code",
   "execution_count": 172,
   "id": "706f3708",
   "metadata": {},
   "outputs": [
    {
     "data": {
      "text/html": [
       "<div>\n",
       "<style scoped>\n",
       "    .dataframe tbody tr th:only-of-type {\n",
       "        vertical-align: middle;\n",
       "    }\n",
       "\n",
       "    .dataframe tbody tr th {\n",
       "        vertical-align: top;\n",
       "    }\n",
       "\n",
       "    .dataframe thead th {\n",
       "        text-align: right;\n",
       "    }\n",
       "</style>\n",
       "<table border=\"1\" class=\"dataframe\">\n",
       "  <thead>\n",
       "    <tr style=\"text-align: right;\">\n",
       "      <th></th>\n",
       "      <th>kota</th>\n",
       "      <th>jml_crh_hjn</th>\n",
       "      <th>jml_hr_hjn</th>\n",
       "      <th>ptns_bnjr</th>\n",
       "    </tr>\n",
       "  </thead>\n",
       "  <tbody>\n",
       "    <tr>\n",
       "      <th>0</th>\n",
       "      <td>Jakarta</td>\n",
       "      <td>1268</td>\n",
       "      <td>150</td>\n",
       "      <td>False</td>\n",
       "    </tr>\n",
       "    <tr>\n",
       "      <th>1</th>\n",
       "      <td>Bandung</td>\n",
       "      <td>2042</td>\n",
       "      <td>252</td>\n",
       "      <td>True</td>\n",
       "    </tr>\n",
       "    <tr>\n",
       "      <th>2</th>\n",
       "      <td>Semarang</td>\n",
       "      <td>2405</td>\n",
       "      <td>211</td>\n",
       "      <td>False</td>\n",
       "    </tr>\n",
       "    <tr>\n",
       "      <th>3</th>\n",
       "      <td>Jogjakarta</td>\n",
       "      <td>1247</td>\n",
       "      <td>209</td>\n",
       "      <td>False</td>\n",
       "    </tr>\n",
       "    <tr>\n",
       "      <th>4</th>\n",
       "      <td>Bekasi</td>\n",
       "      <td>1789</td>\n",
       "      <td>217</td>\n",
       "      <td>False</td>\n",
       "    </tr>\n",
       "    <tr>\n",
       "      <th>5</th>\n",
       "      <td>Surabaya</td>\n",
       "      <td>3129</td>\n",
       "      <td>213</td>\n",
       "      <td>True</td>\n",
       "    </tr>\n",
       "  </tbody>\n",
       "</table>\n",
       "</div>"
      ],
      "text/plain": [
       "         kota  jml_crh_hjn  jml_hr_hjn  ptns_bnjr\n",
       "0     Jakarta         1268         150      False\n",
       "1     Bandung         2042         252       True\n",
       "2    Semarang         2405         211      False\n",
       "3  Jogjakarta         1247         209      False\n",
       "4      Bekasi         1789         217      False\n",
       "5    Surabaya         3129         213       True"
      ]
     },
     "execution_count": 172,
     "metadata": {},
     "output_type": "execute_result"
    }
   ],
   "source": [
    "# Meng-assign sebuah kolom yang tidak ada akan membuat kolom baru\n",
    "# Membuat df menggunakan dict python\n",
    "potensi_banjir = (frame4['jml_crh_hjn']/366>5) & (frame4['jml_hr_hjn']>211)\n",
    "frame4[\"ptns_bnjr\"] = potensi_banjir\n",
    "frame4"
   ]
  },
  {
   "cell_type": "markdown",
   "id": "ec74e468",
   "metadata": {},
   "source": [
    "Fungsi **del** digunakna untuk menghapus kolom"
   ]
  },
  {
   "cell_type": "code",
   "execution_count": 173,
   "id": "18aa0370",
   "metadata": {},
   "outputs": [
    {
     "name": "stdout",
     "output_type": "stream",
     "text": [
      "Kolom berhasil dihapus\n"
     ]
    }
   ],
   "source": [
    "try:\n",
    "    del frame4[\"ptns_bnjr\"]\n",
    "    print(\"Kolom berhasil dihapus\")\n",
    "except Exception as ex:\n",
    "    print(\"Kolom telah terhapus\")\n",
    "    "
   ]
  },
  {
   "cell_type": "code",
   "execution_count": 174,
   "id": "44789f6b",
   "metadata": {},
   "outputs": [
    {
     "data": {
      "text/html": [
       "<div>\n",
       "<style scoped>\n",
       "    .dataframe tbody tr th:only-of-type {\n",
       "        vertical-align: middle;\n",
       "    }\n",
       "\n",
       "    .dataframe tbody tr th {\n",
       "        vertical-align: top;\n",
       "    }\n",
       "\n",
       "    .dataframe thead th {\n",
       "        text-align: right;\n",
       "    }\n",
       "</style>\n",
       "<table border=\"1\" class=\"dataframe\">\n",
       "  <thead>\n",
       "    <tr style=\"text-align: right;\">\n",
       "      <th></th>\n",
       "      <th>kota</th>\n",
       "      <th>jml_crh_hjn</th>\n",
       "      <th>jml_hr_hjn</th>\n",
       "    </tr>\n",
       "  </thead>\n",
       "  <tbody>\n",
       "    <tr>\n",
       "      <th>0</th>\n",
       "      <td>Jakarta</td>\n",
       "      <td>1268</td>\n",
       "      <td>150</td>\n",
       "    </tr>\n",
       "    <tr>\n",
       "      <th>1</th>\n",
       "      <td>Bandung</td>\n",
       "      <td>2042</td>\n",
       "      <td>252</td>\n",
       "    </tr>\n",
       "    <tr>\n",
       "      <th>2</th>\n",
       "      <td>Semarang</td>\n",
       "      <td>2405</td>\n",
       "      <td>211</td>\n",
       "    </tr>\n",
       "    <tr>\n",
       "      <th>3</th>\n",
       "      <td>Jogjakarta</td>\n",
       "      <td>1247</td>\n",
       "      <td>209</td>\n",
       "    </tr>\n",
       "    <tr>\n",
       "      <th>4</th>\n",
       "      <td>Bekasi</td>\n",
       "      <td>1789</td>\n",
       "      <td>217</td>\n",
       "    </tr>\n",
       "    <tr>\n",
       "      <th>5</th>\n",
       "      <td>Surabaya</td>\n",
       "      <td>3129</td>\n",
       "      <td>213</td>\n",
       "    </tr>\n",
       "  </tbody>\n",
       "</table>\n",
       "</div>"
      ],
      "text/plain": [
       "         kota  jml_crh_hjn  jml_hr_hjn\n",
       "0     Jakarta         1268         150\n",
       "1     Bandung         2042         252\n",
       "2    Semarang         2405         211\n",
       "3  Jogjakarta         1247         209\n",
       "4      Bekasi         1789         217\n",
       "5    Surabaya         3129         213"
      ]
     },
     "execution_count": 174,
     "metadata": {},
     "output_type": "execute_result"
    }
   ],
   "source": [
    "# Kolom potensi banjir telah dihapus\n",
    "frame4"
   ]
  },
  {
   "cell_type": "markdown",
   "id": "8ab27073",
   "metadata": {},
   "source": [
    "**Nested Dictionary**\n",
    "\n",
    "Inner index dimension akan menjadi nama index\n",
    "\n",
    "Outer index akan menjadi nama kolom"
   ]
  },
  {
   "cell_type": "code",
   "execution_count": 212,
   "id": "1974b8c0",
   "metadata": {},
   "outputs": [],
   "source": [
    "data5 = {'kota':{2001:'Jakarta',2002:'Jakarta',2003:'Jakarta',2004:'Jakarta',2005:'Jakarta',2006:'Jakarta'},\n",
    "        'jml_crh_hjn':{2001:1_218,2002:1_042,2003:1_405,2004:1_647,2005:1_789,2006:1_129},\n",
    "        'jml_hr_hjn':{2001:150,2002:252,2003:211,2004:209,2005:217,2006:213}}"
   ]
  },
  {
   "cell_type": "code",
   "execution_count": 213,
   "id": "169ba539",
   "metadata": {},
   "outputs": [
    {
     "data": {
      "text/html": [
       "<div>\n",
       "<style scoped>\n",
       "    .dataframe tbody tr th:only-of-type {\n",
       "        vertical-align: middle;\n",
       "    }\n",
       "\n",
       "    .dataframe tbody tr th {\n",
       "        vertical-align: top;\n",
       "    }\n",
       "\n",
       "    .dataframe thead th {\n",
       "        text-align: right;\n",
       "    }\n",
       "</style>\n",
       "<table border=\"1\" class=\"dataframe\">\n",
       "  <thead>\n",
       "    <tr style=\"text-align: right;\">\n",
       "      <th></th>\n",
       "      <th>kota</th>\n",
       "      <th>jml_crh_hjn</th>\n",
       "      <th>jml_hr_hjn</th>\n",
       "    </tr>\n",
       "  </thead>\n",
       "  <tbody>\n",
       "    <tr>\n",
       "      <th>2001</th>\n",
       "      <td>Jakarta</td>\n",
       "      <td>1218</td>\n",
       "      <td>150</td>\n",
       "    </tr>\n",
       "    <tr>\n",
       "      <th>2002</th>\n",
       "      <td>Jakarta</td>\n",
       "      <td>1042</td>\n",
       "      <td>252</td>\n",
       "    </tr>\n",
       "    <tr>\n",
       "      <th>2003</th>\n",
       "      <td>Jakarta</td>\n",
       "      <td>1405</td>\n",
       "      <td>211</td>\n",
       "    </tr>\n",
       "    <tr>\n",
       "      <th>2004</th>\n",
       "      <td>Jakarta</td>\n",
       "      <td>1647</td>\n",
       "      <td>209</td>\n",
       "    </tr>\n",
       "    <tr>\n",
       "      <th>2005</th>\n",
       "      <td>Jakarta</td>\n",
       "      <td>1789</td>\n",
       "      <td>217</td>\n",
       "    </tr>\n",
       "    <tr>\n",
       "      <th>2006</th>\n",
       "      <td>Jakarta</td>\n",
       "      <td>1129</td>\n",
       "      <td>213</td>\n",
       "    </tr>\n",
       "  </tbody>\n",
       "</table>\n",
       "</div>"
      ],
      "text/plain": [
       "         kota  jml_crh_hjn  jml_hr_hjn\n",
       "2001  Jakarta         1218         150\n",
       "2002  Jakarta         1042         252\n",
       "2003  Jakarta         1405         211\n",
       "2004  Jakarta         1647         209\n",
       "2005  Jakarta         1789         217\n",
       "2006  Jakarta         1129         213"
      ]
     },
     "execution_count": 213,
     "metadata": {},
     "output_type": "execute_result"
    }
   ],
   "source": [
    "frame5 = pd.DataFrame(data5)\n",
    "frame5"
   ]
  },
  {
   "cell_type": "code",
   "execution_count": 214,
   "id": "56f24d2a",
   "metadata": {},
   "outputs": [
    {
     "data": {
      "text/html": [
       "<div>\n",
       "<style scoped>\n",
       "    .dataframe tbody tr th:only-of-type {\n",
       "        vertical-align: middle;\n",
       "    }\n",
       "\n",
       "    .dataframe tbody tr th {\n",
       "        vertical-align: top;\n",
       "    }\n",
       "\n",
       "    .dataframe thead th {\n",
       "        text-align: right;\n",
       "    }\n",
       "</style>\n",
       "<table border=\"1\" class=\"dataframe\">\n",
       "  <thead>\n",
       "    <tr style=\"text-align: right;\">\n",
       "      <th></th>\n",
       "      <th>2001</th>\n",
       "      <th>2002</th>\n",
       "      <th>2003</th>\n",
       "      <th>2004</th>\n",
       "      <th>2005</th>\n",
       "      <th>2006</th>\n",
       "    </tr>\n",
       "  </thead>\n",
       "  <tbody>\n",
       "    <tr>\n",
       "      <th>kota</th>\n",
       "      <td>Jakarta</td>\n",
       "      <td>Jakarta</td>\n",
       "      <td>Jakarta</td>\n",
       "      <td>Jakarta</td>\n",
       "      <td>Jakarta</td>\n",
       "      <td>Jakarta</td>\n",
       "    </tr>\n",
       "    <tr>\n",
       "      <th>jml_crh_hjn</th>\n",
       "      <td>1218</td>\n",
       "      <td>1042</td>\n",
       "      <td>1405</td>\n",
       "      <td>1647</td>\n",
       "      <td>1789</td>\n",
       "      <td>1129</td>\n",
       "    </tr>\n",
       "    <tr>\n",
       "      <th>jml_hr_hjn</th>\n",
       "      <td>150</td>\n",
       "      <td>252</td>\n",
       "      <td>211</td>\n",
       "      <td>209</td>\n",
       "      <td>217</td>\n",
       "      <td>213</td>\n",
       "    </tr>\n",
       "  </tbody>\n",
       "</table>\n",
       "</div>"
      ],
      "text/plain": [
       "                2001     2002     2003     2004     2005     2006\n",
       "kota         Jakarta  Jakarta  Jakarta  Jakarta  Jakarta  Jakarta\n",
       "jml_crh_hjn     1218     1042     1405     1647     1789     1129\n",
       "jml_hr_hjn       150      252      211      209      217      213"
      ]
     },
     "execution_count": 214,
     "metadata": {},
     "output_type": "execute_result"
    }
   ],
   "source": [
    "# Transpose DataFrame\n",
    "frame5_transpose = frame5.T\n",
    "frame5_transpose"
   ]
  },
  {
   "cell_type": "code",
   "execution_count": 215,
   "id": "d291f8e1",
   "metadata": {},
   "outputs": [
    {
     "data": {
      "text/plain": [
       "(dtype('O'), dtype('O'))"
      ]
     },
     "execution_count": 215,
     "metadata": {},
     "output_type": "execute_result"
    }
   ],
   "source": [
    "# check tipe data\n",
    "frame5_transpose[2001].dtype, frame5_transpose[2005].dtype"
   ]
  },
  {
   "cell_type": "code",
   "execution_count": 216,
   "id": "ab8605ed",
   "metadata": {},
   "outputs": [
    {
     "data": {
      "text/plain": [
       "(dtype('O'), dtype('int64'))"
      ]
     },
     "execution_count": 216,
     "metadata": {},
     "output_type": "execute_result"
    }
   ],
   "source": [
    "# Transposing transposed frame\n",
    "frame5_tranpose_2times = frame5_transpose.T\n",
    "frame5_tranpose_2times['jml_hr_hjn'].dtype, frame5['jml_hr_hjn'].dtype"
   ]
  },
  {
   "cell_type": "markdown",
   "id": "e1c0ed35",
   "metadata": {},
   "source": [
    "Mismatch antara *inner key* (akan dianggap sebagai index pada nested dictionary) dengan argumen index"
   ]
  },
  {
   "cell_type": "code",
   "execution_count": 218,
   "id": "6f532262",
   "metadata": {},
   "outputs": [
    {
     "data": {
      "text/html": [
       "<div>\n",
       "<style scoped>\n",
       "    .dataframe tbody tr th:only-of-type {\n",
       "        vertical-align: middle;\n",
       "    }\n",
       "\n",
       "    .dataframe tbody tr th {\n",
       "        vertical-align: top;\n",
       "    }\n",
       "\n",
       "    .dataframe thead th {\n",
       "        text-align: right;\n",
       "    }\n",
       "</style>\n",
       "<table border=\"1\" class=\"dataframe\">\n",
       "  <thead>\n",
       "    <tr style=\"text-align: right;\">\n",
       "      <th></th>\n",
       "      <th>kota</th>\n",
       "      <th>jml_crh_hjn</th>\n",
       "      <th>jml_hr_hjn</th>\n",
       "    </tr>\n",
       "  </thead>\n",
       "  <tbody>\n",
       "    <tr>\n",
       "      <th>2001</th>\n",
       "      <td>Jakarta</td>\n",
       "      <td>1218.0</td>\n",
       "      <td>150.0</td>\n",
       "    </tr>\n",
       "    <tr>\n",
       "      <th>2022</th>\n",
       "      <td>NaN</td>\n",
       "      <td>NaN</td>\n",
       "      <td>NaN</td>\n",
       "    </tr>\n",
       "    <tr>\n",
       "      <th>2023</th>\n",
       "      <td>NaN</td>\n",
       "      <td>NaN</td>\n",
       "      <td>NaN</td>\n",
       "    </tr>\n",
       "    <tr>\n",
       "      <th>2024</th>\n",
       "      <td>NaN</td>\n",
       "      <td>NaN</td>\n",
       "      <td>NaN</td>\n",
       "    </tr>\n",
       "    <tr>\n",
       "      <th>2005</th>\n",
       "      <td>Jakarta</td>\n",
       "      <td>1789.0</td>\n",
       "      <td>217.0</td>\n",
       "    </tr>\n",
       "    <tr>\n",
       "      <th>2006</th>\n",
       "      <td>Jakarta</td>\n",
       "      <td>1129.0</td>\n",
       "      <td>213.0</td>\n",
       "    </tr>\n",
       "  </tbody>\n",
       "</table>\n",
       "</div>"
      ],
      "text/plain": [
       "         kota  jml_crh_hjn  jml_hr_hjn\n",
       "2001  Jakarta       1218.0       150.0\n",
       "2022      NaN          NaN         NaN\n",
       "2023      NaN          NaN         NaN\n",
       "2024      NaN          NaN         NaN\n",
       "2005  Jakarta       1789.0       217.0\n",
       "2006  Jakarta       1129.0       213.0"
      ]
     },
     "execution_count": 218,
     "metadata": {},
     "output_type": "execute_result"
    }
   ],
   "source": [
    "frame5_mismatch_index = pd.DataFrame(data5, index=[2001,2022,2023,2024,2005,2006])\n",
    "frame5_mismatch_index"
   ]
  },
  {
   "cell_type": "markdown",
   "id": "4523bbe0",
   "metadata": {},
   "source": [
    "Dictonary of the serries"
   ]
  },
  {
   "cell_type": "code",
   "execution_count": 228,
   "id": "b60fe317",
   "metadata": {},
   "outputs": [
    {
     "data": {
      "text/html": [
       "<div>\n",
       "<style scoped>\n",
       "    .dataframe tbody tr th:only-of-type {\n",
       "        vertical-align: middle;\n",
       "    }\n",
       "\n",
       "    .dataframe tbody tr th {\n",
       "        vertical-align: top;\n",
       "    }\n",
       "\n",
       "    .dataframe thead th {\n",
       "        text-align: right;\n",
       "    }\n",
       "</style>\n",
       "<table border=\"1\" class=\"dataframe\">\n",
       "  <thead>\n",
       "    <tr style=\"text-align: right;\">\n",
       "      <th></th>\n",
       "      <th>kota</th>\n",
       "      <th>crh_hjn</th>\n",
       "    </tr>\n",
       "  </thead>\n",
       "  <tbody>\n",
       "    <tr>\n",
       "      <th>2001</th>\n",
       "      <td>Jakarta</td>\n",
       "      <td>123</td>\n",
       "    </tr>\n",
       "    <tr>\n",
       "      <th>2003</th>\n",
       "      <td>Jakarta</td>\n",
       "      <td>456</td>\n",
       "    </tr>\n",
       "    <tr>\n",
       "      <th>2004</th>\n",
       "      <td>Jakarta</td>\n",
       "      <td>789</td>\n",
       "    </tr>\n",
       "    <tr>\n",
       "      <th>2005</th>\n",
       "      <td>Jakarta</td>\n",
       "      <td>1011</td>\n",
       "    </tr>\n",
       "  </tbody>\n",
       "</table>\n",
       "</div>"
      ],
      "text/plain": [
       "         kota  crh_hjn\n",
       "2001  Jakarta      123\n",
       "2003  Jakarta      456\n",
       "2004  Jakarta      789\n",
       "2005  Jakarta     1011"
      ]
     },
     "execution_count": 228,
     "metadata": {},
     "output_type": "execute_result"
    }
   ],
   "source": [
    "ser_crh_hjn = {\"kota\":frame5[frame5['jml_crh_hjn'] > 1200]['kota'],\"crh_hjn\":[123,456,789,1011]}\n",
    "frame_series = pd.DataFrame(ser_crh_hjn)\n",
    "frame_series"
   ]
  },
  {
   "cell_type": "code",
   "execution_count": 237,
   "id": "9652c9ad",
   "metadata": {},
   "outputs": [
    {
     "data": {
      "text/html": [
       "<div>\n",
       "<style scoped>\n",
       "    .dataframe tbody tr th:only-of-type {\n",
       "        vertical-align: middle;\n",
       "    }\n",
       "\n",
       "    .dataframe tbody tr th {\n",
       "        vertical-align: top;\n",
       "    }\n",
       "\n",
       "    .dataframe thead th {\n",
       "        text-align: right;\n",
       "    }\n",
       "</style>\n",
       "<table border=\"1\" class=\"dataframe\">\n",
       "  <thead>\n",
       "    <tr style=\"text-align: right;\">\n",
       "      <th>Details</th>\n",
       "      <th>kota</th>\n",
       "      <th>jml_crh_hjn</th>\n",
       "      <th>jml_hr_hjn</th>\n",
       "    </tr>\n",
       "    <tr>\n",
       "      <th>Tahun</th>\n",
       "      <th></th>\n",
       "      <th></th>\n",
       "      <th></th>\n",
       "    </tr>\n",
       "  </thead>\n",
       "  <tbody>\n",
       "    <tr>\n",
       "      <th>2001</th>\n",
       "      <td>Jakarta</td>\n",
       "      <td>1218</td>\n",
       "      <td>150</td>\n",
       "    </tr>\n",
       "    <tr>\n",
       "      <th>2002</th>\n",
       "      <td>Jakarta</td>\n",
       "      <td>1042</td>\n",
       "      <td>252</td>\n",
       "    </tr>\n",
       "    <tr>\n",
       "      <th>2003</th>\n",
       "      <td>Jakarta</td>\n",
       "      <td>1405</td>\n",
       "      <td>211</td>\n",
       "    </tr>\n",
       "    <tr>\n",
       "      <th>2004</th>\n",
       "      <td>Jakarta</td>\n",
       "      <td>1647</td>\n",
       "      <td>209</td>\n",
       "    </tr>\n",
       "    <tr>\n",
       "      <th>2005</th>\n",
       "      <td>Jakarta</td>\n",
       "      <td>1789</td>\n",
       "      <td>217</td>\n",
       "    </tr>\n",
       "    <tr>\n",
       "      <th>2006</th>\n",
       "      <td>Jakarta</td>\n",
       "      <td>1129</td>\n",
       "      <td>213</td>\n",
       "    </tr>\n",
       "  </tbody>\n",
       "</table>\n",
       "</div>"
      ],
      "text/plain": [
       "Details     kota  jml_crh_hjn  jml_hr_hjn\n",
       "Tahun                                    \n",
       "2001     Jakarta         1218         150\n",
       "2002     Jakarta         1042         252\n",
       "2003     Jakarta         1405         211\n",
       "2004     Jakarta         1647         209\n",
       "2005     Jakarta         1789         217\n",
       "2006     Jakarta         1129         213"
      ]
     },
     "execution_count": 237,
     "metadata": {},
     "output_type": "execute_result"
    }
   ],
   "source": [
    "frame5.index.name = \"Tahun\"\n",
    "frame5.columns.name = \"Details\"\n",
    "frame5"
   ]
  },
  {
   "cell_type": "markdown",
   "id": "f3dc2c45",
   "metadata": {},
   "source": [
    "Fungsi **to_numpy**, akan mengkonvers dataframe kedalam dua dimensi array (numpy)"
   ]
  },
  {
   "cell_type": "code",
   "execution_count": 246,
   "id": "5b0ff720",
   "metadata": {},
   "outputs": [
    {
     "data": {
      "text/plain": [
       "array([['Jakarta', 1218, 150],\n",
       "       ['Jakarta', 1042, 252],\n",
       "       ['Jakarta', 1405, 211],\n",
       "       ['Jakarta', 1647, 209],\n",
       "       ['Jakarta', 1789, 217],\n",
       "       ['Jakarta', 1129, 213]], dtype=object)"
      ]
     },
     "execution_count": 246,
     "metadata": {},
     "output_type": "execute_result"
    }
   ],
   "source": [
    "# Dua dimensi array\n",
    "frame5.to_numpy()"
   ]
  },
  {
   "cell_type": "code",
   "execution_count": 248,
   "id": "163576e7",
   "metadata": {},
   "outputs": [
    {
     "data": {
      "text/plain": [
       "array([['Jakarta', 'Jakarta', 'Jakarta', 'Jakarta', 'Jakarta', 'Jakarta'],\n",
       "       [1218, 1042, 1405, 1647, 1789, 1129],\n",
       "       [150, 252, 211, 209, 217, 213]], dtype=object)"
      ]
     },
     "execution_count": 248,
     "metadata": {},
     "output_type": "execute_result"
    }
   ],
   "source": [
    "frame5.T.to_numpy()"
   ]
  },
  {
   "cell_type": "markdown",
   "id": "c33bc351",
   "metadata": {},
   "source": [
    "## Index Object"
   ]
  },
  {
   "cell_type": "code",
   "execution_count": 263,
   "id": "ad19b202",
   "metadata": {},
   "outputs": [
    {
     "data": {
      "text/plain": [
       "Int64Index([1, 2, 3], dtype='int64')"
      ]
     },
     "execution_count": 263,
     "metadata": {},
     "output_type": "execute_result"
    }
   ],
   "source": [
    "# Index pada series\n",
    "obj = pd.Series(np.arange(3), index=[1,2,3])\n",
    "idx_series = obj.index\n",
    "idx_series"
   ]
  },
  {
   "cell_type": "code",
   "execution_count": 271,
   "id": "e622920c",
   "metadata": {},
   "outputs": [
    {
     "data": {
      "text/plain": [
       "Int64Index([1], dtype='int64')"
      ]
     },
     "execution_count": 271,
     "metadata": {},
     "output_type": "execute_result"
    }
   ],
   "source": [
    "# Index pada dataframe\n",
    "df = pd.DataFrame({\"Satu\":np.arange(3),\"Dua\":np.arange(3,6)}, index=[1,2,3])\n",
    "idx_df = df.index\n",
    "idx_df[0:1]"
   ]
  },
  {
   "cell_type": "code",
   "execution_count": 269,
   "id": "2d58be71",
   "metadata": {},
   "outputs": [
    {
     "name": "stdout",
     "output_type": "stream",
     "text": [
      "Index does not support mutable operations\n"
     ]
    }
   ],
   "source": [
    "# Index are immutable, tidak bisa diedit\n",
    "try:\n",
    "    idx_df[2] = 4\n",
    "except Exception as ex:\n",
    "    print(ex)"
   ]
  },
  {
   "cell_type": "code",
   "execution_count": 273,
   "id": "c019f9db",
   "metadata": {},
   "outputs": [
    {
     "data": {
      "text/plain": [
       "Index(['Satu', 'Dua', 'Tiga'], dtype='object')"
      ]
     },
     "execution_count": 273,
     "metadata": {},
     "output_type": "execute_result"
    }
   ],
   "source": [
    "# Create index\n",
    "our_index = pd.Index((\"Satu\",\"Dua\",\"Tiga\"))\n",
    "our_index"
   ]
  },
  {
   "cell_type": "code",
   "execution_count": 292,
   "id": "18c4cd2f",
   "metadata": {},
   "outputs": [
    {
     "data": {
      "text/plain": [
       "Index(['Satu', 'Dua', 'Tiga'], dtype='object')"
      ]
     },
     "execution_count": 292,
     "metadata": {},
     "output_type": "execute_result"
    }
   ],
   "source": [
    "# Menggunakn our_index pada argumen index\n",
    "df_1 = pd.DataFrame({\"col_1\":np.arange(3),\"col_2\":np.arange(3,6)}, index=our_index)\n",
    "df_1.index"
   ]
  },
  {
   "cell_type": "code",
   "execution_count": 293,
   "id": "7ffbc97c",
   "metadata": {},
   "outputs": [
    {
     "data": {
      "text/plain": [
       "Index(['Satu', 'Dua', 'Tiga'], dtype='object')"
      ]
     },
     "execution_count": 293,
     "metadata": {},
     "output_type": "execute_result"
    }
   ],
   "source": [
    "# DF ini menggunakna index yang sama\n",
    "df_2 = pd.DataFrame({\"othr_col_1\":np.arange(3,6),\"othr_col_2\":np.arange(9,12)}, index=our_index)\n",
    "df_2.index"
   ]
  },
  {
   "cell_type": "code",
   "execution_count": 288,
   "id": "c6a307ee",
   "metadata": {},
   "outputs": [
    {
     "data": {
      "text/plain": [
       "True"
      ]
     },
     "execution_count": 288,
     "metadata": {},
     "output_type": "execute_result"
    }
   ],
   "source": [
    "# Bukti kesamaan\n",
    "df_2.index is our_index"
   ]
  },
  {
   "cell_type": "code",
   "execution_count": 295,
   "id": "bb1ac7a7",
   "metadata": {},
   "outputs": [
    {
     "data": {
      "text/plain": [
       "(True, False)"
      ]
     },
     "execution_count": 295,
     "metadata": {},
     "output_type": "execute_result"
    }
   ],
   "source": [
    "# Prilaku index seperti fixed-size set\n",
    "\"Tiga\" in df_2.index, \"Empat\" in df_2.index"
   ]
  },
  {
   "cell_type": "code",
   "execution_count": 302,
   "id": "d1d6b8b5",
   "metadata": {},
   "outputs": [
    {
     "data": {
      "text/plain": [
       "Index(['foo', 'foo', 'boo', 'hoo'], dtype='object')"
      ]
     },
     "execution_count": 302,
     "metadata": {},
     "output_type": "execute_result"
    }
   ],
   "source": [
    "# Index objek pada panda dapat menampung duplicate value\n",
    "index_duplicate = pd.Index((\"foo\",\"foo\",\"boo\",\"hoo\"))\n",
    "index_duplicate"
   ]
  },
  {
   "cell_type": "code",
   "execution_count": 311,
   "id": "0e5c9604",
   "metadata": {},
   "outputs": [
    {
     "data": {
      "text/html": [
       "<div>\n",
       "<style scoped>\n",
       "    .dataframe tbody tr th:only-of-type {\n",
       "        vertical-align: middle;\n",
       "    }\n",
       "\n",
       "    .dataframe tbody tr th {\n",
       "        vertical-align: top;\n",
       "    }\n",
       "\n",
       "    .dataframe thead th {\n",
       "        text-align: right;\n",
       "    }\n",
       "</style>\n",
       "<table border=\"1\" class=\"dataframe\">\n",
       "  <thead>\n",
       "    <tr style=\"text-align: right;\">\n",
       "      <th></th>\n",
       "      <th>0</th>\n",
       "    </tr>\n",
       "    <tr>\n",
       "      <th>This_Index</th>\n",
       "      <th></th>\n",
       "    </tr>\n",
       "  </thead>\n",
       "  <tbody>\n",
       "    <tr>\n",
       "      <th>foo</th>\n",
       "      <td>0</td>\n",
       "    </tr>\n",
       "    <tr>\n",
       "      <th>foo</th>\n",
       "      <td>1</td>\n",
       "    </tr>\n",
       "  </tbody>\n",
       "</table>\n",
       "</div>"
      ],
      "text/plain": [
       "            0\n",
       "This_Index   \n",
       "foo         0\n",
       "foo         1"
      ]
     },
     "execution_count": 311,
     "metadata": {},
     "output_type": "execute_result"
    }
   ],
   "source": [
    "# Df dengan duplicate index\n",
    "df_duplct_ind = pd.DataFrame(np.arange(4),index_duplicate)\n",
    "df_duplct_ind.loc[\"foo\"]"
   ]
  },
  {
   "cell_type": "code",
   "execution_count": null,
   "id": "f8b4de27",
   "metadata": {},
   "outputs": [],
   "source": []
  }
 ],
 "metadata": {
  "kernelspec": {
   "display_name": "Python 3 (ipykernel)",
   "language": "python",
   "name": "python3"
  },
  "language_info": {
   "codemirror_mode": {
    "name": "ipython",
    "version": 3
   },
   "file_extension": ".py",
   "mimetype": "text/x-python",
   "name": "python",
   "nbconvert_exporter": "python",
   "pygments_lexer": "ipython3",
   "version": "3.10.5"
  }
 },
 "nbformat": 4,
 "nbformat_minor": 5
}
