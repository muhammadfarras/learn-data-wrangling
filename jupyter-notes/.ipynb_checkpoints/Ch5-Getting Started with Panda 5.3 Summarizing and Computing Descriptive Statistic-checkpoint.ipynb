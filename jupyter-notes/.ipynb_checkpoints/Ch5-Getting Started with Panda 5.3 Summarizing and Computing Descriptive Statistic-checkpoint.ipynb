{
 "cells": [
  {
   "cell_type": "markdown",
   "id": "274e8aa3",
   "metadata": {},
   "source": [
    "# Chapter 5 - Getting started with panda | Summarizing and Computing Descriptive Statistic"
   ]
  },
  {
   "cell_type": "code",
   "execution_count": 1,
   "id": "ff84a502",
   "metadata": {},
   "outputs": [],
   "source": [
    "import numpy as np\n",
    "import pandas as pd\n",
    "import matplotlib.pyplot as plt\n",
    "\n",
    "def format_pecahan(x):\n",
    "    return f'{x:.2f}'"
   ]
  },
  {
   "cell_type": "code",
   "execution_count": 2,
   "id": "1a3f7fc2",
   "metadata": {},
   "outputs": [
    {
     "data": {
      "text/html": [
       "<div>\n",
       "<style scoped>\n",
       "    .dataframe tbody tr th:only-of-type {\n",
       "        vertical-align: middle;\n",
       "    }\n",
       "\n",
       "    .dataframe tbody tr th {\n",
       "        vertical-align: top;\n",
       "    }\n",
       "\n",
       "    .dataframe thead th {\n",
       "        text-align: right;\n",
       "    }\n",
       "</style>\n",
       "<table border=\"1\" class=\"dataframe\">\n",
       "  <thead>\n",
       "    <tr style=\"text-align: right;\">\n",
       "      <th></th>\n",
       "      <th>Satu</th>\n",
       "      <th>Dua</th>\n",
       "    </tr>\n",
       "  </thead>\n",
       "  <tbody>\n",
       "    <tr>\n",
       "      <th>a</th>\n",
       "      <td>1.40</td>\n",
       "      <td>NaN</td>\n",
       "    </tr>\n",
       "    <tr>\n",
       "      <th>b</th>\n",
       "      <td>7.10</td>\n",
       "      <td>-4.5</td>\n",
       "    </tr>\n",
       "    <tr>\n",
       "      <th>c</th>\n",
       "      <td>NaN</td>\n",
       "      <td>NaN</td>\n",
       "    </tr>\n",
       "    <tr>\n",
       "      <th>d</th>\n",
       "      <td>0.75</td>\n",
       "      <td>-1.3</td>\n",
       "    </tr>\n",
       "  </tbody>\n",
       "</table>\n",
       "</div>"
      ],
      "text/plain": [
       "   Satu  Dua\n",
       "a  1.40  NaN\n",
       "b  7.10 -4.5\n",
       "c   NaN  NaN\n",
       "d  0.75 -1.3"
      ]
     },
     "execution_count": 2,
     "metadata": {},
     "output_type": "execute_result"
    }
   ],
   "source": [
    "frame = pd.DataFrame([[1.4,np.nan],[7.1,-4.5],[np.nan,np.nan],[0.75,-1.3]],index=['a','b','c','d'], columns=['Satu','Dua'])\n",
    "frame"
   ]
  },
  {
   "cell_type": "code",
   "execution_count": 3,
   "id": "fba12876",
   "metadata": {},
   "outputs": [
    {
     "data": {
      "text/plain": [
       "Satu    9.25\n",
       "Dua    -5.80\n",
       "dtype: float64"
      ]
     },
     "execution_count": 3,
     "metadata": {},
     "output_type": "execute_result"
    }
   ],
   "source": [
    "# Sum method (default is index) menghitung perbaris disetiap kolom\n",
    "frame.sum()"
   ]
  },
  {
   "cell_type": "code",
   "execution_count": 4,
   "id": "98bfab5b",
   "metadata": {},
   "outputs": [
    {
     "data": {
      "text/plain": [
       "a    1.40\n",
       "b    2.60\n",
       "c    0.00\n",
       "d   -0.55\n",
       "dtype: float64"
      ]
     },
     "execution_count": 4,
     "metadata": {},
     "output_type": "execute_result"
    }
   ],
   "source": [
    "# sum method dengan axis columns, menghitung melintang kolom\n",
    "frame.sum(axis=1)"
   ]
  },
  {
   "cell_type": "markdown",
   "id": "5945aadf",
   "metadata": {},
   "source": [
    "When an entire row or column contains all NA values, the sum is 0, whereas if any\n",
    "value is not NA, then the result is NA. This can be disabled with the skipna option, in\n",
    "which case any NA value in a row or column names the corresponding result NA:"
   ]
  },
  {
   "cell_type": "code",
   "execution_count": 5,
   "id": "380512e8",
   "metadata": {},
   "outputs": [
    {
     "data": {
      "text/plain": [
       "Satu   NaN\n",
       "Dua    NaN\n",
       "dtype: float64"
      ]
     },
     "execution_count": 5,
     "metadata": {},
     "output_type": "execute_result"
    }
   ],
   "source": [
    "frame.sum(axis=0, skipna=False)"
   ]
  },
  {
   "cell_type": "code",
   "execution_count": 6,
   "id": "e86f8a80",
   "metadata": {},
   "outputs": [
    {
     "data": {
      "text/plain": [
       "a     NaN\n",
       "b    2.60\n",
       "c     NaN\n",
       "d   -0.55\n",
       "dtype: float64"
      ]
     },
     "execution_count": 6,
     "metadata": {},
     "output_type": "execute_result"
    }
   ],
   "source": [
    "frame.sum(axis=1, skipna=False)"
   ]
  },
  {
   "cell_type": "markdown",
   "id": "9e2c0483",
   "metadata": {},
   "source": [
    "Some aggregations, like mean, require at least one non-NA value to yield a value\n",
    "result, so here we have:"
   ]
  },
  {
   "cell_type": "code",
   "execution_count": 7,
   "id": "f1d3b76b",
   "metadata": {},
   "outputs": [
    {
     "data": {
      "text/plain": [
       "Satu    3.083333\n",
       "Dua    -2.900000\n",
       "dtype: float64"
      ]
     },
     "execution_count": 7,
     "metadata": {},
     "output_type": "execute_result"
    }
   ],
   "source": [
    "frame.mean()"
   ]
  },
  {
   "cell_type": "code",
   "execution_count": 8,
   "id": "3825f97d",
   "metadata": {},
   "outputs": [
    {
     "data": {
      "text/plain": [
       "a    1.400\n",
       "b    1.300\n",
       "c      NaN\n",
       "d   -0.275\n",
       "dtype: float64"
      ]
     },
     "execution_count": 8,
     "metadata": {},
     "output_type": "execute_result"
    }
   ],
   "source": [
    "frame.mean(axis=1)"
   ]
  },
  {
   "cell_type": "markdown",
   "id": "d894dfec",
   "metadata": {},
   "source": [
    "ome methods, like `idxmin` and `idxmax`, return indirect statistics, like the index value\n",
    "where the minimum or maximum values are attained:"
   ]
  },
  {
   "cell_type": "code",
   "execution_count": 9,
   "id": "d0a07656",
   "metadata": {},
   "outputs": [
    {
     "data": {
      "text/plain": [
       "Satu    d\n",
       "Dua     b\n",
       "dtype: object"
      ]
     },
     "execution_count": 9,
     "metadata": {},
     "output_type": "execute_result"
    }
   ],
   "source": [
    "frame.idxmin()"
   ]
  },
  {
   "cell_type": "code",
   "execution_count": 10,
   "id": "fa7e42a1",
   "metadata": {},
   "outputs": [
    {
     "data": {
      "text/plain": [
       "Satu    b\n",
       "Dua     d\n",
       "dtype: object"
      ]
     },
     "execution_count": 10,
     "metadata": {},
     "output_type": "execute_result"
    }
   ],
   "source": [
    "frame.idxmax()"
   ]
  },
  {
   "cell_type": "markdown",
   "id": "a4cd2145",
   "metadata": {},
   "source": [
    "Another indirext statistic, `cumsum`"
   ]
  },
  {
   "cell_type": "code",
   "execution_count": 11,
   "id": "dc3a6ecc",
   "metadata": {},
   "outputs": [
    {
     "data": {
      "text/html": [
       "<div>\n",
       "<style scoped>\n",
       "    .dataframe tbody tr th:only-of-type {\n",
       "        vertical-align: middle;\n",
       "    }\n",
       "\n",
       "    .dataframe tbody tr th {\n",
       "        vertical-align: top;\n",
       "    }\n",
       "\n",
       "    .dataframe thead th {\n",
       "        text-align: right;\n",
       "    }\n",
       "</style>\n",
       "<table border=\"1\" class=\"dataframe\">\n",
       "  <thead>\n",
       "    <tr style=\"text-align: right;\">\n",
       "      <th></th>\n",
       "      <th>Satu</th>\n",
       "      <th>Dua</th>\n",
       "    </tr>\n",
       "  </thead>\n",
       "  <tbody>\n",
       "    <tr>\n",
       "      <th>a</th>\n",
       "      <td>1.40</td>\n",
       "      <td>NaN</td>\n",
       "    </tr>\n",
       "    <tr>\n",
       "      <th>b</th>\n",
       "      <td>8.50</td>\n",
       "      <td>-4.5</td>\n",
       "    </tr>\n",
       "    <tr>\n",
       "      <th>c</th>\n",
       "      <td>NaN</td>\n",
       "      <td>NaN</td>\n",
       "    </tr>\n",
       "    <tr>\n",
       "      <th>d</th>\n",
       "      <td>9.25</td>\n",
       "      <td>-5.8</td>\n",
       "    </tr>\n",
       "  </tbody>\n",
       "</table>\n",
       "</div>"
      ],
      "text/plain": [
       "   Satu  Dua\n",
       "a  1.40  NaN\n",
       "b  8.50 -4.5\n",
       "c   NaN  NaN\n",
       "d  9.25 -5.8"
      ]
     },
     "execution_count": 11,
     "metadata": {},
     "output_type": "execute_result"
    }
   ],
   "source": [
    "frame.cumsum()"
   ]
  },
  {
   "cell_type": "markdown",
   "id": "bc548fc7",
   "metadata": {},
   "source": [
    "Step by step computation of `cumsum`, contoh dibawah ini mengambil dari kolom **Satu**\n",
    "\n",
    "| Satu | Accumulation | cumsum |\n",
    "| :--: | :----------: | :----: |\n",
    "| 1.4 | 1.4 | *1.4* |\n",
    "| 7.10 | *1.4* + 7.10 | *8.50* |\n",
    "| NaN | *8.50* + NaN | NaN |\n",
    "| 0.75 | *8.50* + 0.75 | *9.25* |\n"
   ]
  },
  {
   "cell_type": "markdown",
   "id": "e75b7e99",
   "metadata": {},
   "source": [
    "Some method are neither reduction or accumulaition. `describe` is one such\n",
    "example, producing multiple summary statistics in one shot:"
   ]
  },
  {
   "cell_type": "code",
   "execution_count": 12,
   "id": "69f40881",
   "metadata": {},
   "outputs": [
    {
     "data": {
      "text/html": [
       "<div>\n",
       "<style scoped>\n",
       "    .dataframe tbody tr th:only-of-type {\n",
       "        vertical-align: middle;\n",
       "    }\n",
       "\n",
       "    .dataframe tbody tr th {\n",
       "        vertical-align: top;\n",
       "    }\n",
       "\n",
       "    .dataframe thead th {\n",
       "        text-align: right;\n",
       "    }\n",
       "</style>\n",
       "<table border=\"1\" class=\"dataframe\">\n",
       "  <thead>\n",
       "    <tr style=\"text-align: right;\">\n",
       "      <th></th>\n",
       "      <th>Satu</th>\n",
       "      <th>Dua</th>\n",
       "    </tr>\n",
       "  </thead>\n",
       "  <tbody>\n",
       "    <tr>\n",
       "      <th>count</th>\n",
       "      <td>3.00</td>\n",
       "      <td>2.00</td>\n",
       "    </tr>\n",
       "    <tr>\n",
       "      <th>mean</th>\n",
       "      <td>3.08</td>\n",
       "      <td>-2.90</td>\n",
       "    </tr>\n",
       "    <tr>\n",
       "      <th>std</th>\n",
       "      <td>3.49</td>\n",
       "      <td>2.26</td>\n",
       "    </tr>\n",
       "    <tr>\n",
       "      <th>min</th>\n",
       "      <td>0.75</td>\n",
       "      <td>-4.50</td>\n",
       "    </tr>\n",
       "    <tr>\n",
       "      <th>25%</th>\n",
       "      <td>1.07</td>\n",
       "      <td>-3.70</td>\n",
       "    </tr>\n",
       "    <tr>\n",
       "      <th>50%</th>\n",
       "      <td>1.40</td>\n",
       "      <td>-2.90</td>\n",
       "    </tr>\n",
       "    <tr>\n",
       "      <th>75%</th>\n",
       "      <td>4.25</td>\n",
       "      <td>-2.10</td>\n",
       "    </tr>\n",
       "    <tr>\n",
       "      <th>max</th>\n",
       "      <td>7.10</td>\n",
       "      <td>-1.30</td>\n",
       "    </tr>\n",
       "  </tbody>\n",
       "</table>\n",
       "</div>"
      ],
      "text/plain": [
       "       Satu    Dua\n",
       "count  3.00   2.00\n",
       "mean   3.08  -2.90\n",
       "std    3.49   2.26\n",
       "min    0.75  -4.50\n",
       "25%    1.07  -3.70\n",
       "50%    1.40  -2.90\n",
       "75%    4.25  -2.10\n",
       "max    7.10  -1.30"
      ]
     },
     "execution_count": 12,
     "metadata": {},
     "output_type": "execute_result"
    }
   ],
   "source": [
    "frame.describe().applymap(format_pecahan)"
   ]
  },
  {
   "cell_type": "markdown",
   "id": "a7e1bead",
   "metadata": {},
   "source": [
    "On nonnumeric data, `describe` produces alternative summary statistics:"
   ]
  },
  {
   "cell_type": "code",
   "execution_count": 13,
   "id": "f865e5f7",
   "metadata": {},
   "outputs": [
    {
     "data": {
      "text/html": [
       "<div>\n",
       "<style scoped>\n",
       "    .dataframe tbody tr th:only-of-type {\n",
       "        vertical-align: middle;\n",
       "    }\n",
       "\n",
       "    .dataframe tbody tr th {\n",
       "        vertical-align: top;\n",
       "    }\n",
       "\n",
       "    .dataframe thead th {\n",
       "        text-align: right;\n",
       "    }\n",
       "</style>\n",
       "<table border=\"1\" class=\"dataframe\">\n",
       "  <thead>\n",
       "    <tr style=\"text-align: right;\">\n",
       "      <th></th>\n",
       "      <th>0</th>\n",
       "    </tr>\n",
       "  </thead>\n",
       "  <tbody>\n",
       "    <tr>\n",
       "      <th>count</th>\n",
       "      <td>16</td>\n",
       "    </tr>\n",
       "    <tr>\n",
       "      <th>unique</th>\n",
       "      <td>4</td>\n",
       "    </tr>\n",
       "    <tr>\n",
       "      <th>top</th>\n",
       "      <td>a</td>\n",
       "    </tr>\n",
       "    <tr>\n",
       "      <th>freq</th>\n",
       "      <td>4</td>\n",
       "    </tr>\n",
       "  </tbody>\n",
       "</table>\n",
       "</div>"
      ],
      "text/plain": [
       "         0\n",
       "count   16\n",
       "unique   4\n",
       "top      a\n",
       "freq     4"
      ]
     },
     "execution_count": 13,
     "metadata": {},
     "output_type": "execute_result"
    }
   ],
   "source": [
    "frame_non_numeric = pd.DataFrame(['a','b','c','d']*4)\n",
    "frame_non_numeric.describe()"
   ]
  },
  {
   "cell_type": "markdown",
   "id": "7165a43c",
   "metadata": {
    "tags": []
   },
   "source": [
    "## Correlation and Covariance"
   ]
  },
  {
   "cell_type": "markdown",
   "id": "b9f4ecb4",
   "metadata": {},
   "source": [
    "Some summary statistics, like correlation and covariance, are computed from pairs\n",
    "of arguments"
   ]
  },
  {
   "cell_type": "code",
   "execution_count": 12,
   "id": "2c106136",
   "metadata": {},
   "outputs": [],
   "source": [
    "# Uncomment for list of example datasets\n",
    "# !ls source/pydata-book/examples/"
   ]
  },
  {
   "cell_type": "code",
   "execution_count": 9,
   "id": "6c34a2ac",
   "metadata": {},
   "outputs": [],
   "source": [
    "price = pd.read_pickle('source/pydata-book/examples/yahoo_price.pkl')"
   ]
  },
  {
   "cell_type": "code",
   "execution_count": 10,
   "id": "549aaf60",
   "metadata": {},
   "outputs": [
    {
     "data": {
      "text/html": [
       "<div>\n",
       "<style scoped>\n",
       "    .dataframe tbody tr th:only-of-type {\n",
       "        vertical-align: middle;\n",
       "    }\n",
       "\n",
       "    .dataframe tbody tr th {\n",
       "        vertical-align: top;\n",
       "    }\n",
       "\n",
       "    .dataframe thead th {\n",
       "        text-align: right;\n",
       "    }\n",
       "</style>\n",
       "<table border=\"1\" class=\"dataframe\">\n",
       "  <thead>\n",
       "    <tr style=\"text-align: right;\">\n",
       "      <th></th>\n",
       "      <th>AAPL</th>\n",
       "      <th>GOOG</th>\n",
       "      <th>IBM</th>\n",
       "      <th>MSFT</th>\n",
       "    </tr>\n",
       "    <tr>\n",
       "      <th>Date</th>\n",
       "      <th></th>\n",
       "      <th></th>\n",
       "      <th></th>\n",
       "      <th></th>\n",
       "    </tr>\n",
       "  </thead>\n",
       "  <tbody>\n",
       "    <tr>\n",
       "      <th>2016-10-17</th>\n",
       "      <td>117.550003</td>\n",
       "      <td>779.960022</td>\n",
       "      <td>154.770004</td>\n",
       "      <td>57.220001</td>\n",
       "    </tr>\n",
       "    <tr>\n",
       "      <th>2016-10-18</th>\n",
       "      <td>117.470001</td>\n",
       "      <td>795.260010</td>\n",
       "      <td>150.720001</td>\n",
       "      <td>57.660000</td>\n",
       "    </tr>\n",
       "    <tr>\n",
       "      <th>2016-10-19</th>\n",
       "      <td>117.120003</td>\n",
       "      <td>801.500000</td>\n",
       "      <td>151.259995</td>\n",
       "      <td>57.529999</td>\n",
       "    </tr>\n",
       "    <tr>\n",
       "      <th>2016-10-20</th>\n",
       "      <td>117.059998</td>\n",
       "      <td>796.969971</td>\n",
       "      <td>151.520004</td>\n",
       "      <td>57.250000</td>\n",
       "    </tr>\n",
       "    <tr>\n",
       "      <th>2016-10-21</th>\n",
       "      <td>116.599998</td>\n",
       "      <td>799.369995</td>\n",
       "      <td>149.630005</td>\n",
       "      <td>59.660000</td>\n",
       "    </tr>\n",
       "  </tbody>\n",
       "</table>\n",
       "</div>"
      ],
      "text/plain": [
       "                  AAPL        GOOG         IBM       MSFT\n",
       "Date                                                     \n",
       "2016-10-17  117.550003  779.960022  154.770004  57.220001\n",
       "2016-10-18  117.470001  795.260010  150.720001  57.660000\n",
       "2016-10-19  117.120003  801.500000  151.259995  57.529999\n",
       "2016-10-20  117.059998  796.969971  151.520004  57.250000\n",
       "2016-10-21  116.599998  799.369995  149.630005  59.660000"
      ]
     },
     "execution_count": 10,
     "metadata": {},
     "output_type": "execute_result"
    }
   ],
   "source": [
    "price.tail()"
   ]
  },
  {
   "cell_type": "code",
   "execution_count": 13,
   "id": "d16f0742",
   "metadata": {},
   "outputs": [],
   "source": [
    "volume = pd.read_pickle('source/pydata-book/examples/yahoo_volume.pkl')"
   ]
  },
  {
   "cell_type": "code",
   "execution_count": 14,
   "id": "724c3b60",
   "metadata": {},
   "outputs": [
    {
     "data": {
      "text/html": [
       "<div>\n",
       "<style scoped>\n",
       "    .dataframe tbody tr th:only-of-type {\n",
       "        vertical-align: middle;\n",
       "    }\n",
       "\n",
       "    .dataframe tbody tr th {\n",
       "        vertical-align: top;\n",
       "    }\n",
       "\n",
       "    .dataframe thead th {\n",
       "        text-align: right;\n",
       "    }\n",
       "</style>\n",
       "<table border=\"1\" class=\"dataframe\">\n",
       "  <thead>\n",
       "    <tr style=\"text-align: right;\">\n",
       "      <th></th>\n",
       "      <th>AAPL</th>\n",
       "      <th>GOOG</th>\n",
       "      <th>IBM</th>\n",
       "      <th>MSFT</th>\n",
       "    </tr>\n",
       "    <tr>\n",
       "      <th>Date</th>\n",
       "      <th></th>\n",
       "      <th></th>\n",
       "      <th></th>\n",
       "      <th></th>\n",
       "    </tr>\n",
       "  </thead>\n",
       "  <tbody>\n",
       "    <tr>\n",
       "      <th>2016-10-17</th>\n",
       "      <td>23624900</td>\n",
       "      <td>1089500</td>\n",
       "      <td>5890400</td>\n",
       "      <td>23830000</td>\n",
       "    </tr>\n",
       "    <tr>\n",
       "      <th>2016-10-18</th>\n",
       "      <td>24553500</td>\n",
       "      <td>1995600</td>\n",
       "      <td>12770600</td>\n",
       "      <td>19149500</td>\n",
       "    </tr>\n",
       "    <tr>\n",
       "      <th>2016-10-19</th>\n",
       "      <td>20034600</td>\n",
       "      <td>116600</td>\n",
       "      <td>4632900</td>\n",
       "      <td>22878400</td>\n",
       "    </tr>\n",
       "    <tr>\n",
       "      <th>2016-10-20</th>\n",
       "      <td>24125800</td>\n",
       "      <td>1734200</td>\n",
       "      <td>4023100</td>\n",
       "      <td>49455600</td>\n",
       "    </tr>\n",
       "    <tr>\n",
       "      <th>2016-10-21</th>\n",
       "      <td>22384800</td>\n",
       "      <td>1260500</td>\n",
       "      <td>4401900</td>\n",
       "      <td>79974200</td>\n",
       "    </tr>\n",
       "  </tbody>\n",
       "</table>\n",
       "</div>"
      ],
      "text/plain": [
       "                AAPL     GOOG       IBM      MSFT\n",
       "Date                                             \n",
       "2016-10-17  23624900  1089500   5890400  23830000\n",
       "2016-10-18  24553500  1995600  12770600  19149500\n",
       "2016-10-19  20034600   116600   4632900  22878400\n",
       "2016-10-20  24125800  1734200   4023100  49455600\n",
       "2016-10-21  22384800  1260500   4401900  79974200"
      ]
     },
     "execution_count": 14,
     "metadata": {},
     "output_type": "execute_result"
    }
   ],
   "source": [
    "volume.tail()"
   ]
  },
  {
   "cell_type": "markdown",
   "id": "53500f08-ebfc-4d52-802b-5759ce58ca28",
   "metadata": {},
   "source": [
    "Rumus untuk fungsi pct_change -> `(Current-Previous/Previous) * 100`"
   ]
  },
  {
   "cell_type": "markdown",
   "id": "840bf068-01d1-4754-93b5-35b580fd0ff3",
   "metadata": {},
   "source": [
    "Dibawah ini saya menghitung prosentasi perubahan dari setiap waktu dari harga"
   ]
  },
  {
   "cell_type": "code",
   "execution_count": 15,
   "id": "158f975b-052c-4a63-921b-798c01ba331c",
   "metadata": {},
   "outputs": [
    {
     "data": {
      "text/html": [
       "<div>\n",
       "<style scoped>\n",
       "    .dataframe tbody tr th:only-of-type {\n",
       "        vertical-align: middle;\n",
       "    }\n",
       "\n",
       "    .dataframe tbody tr th {\n",
       "        vertical-align: top;\n",
       "    }\n",
       "\n",
       "    .dataframe thead th {\n",
       "        text-align: right;\n",
       "    }\n",
       "</style>\n",
       "<table border=\"1\" class=\"dataframe\">\n",
       "  <thead>\n",
       "    <tr style=\"text-align: right;\">\n",
       "      <th></th>\n",
       "      <th>AAPL</th>\n",
       "      <th>GOOG</th>\n",
       "      <th>IBM</th>\n",
       "      <th>MSFT</th>\n",
       "    </tr>\n",
       "    <tr>\n",
       "      <th>Date</th>\n",
       "      <th></th>\n",
       "      <th></th>\n",
       "      <th></th>\n",
       "      <th></th>\n",
       "    </tr>\n",
       "  </thead>\n",
       "  <tbody>\n",
       "    <tr>\n",
       "      <th>2016-10-17</th>\n",
       "      <td>-0.000680</td>\n",
       "      <td>0.001837</td>\n",
       "      <td>0.002072</td>\n",
       "      <td>-0.003483</td>\n",
       "    </tr>\n",
       "    <tr>\n",
       "      <th>2016-10-18</th>\n",
       "      <td>-0.000681</td>\n",
       "      <td>0.019616</td>\n",
       "      <td>-0.026168</td>\n",
       "      <td>0.007690</td>\n",
       "    </tr>\n",
       "    <tr>\n",
       "      <th>2016-10-19</th>\n",
       "      <td>-0.002979</td>\n",
       "      <td>0.007846</td>\n",
       "      <td>0.003583</td>\n",
       "      <td>-0.002255</td>\n",
       "    </tr>\n",
       "    <tr>\n",
       "      <th>2016-10-20</th>\n",
       "      <td>-0.000512</td>\n",
       "      <td>-0.005652</td>\n",
       "      <td>0.001719</td>\n",
       "      <td>-0.004867</td>\n",
       "    </tr>\n",
       "    <tr>\n",
       "      <th>2016-10-21</th>\n",
       "      <td>-0.003930</td>\n",
       "      <td>0.003011</td>\n",
       "      <td>-0.012474</td>\n",
       "      <td>0.042096</td>\n",
       "    </tr>\n",
       "  </tbody>\n",
       "</table>\n",
       "</div>"
      ],
      "text/plain": [
       "                AAPL      GOOG       IBM      MSFT\n",
       "Date                                              \n",
       "2016-10-17 -0.000680  0.001837  0.002072 -0.003483\n",
       "2016-10-18 -0.000681  0.019616 -0.026168  0.007690\n",
       "2016-10-19 -0.002979  0.007846  0.003583 -0.002255\n",
       "2016-10-20 -0.000512 -0.005652  0.001719 -0.004867\n",
       "2016-10-21 -0.003930  0.003011 -0.012474  0.042096"
      ]
     },
     "execution_count": 15,
     "metadata": {},
     "output_type": "execute_result"
    }
   ],
   "source": [
    "returns = price.pct_change()\n",
    "returns.tail()"
   ]
  },
  {
   "cell_type": "markdown",
   "id": "5ba42a3a-b67b-4573-9229-b8e601f08004",
   "metadata": {},
   "source": [
    "Menghitung *correlation* dan *covariance* antara perubahan harga dari **Microsoft** dan **IBM**"
   ]
  },
  {
   "cell_type": "code",
   "execution_count": 16,
   "id": "b547c2d5-7c04-4772-bb49-267691e25488",
   "metadata": {},
   "outputs": [
    {
     "data": {
      "text/plain": [
       "0.4997636114415114"
      ]
     },
     "execution_count": 16,
     "metadata": {},
     "output_type": "execute_result"
    }
   ],
   "source": [
    "returns.MSFT.corr(returns.IBM, method='pearson')"
   ]
  },
  {
   "cell_type": "code",
   "execution_count": 17,
   "id": "0643b424-8175-40a4-a4f2-0e9b60714dbb",
   "metadata": {},
   "outputs": [
    {
     "data": {
      "text/plain": [
       "8.870655479703546e-05"
      ]
     },
     "execution_count": 17,
     "metadata": {},
     "output_type": "execute_result"
    }
   ],
   "source": [
    "returns.MSFT.cov(returns.IBM)"
   ]
  },
  {
   "cell_type": "markdown",
   "id": "ccc762a0-5c2e-4665-9c4b-4a7eaf041bee",
   "metadata": {
    "tags": []
   },
   "source": [
    "### Penjelasan Fungsi Covaraiance dan Correlation"
   ]
  },
  {
   "cell_type": "code",
   "execution_count": 22,
   "id": "ef8f8e55-dea1-4ada-a6e1-e03f5ff025f6",
   "metadata": {},
   "outputs": [
    {
     "data": {
      "text/html": [
       "<div>\n",
       "<style scoped>\n",
       "    .dataframe tbody tr th:only-of-type {\n",
       "        vertical-align: middle;\n",
       "    }\n",
       "\n",
       "    .dataframe tbody tr th {\n",
       "        vertical-align: top;\n",
       "    }\n",
       "\n",
       "    .dataframe thead th {\n",
       "        text-align: right;\n",
       "    }\n",
       "</style>\n",
       "<table border=\"1\" class=\"dataframe\">\n",
       "  <thead>\n",
       "    <tr style=\"text-align: right;\">\n",
       "      <th></th>\n",
       "      <th>a</th>\n",
       "      <th>b</th>\n",
       "    </tr>\n",
       "  </thead>\n",
       "  <tbody>\n",
       "    <tr>\n",
       "      <th>0</th>\n",
       "      <td>1</td>\n",
       "      <td>2</td>\n",
       "    </tr>\n",
       "    <tr>\n",
       "      <th>1</th>\n",
       "      <td>25</td>\n",
       "      <td>64</td>\n",
       "    </tr>\n",
       "    <tr>\n",
       "      <th>2</th>\n",
       "      <td>8</td>\n",
       "      <td>21</td>\n",
       "    </tr>\n",
       "    <tr>\n",
       "      <th>3</th>\n",
       "      <td>31</td>\n",
       "      <td>-2</td>\n",
       "    </tr>\n",
       "    <tr>\n",
       "      <th>4</th>\n",
       "      <td>-2</td>\n",
       "      <td>-10</td>\n",
       "    </tr>\n",
       "  </tbody>\n",
       "</table>\n",
       "</div>"
      ],
      "text/plain": [
       "    a   b\n",
       "0   1   2\n",
       "1  25  64\n",
       "2   8  21\n",
       "3  31  -2\n",
       "4  -2 -10"
      ]
     },
     "execution_count": 22,
     "metadata": {},
     "output_type": "execute_result"
    }
   ],
   "source": [
    "datasets = pd.DataFrame({'a':[1,25,8,31,-2],'b':[2,64,21,-2,-10]})\n",
    "datasets"
   ]
  },
  {
   "cell_type": "markdown",
   "id": "26a81545-2f6e-4a92-9bc9-e582c9e31747",
   "metadata": {
    "jp-MarkdownHeadingCollapsed": true,
    "tags": []
   },
   "source": [
    "#### Correlation menggunakan fungsi Pearson"
   ]
  },
  {
   "cell_type": "code",
   "execution_count": 23,
   "id": "1845eae7-55c0-46ec-903f-64af66531a76",
   "metadata": {},
   "outputs": [],
   "source": [
    "def pearson_correlation_coefficient(x):\n",
    "    count = len(x)\n",
    "    x['a*b'] = x['a'].mul(x['b'])\n",
    "    x['a^2'] = x['a'].pow(2)\n",
    "    x['b^2'] = x['b'].pow(2)\n",
    "    data = x.sum()\n",
    "    \n",
    "    print(\"Diketahui : \")\n",
    "    print(x,'________________',sep='\\r\\n')\n",
    "    print(\"\")\n",
    "    print (\"Summary : \")\n",
    "    print(data)\n",
    "    print (\"\")\n",
    "    print(\"Kalkulasi : \")\n",
    "    a = 5*data[\"a*b\"]\n",
    "    b = data[\"a\"]*data[\"b\"]\n",
    "    c = (count * data['a^2'])\n",
    "    d = (data['a']**2)\n",
    "    e = (count * data['b^2'])\n",
    "    f = (data['b']**2)\n",
    "    result = (a-b)/(np.sqrt((c-d)*(e-f)))\n",
    "    print (f'n(Σa.b) \\t= {a}')\n",
    "    print (f'(Σa).(Σb) \\t= {b}')\n",
    "    print (f\"(n.Σa^2) \\t= {c}\")\n",
    "    print (f\"(Σa)^2 \\t\\t= {d}\")\n",
    "    print (f\"(n.Σb^2) \\t= {e}\")\n",
    "    print (f\"(Σb)^2 \\t\\t= {f}\")\n",
    "    \n",
    "    print(\"-\"*30)\n",
    "    print(f'n(Σa.b) - (Σa).(Σb)/')\n",
    "    print('  ______________________________________')\n",
    "    print(f'√ ((n.Σa^2)-(Σa)^2) * ((n.Σb^2)-(Σb)^2)')\n",
    "    \n",
    "    print(\"-\"*30)\n",
    "    \n",
    "    print('Result : ')\n",
    "    print(f\"{result}\")\n",
    "    \n",
    "    return result"
   ]
  },
  {
   "cell_type": "code",
   "execution_count": 24,
   "id": "56360d05-e613-4780-9436-588db73d2292",
   "metadata": {},
   "outputs": [
    {
     "name": "stdout",
     "output_type": "stream",
     "text": [
      "Diketahui : \n",
      "    a   b   a*b  a^2   b^2\n",
      "0   1   2     2    1     4\n",
      "1  25  64  1600  625  4096\n",
      "2   8  21   168   64   441\n",
      "3  31  -2   -62  961     4\n",
      "4  -2 -10    20    4   100\n",
      "________________\n",
      "\n",
      "Summary : \n",
      "a        63\n",
      "b        75\n",
      "a*b    1728\n",
      "a^2    1655\n",
      "b^2    4645\n",
      "dtype: int64\n",
      "\n",
      "Kalkulasi : \n",
      "n(Σa.b) \t= 8640\n",
      "(Σa).(Σb) \t= 4725\n",
      "(n.Σa^2) \t= 8275\n",
      "(Σa)^2 \t\t= 3969\n",
      "(n.Σb^2) \t= 23225\n",
      "(Σb)^2 \t\t= 5625\n",
      "------------------------------\n",
      "n(Σa.b) - (Σa).(Σb)/\n",
      "  ______________________________________\n",
      "√ ((n.Σa^2)-(Σa)^2) * ((n.Σb^2)-(Σb)^2)\n",
      "------------------------------\n",
      "Result : \n",
      "0.4497160834281532\n"
     ]
    },
    {
     "data": {
      "text/plain": [
       "0.4497160834281532"
      ]
     },
     "execution_count": 24,
     "metadata": {},
     "output_type": "execute_result"
    }
   ],
   "source": [
    "# pearson_correlation_coefficient(datasets)\n",
    "pearson_correlation_coefficient(datasets)"
   ]
  },
  {
   "cell_type": "code",
   "execution_count": 25,
   "id": "337b9757-0e93-4262-ba1e-7e22df73fb5d",
   "metadata": {},
   "outputs": [
    {
     "data": {
      "text/plain": [
       "0.4497160834281533"
      ]
     },
     "execution_count": 25,
     "metadata": {},
     "output_type": "execute_result"
    }
   ],
   "source": [
    "datasets.a.corr(datasets.b)"
   ]
  },
  {
   "cell_type": "markdown",
   "id": "8f0ba55f-4bb5-403d-8483-6d8c7d686e9a",
   "metadata": {},
   "source": [
    "#### Covariance"
   ]
  },
  {
   "cell_type": "code",
   "execution_count": 32,
   "id": "f034885f-1e8e-4767-a0bd-1c43cc7dcf96",
   "metadata": {},
   "outputs": [
    {
     "data": {
      "text/html": [
       "<div>\n",
       "<style scoped>\n",
       "    .dataframe tbody tr th:only-of-type {\n",
       "        vertical-align: middle;\n",
       "    }\n",
       "\n",
       "    .dataframe tbody tr th {\n",
       "        vertical-align: top;\n",
       "    }\n",
       "\n",
       "    .dataframe thead th {\n",
       "        text-align: right;\n",
       "    }\n",
       "</style>\n",
       "<table border=\"1\" class=\"dataframe\">\n",
       "  <thead>\n",
       "    <tr style=\"text-align: right;\">\n",
       "      <th></th>\n",
       "      <th>a</th>\n",
       "      <th>b</th>\n",
       "    </tr>\n",
       "  </thead>\n",
       "  <tbody>\n",
       "    <tr>\n",
       "      <th>0</th>\n",
       "      <td>1</td>\n",
       "      <td>2</td>\n",
       "    </tr>\n",
       "    <tr>\n",
       "      <th>1</th>\n",
       "      <td>25</td>\n",
       "      <td>64</td>\n",
       "    </tr>\n",
       "    <tr>\n",
       "      <th>2</th>\n",
       "      <td>8</td>\n",
       "      <td>21</td>\n",
       "    </tr>\n",
       "    <tr>\n",
       "      <th>3</th>\n",
       "      <td>31</td>\n",
       "      <td>-2</td>\n",
       "    </tr>\n",
       "    <tr>\n",
       "      <th>4</th>\n",
       "      <td>-2</td>\n",
       "      <td>-10</td>\n",
       "    </tr>\n",
       "  </tbody>\n",
       "</table>\n",
       "</div>"
      ],
      "text/plain": [
       "    a   b\n",
       "0   1   2\n",
       "1  25  64\n",
       "2   8  21\n",
       "3  31  -2\n",
       "4  -2 -10"
      ]
     },
     "execution_count": 32,
     "metadata": {},
     "output_type": "execute_result"
    }
   ],
   "source": [
    "datasets = pd.DataFrame({'a':[1,25,8,31,-2],'b':[2,64,21,-2,-10]})\n",
    "datasets"
   ]
  },
  {
   "cell_type": "code",
   "execution_count": 54,
   "id": "1d317f38-0e4b-4607-8cdf-ce1f44a00a87",
   "metadata": {},
   "outputs": [],
   "source": [
    "def display_table_of_work_for_convariance(x):\n",
    "    x['ai-a.mean'] = x['a'] - x['a'].mean()\n",
    "    x['bi-b.mean'] = x['b'] - x['b'].mean()\n",
    "    x['var'] = x['ai-a.mean']*x['bi-b.mean']\n",
    "    return x"
   ]
  },
  {
   "cell_type": "code",
   "execution_count": 60,
   "id": "e92e8d11-a9ac-413d-bb44-81725190f241",
   "metadata": {},
   "outputs": [
    {
     "data": {
      "text/html": [
       "<div>\n",
       "<style scoped>\n",
       "    .dataframe tbody tr th:only-of-type {\n",
       "        vertical-align: middle;\n",
       "    }\n",
       "\n",
       "    .dataframe tbody tr th {\n",
       "        vertical-align: top;\n",
       "    }\n",
       "\n",
       "    .dataframe thead th {\n",
       "        text-align: right;\n",
       "    }\n",
       "</style>\n",
       "<table border=\"1\" class=\"dataframe\">\n",
       "  <thead>\n",
       "    <tr style=\"text-align: right;\">\n",
       "      <th></th>\n",
       "      <th>a</th>\n",
       "      <th>b</th>\n",
       "      <th>ai-a.mean</th>\n",
       "      <th>bi-b.mean</th>\n",
       "      <th>var</th>\n",
       "    </tr>\n",
       "  </thead>\n",
       "  <tbody>\n",
       "    <tr>\n",
       "      <th>0</th>\n",
       "      <td>1</td>\n",
       "      <td>2</td>\n",
       "      <td>-11.6</td>\n",
       "      <td>-13.0</td>\n",
       "      <td>150.8</td>\n",
       "    </tr>\n",
       "    <tr>\n",
       "      <th>1</th>\n",
       "      <td>25</td>\n",
       "      <td>64</td>\n",
       "      <td>12.4</td>\n",
       "      <td>49.0</td>\n",
       "      <td>607.6</td>\n",
       "    </tr>\n",
       "    <tr>\n",
       "      <th>2</th>\n",
       "      <td>8</td>\n",
       "      <td>21</td>\n",
       "      <td>-4.6</td>\n",
       "      <td>6.0</td>\n",
       "      <td>-27.6</td>\n",
       "    </tr>\n",
       "    <tr>\n",
       "      <th>3</th>\n",
       "      <td>31</td>\n",
       "      <td>-2</td>\n",
       "      <td>18.4</td>\n",
       "      <td>-17.0</td>\n",
       "      <td>-312.8</td>\n",
       "    </tr>\n",
       "    <tr>\n",
       "      <th>4</th>\n",
       "      <td>-2</td>\n",
       "      <td>-10</td>\n",
       "      <td>-14.6</td>\n",
       "      <td>-25.0</td>\n",
       "      <td>365.0</td>\n",
       "    </tr>\n",
       "  </tbody>\n",
       "</table>\n",
       "</div>"
      ],
      "text/plain": [
       "    a   b  ai-a.mean  bi-b.mean    var\n",
       "0   1   2      -11.6      -13.0  150.8\n",
       "1  25  64       12.4       49.0  607.6\n",
       "2   8  21       -4.6        6.0  -27.6\n",
       "3  31  -2       18.4      -17.0 -312.8\n",
       "4  -2 -10      -14.6      -25.0  365.0"
      ]
     },
     "execution_count": 60,
     "metadata": {},
     "output_type": "execute_result"
    }
   ],
   "source": [
    "ds = display_table_of_work_for_convariance(datasets)\n",
    "ds"
   ]
  },
  {
   "cell_type": "markdown",
   "id": "8acf12ad-daeb-4348-936f-24c66bf5f949",
   "metadata": {},
   "source": [
    "hasil diatas memliki summary dibawha ini. Berfungis untuk menghitung covariance"
   ]
  },
  {
   "cell_type": "code",
   "execution_count": 57,
   "id": "64952762-b5fd-499b-bbb8-7074e149bbaf",
   "metadata": {},
   "outputs": [
    {
     "data": {
      "text/plain": [
       "a             63.0\n",
       "b             75.0\n",
       "ai-a.mean      0.0\n",
       "bi-b.mean      0.0\n",
       "var          783.0\n",
       "dtype: float64"
      ]
     },
     "execution_count": 57,
     "metadata": {},
     "output_type": "execute_result"
    }
   ],
   "source": [
    "ds.sum()"
   ]
  },
  {
   "cell_type": "code",
   "execution_count": 71,
   "id": "56f6444c-ca49-4490-8279-d8d22ed60a76",
   "metadata": {},
   "outputs": [
    {
     "data": {
      "text/plain": [
       "195.75"
      ]
     },
     "execution_count": 71,
     "metadata": {},
     "output_type": "execute_result"
    }
   ],
   "source": [
    "# convariance\n",
    "ds['var'].sum() / (len(ds)-1)"
   ]
  },
  {
   "cell_type": "code",
   "execution_count": 73,
   "id": "d5ae639c-5b7a-47a4-9ed5-56f9dd908a90",
   "metadata": {},
   "outputs": [
    {
     "data": {
      "text/plain": [
       "195.75"
      ]
     },
     "execution_count": 73,
     "metadata": {},
     "output_type": "execute_result"
    }
   ],
   "source": [
    "# Cocok\n",
    "datasets.a.cov(datasets.b)"
   ]
  },
  {
   "cell_type": "markdown",
   "id": "f5dc98f7-6df9-4e49-9e97-d0947bf9c5d5",
   "metadata": {},
   "source": [
    "Hasil dari convariance positi, sehingga dapat dikatakan hubungan antara variabel `a` dan variable `b` memiliki relasi yang positif, artimya, kenaikan pada vairable `a` berdampak pada kenaikan pada variable `b`"
   ]
  },
  {
   "cell_type": "markdown",
   "id": "a4d8661b-b96e-4b25-b27f-f38447f3b9a4",
   "metadata": {},
   "source": [
    "## Unique Values, Values Counts and Memberships"
   ]
  },
  {
   "cell_type": "markdown",
   "id": "57fd2841-0473-4905-b831-d4d03f08960e",
   "metadata": {},
   "source": [
    "Another class of related methods extracts information about the values contained in a\n",
    "one-dimensional Series. To illustrate these, consider this example:"
   ]
  },
  {
   "cell_type": "markdown",
   "id": "5dcaa234-6f99-4eab-921b-b1ec844fbc7a",
   "metadata": {},
   "source": [
    "### Unique dan Sort"
   ]
  },
  {
   "cell_type": "code",
   "execution_count": 84,
   "id": "1132ed19-f03e-422b-afac-319307c1087d",
   "metadata": {},
   "outputs": [
    {
     "data": {
      "text/plain": [
       "0     b\n",
       "1     d\n",
       "2     d\n",
       "3     m\n",
       "4     a\n",
       "5     e\n",
       "6     n\n",
       "7     e\n",
       "8     a\n",
       "9     s\n",
       "10    f\n",
       "dtype: object"
      ]
     },
     "execution_count": 84,
     "metadata": {},
     "output_type": "execute_result"
    }
   ],
   "source": [
    "series = pd.Series(list('bddmaeneasf'))\n",
    "series"
   ]
  },
  {
   "cell_type": "markdown",
   "id": "1ab01f0c-6752-4c5d-94d8-e87cbeb401a8",
   "metadata": {},
   "source": [
    "Untuk membuat unik anda dapat menggunakan fungsi `unique`, akan membuat Series baru"
   ]
  },
  {
   "cell_type": "code",
   "execution_count": 82,
   "id": "41441d79-a42f-4223-8553-11eefbc0ebce",
   "metadata": {},
   "outputs": [
    {
     "data": {
      "text/plain": [
       "array(['a', 'b', 'd', 'm', 'e', 'n', 's', 'f'], dtype=object)"
      ]
     },
     "execution_count": 82,
     "metadata": {},
     "output_type": "execute_result"
    }
   ],
   "source": [
    "unique = series.unique()\n",
    "unique"
   ]
  },
  {
   "cell_type": "markdown",
   "id": "271333b5-7dcb-4689-a0c2-f5f6c2c1096a",
   "metadata": {},
   "source": [
    "Hasil dari fungsi `unique` tidak harus berurut. Gunakan fungsi `sort` untuk mengurutkannya"
   ]
  },
  {
   "cell_type": "code",
   "execution_count": 86,
   "id": "d0dbc504-8b61-4bcc-b329-9326c64027cc",
   "metadata": {},
   "outputs": [
    {
     "data": {
      "text/plain": [
       "array(['a', 'b', 'd', 'e', 'f', 'm', 'n', 's'], dtype=object)"
      ]
     },
     "execution_count": 86,
     "metadata": {},
     "output_type": "execute_result"
    }
   ],
   "source": [
    "unique.sort()\n",
    "unique"
   ]
  },
  {
   "cell_type": "markdown",
   "id": "512178fb-92e4-4ce7-80c5-c392c2bfb300",
   "metadata": {},
   "source": [
    "### Fungsi `value_counts`\n",
    "Untuk menghitung jumlah data pada suatu objek"
   ]
  },
  {
   "cell_type": "code",
   "execution_count": 87,
   "id": "1b39655a-dbfb-45f4-b16e-238590a14b6e",
   "metadata": {},
   "outputs": [
    {
     "data": {
      "text/plain": [
       "d    2\n",
       "a    2\n",
       "e    2\n",
       "b    1\n",
       "m    1\n",
       "n    1\n",
       "s    1\n",
       "f    1\n",
       "dtype: int64"
      ]
     },
     "execution_count": 87,
     "metadata": {},
     "output_type": "execute_result"
    }
   ],
   "source": [
    "series.value_counts()"
   ]
  },
  {
   "cell_type": "markdown",
   "id": "1ffbddb4-58ea-4dab-a05d-dea82949ade6",
   "metadata": {},
   "source": [
    "Method `value_counts` juga dapat diakses melalui top level pandas method\n",
    "\n",
    "Hasil yang direturn dalam urutan descending, namun anda dapat menonaktifkannya dengan argumen *sort* yang diise dengan boolean value"
   ]
  },
  {
   "cell_type": "code",
   "execution_count": 90,
   "id": "c039970b-bde9-4e08-9c50-ad73693c8d4c",
   "metadata": {},
   "outputs": [
    {
     "data": {
      "text/plain": [
       "b    1\n",
       "d    2\n",
       "m    1\n",
       "a    2\n",
       "e    2\n",
       "n    1\n",
       "s    1\n",
       "f    1\n",
       "dtype: int64"
      ]
     },
     "execution_count": 90,
     "metadata": {},
     "output_type": "execute_result"
    }
   ],
   "source": [
    "pd.value_counts(series, sort=False)"
   ]
  },
  {
   "cell_type": "markdown",
   "id": "38fb2c55-91ab-4474-b597-8cd565d176f3",
   "metadata": {},
   "source": [
    "### `isin` method\n",
    "Digunakna untuk meng-echek keanggotan dari sebuah list atau scalar pada sebuah objek"
   ]
  },
  {
   "cell_type": "code",
   "execution_count": 103,
   "id": "49761980-65d3-4fa3-8bce-bdbca242f7a4",
   "metadata": {},
   "outputs": [
    {
     "data": {
      "text/plain": [
       "0      True\n",
       "1     False\n",
       "2     False\n",
       "3     False\n",
       "4      True\n",
       "5     False\n",
       "6     False\n",
       "7     False\n",
       "8      True\n",
       "9     False\n",
       "10    False\n",
       "dtype: bool"
      ]
     },
     "execution_count": 103,
     "metadata": {},
     "output_type": "execute_result"
    }
   ],
   "source": [
    "series.isin(['a','b'])"
   ]
  },
  {
   "cell_type": "code",
   "execution_count": 105,
   "id": "775aed6c-e772-4641-957c-a16d0cc4f8b3",
   "metadata": {},
   "outputs": [
    {
     "data": {
      "text/plain": [
       "0    b\n",
       "4    a\n",
       "8    a\n",
       "dtype: object"
      ]
     },
     "execution_count": 105,
     "metadata": {},
     "output_type": "execute_result"
    }
   ],
   "source": [
    "# Anda dapat gunakan untuk menampilkan value tertentu saja\n",
    "series[series.isin(['a','b'])]"
   ]
  }
 ],
 "metadata": {
  "kernelspec": {
   "display_name": "Python 3 (ipykernel)",
   "language": "python",
   "name": "python3"
  },
  "language_info": {
   "codemirror_mode": {
    "name": "ipython",
    "version": 3
   },
   "file_extension": ".py",
   "mimetype": "text/x-python",
   "name": "python",
   "nbconvert_exporter": "python",
   "pygments_lexer": "ipython3",
   "version": "3.9.12"
  },
  "toc-autonumbering": false
 },
 "nbformat": 4,
 "nbformat_minor": 5
}
