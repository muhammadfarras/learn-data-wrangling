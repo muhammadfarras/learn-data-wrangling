{
 "cells": [
  {
   "cell_type": "markdown",
   "id": "8218cbca",
   "metadata": {},
   "source": [
    "# Chapter 4 - Numpy Basic : Arrays and Vectorized Computation"
   ]
  },
  {
   "cell_type": "code",
   "execution_count": 2,
   "id": "ff84a502",
   "metadata": {},
   "outputs": [],
   "source": [
    "import numpy as np"
   ]
  },
  {
   "cell_type": "code",
   "execution_count": 10,
   "id": "4021aa04",
   "metadata": {},
   "outputs": [
    {
     "data": {
      "text/plain": [
       "array([0, 1, 2, 3, 4, 5, 6, 7, 8, 9])"
      ]
     },
     "execution_count": 10,
     "metadata": {},
     "output_type": "execute_result"
    }
   ],
   "source": [
    "# Create an array\n",
    "arr = np.arange(10)\n",
    "arr"
   ]
  },
  {
   "cell_type": "code",
   "execution_count": 16,
   "id": "8b348ede",
   "metadata": {},
   "outputs": [
    {
     "name": "stdout",
     "output_type": "stream",
     "text": [
      " Volume in drive C is Windows\n",
      " Volume Serial Number is EC00-A5E6\n",
      "\n",
      " Directory of C:\\Users\\lenovo\\Documents\\Notes\\file-learn\\jupyter-notes\n",
      "\n",
      "12/27/2022  03:25 PM    <DIR>          .\n",
      "12/27/2022  03:25 PM    <DIR>          ..\n",
      "12/27/2022  03:22 PM    <DIR>          .ipynb_checkpoints\n",
      "12/27/2022  03:24 PM    <DIR>          Ch4-4.5\n",
      "12/27/2022  03:13 PM           114,241 Ch4-Numpy Basic 4.1 NdArrays.ipynb\n",
      "12/27/2022  03:21 PM             3,992 Ch4-Numpy Basic 4.2 Pseudorandom Number Generator.ipynb\n",
      "12/27/2022  03:21 PM             6,901 Ch4-Numpy Basic 4.3 Unversal Function.ipynb\n",
      "12/27/2022  03:21 PM            73,395 Ch4-Numpy Basic 4.4 Array-Oriented Programming.ipynb\n",
      "12/27/2022  03:25 PM             1,318 Ch4-Numpy Basic 4.5 File Input and Output With Arrays.ipynb\n",
      "               5 File(s)        199,847 bytes\n",
      "               4 Dir(s)  220,706,394,112 bytes free\n"
     ]
    }
   ],
   "source": [
    "!dir"
   ]
  },
  {
   "cell_type": "code",
   "execution_count": 17,
   "id": "2cf51ca9",
   "metadata": {},
   "outputs": [],
   "source": [
    "# save the file\n",
    "np.save(\"Ch4-4.5/my_array_file\",arr)"
   ]
  },
  {
   "cell_type": "code",
   "execution_count": 20,
   "id": "e3398eac",
   "metadata": {},
   "outputs": [
    {
     "data": {
      "text/plain": [
       "array([0, 1, 2, 3, 4, 5, 6, 7, 8, 9])"
      ]
     },
     "execution_count": 20,
     "metadata": {},
     "output_type": "execute_result"
    }
   ],
   "source": [
    "# load the array\n",
    "np.load(\"Ch4-4.5/my_array_file.npy\")"
   ]
  },
  {
   "cell_type": "code",
   "execution_count": 23,
   "id": "c8fa8645",
   "metadata": {},
   "outputs": [
    {
     "data": {
      "text/plain": [
       "array([-10,  -9,  -8,  -7,  -6,  -5,  -4,  -3,  -2,  -1,   0])"
      ]
     },
     "execution_count": 23,
     "metadata": {},
     "output_type": "execute_result"
    }
   ],
   "source": [
    "# Membuat array baru\n",
    "arr_dua = np.arange(-10,1)\n",
    "arr_dua"
   ]
  },
  {
   "cell_type": "markdown",
   "id": "e8ecb07c",
   "metadata": {},
   "source": [
    "**Save multiple array**"
   ]
  },
  {
   "cell_type": "code",
   "execution_count": 24,
   "id": "37f5334e",
   "metadata": {},
   "outputs": [],
   "source": [
    "# Save multiple array\n",
    "np.savez(\"Ch4-4.5/archive_multiple_arry\",a=arr,b=arr_dua)"
   ]
  },
  {
   "cell_type": "code",
   "execution_count": 34,
   "id": "582d8654",
   "metadata": {},
   "outputs": [
    {
     "data": {
      "text/plain": [
       "{'_files': ['a.npy', 'b.npy'],\n",
       " 'files': ['a', 'b'],\n",
       " 'allow_pickle': False,\n",
       " 'pickle_kwargs': {'encoding': 'ASCII', 'fix_imports': True},\n",
       " 'zip': <zipfile.ZipFile file=<_io.BufferedReader name='Ch4-4.5/archive_multiple_arry.npz'> mode='r'>,\n",
       " 'f': <numpy.lib.npyio.BagObj at 0x1da5f744c10>,\n",
       " 'fid': <_io.BufferedReader name='Ch4-4.5/archive_multiple_arry.npz'>}"
      ]
     },
     "execution_count": 34,
     "metadata": {},
     "output_type": "execute_result"
    }
   ],
   "source": [
    "# Load mutiple array\n",
    "arr_arc = np.load(\"Ch4-4.5/archive_multiple_arry.npz\")\n",
    "arr_arc.__dict__"
   ]
  },
  {
   "cell_type": "code",
   "execution_count": 36,
   "id": "32eafdf0",
   "metadata": {},
   "outputs": [
    {
     "data": {
      "text/plain": [
       "(array([0, 1, 2, 3, 4, 5, 6, 7, 8, 9]),\n",
       " array([-10,  -9,  -8,  -7,  -6,  -5,  -4,  -3,  -2,  -1,   0]))"
      ]
     },
     "execution_count": 36,
     "metadata": {},
     "output_type": "execute_result"
    }
   ],
   "source": [
    "arr_arc['a'], arr_arc['b']"
   ]
  },
  {
   "cell_type": "markdown",
   "id": "45c1f158",
   "metadata": {},
   "source": [
    "**Save array to compressed file** "
   ]
  },
  {
   "cell_type": "code",
   "execution_count": 38,
   "id": "36102139",
   "metadata": {},
   "outputs": [],
   "source": [
    "np.savez_compressed(\"Ch4-4.5/archine_compressed\",satu=arr,dua=arr_dua)"
   ]
  },
  {
   "cell_type": "code",
   "execution_count": 39,
   "id": "799081e4",
   "metadata": {},
   "outputs": [
    {
     "data": {
      "text/plain": [
       "numpy.lib.npyio.NpzFile"
      ]
     },
     "execution_count": 39,
     "metadata": {},
     "output_type": "execute_result"
    }
   ],
   "source": [
    "type(arr_arc)"
   ]
  },
  {
   "cell_type": "code",
   "execution_count": null,
   "id": "f184b505",
   "metadata": {},
   "outputs": [],
   "source": []
  }
 ],
 "metadata": {
  "kernelspec": {
   "display_name": "Python 3 (ipykernel)",
   "language": "python",
   "name": "python3"
  },
  "language_info": {
   "codemirror_mode": {
    "name": "ipython",
    "version": 3
   },
   "file_extension": ".py",
   "mimetype": "text/x-python",
   "name": "python",
   "nbconvert_exporter": "python",
   "pygments_lexer": "ipython3",
   "version": "3.9.12"
  }
 },
 "nbformat": 4,
 "nbformat_minor": 5
}
