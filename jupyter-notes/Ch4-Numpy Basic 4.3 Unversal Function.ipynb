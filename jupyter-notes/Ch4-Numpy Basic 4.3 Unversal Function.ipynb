{
 "cells": [
  {
   "cell_type": "markdown",
   "id": "8218cbca",
   "metadata": {},
   "source": [
    "# Chapter 4 - Numpy Basic : Arrays and Vectorized Computation"
   ]
  },
  {
   "cell_type": "code",
   "execution_count": 1,
   "id": "ff84a502",
   "metadata": {},
   "outputs": [],
   "source": [
    "import numpy as np"
   ]
  },
  {
   "cell_type": "code",
   "execution_count": 2,
   "id": "ae8371d0",
   "metadata": {},
   "outputs": [],
   "source": [
    "my_arr = np.arange(1_000_000)\n",
    "my_list = list(range(1_000_000))"
   ]
  },
  {
   "cell_type": "markdown",
   "id": "a4b4160d",
   "metadata": {},
   "source": [
    "## Universal Function"
   ]
  },
  {
   "cell_type": "code",
   "execution_count": 69,
   "id": "852997b5",
   "metadata": {},
   "outputs": [],
   "source": [
    "# Create an nparray\n",
    "arr = np.arange (10)"
   ]
  },
  {
   "cell_type": "markdown",
   "id": "1324728e",
   "metadata": {},
   "source": [
    "- Fungsi yang membutuhkan argumen array tunggal disebut dengan ***unary unversal function***\n",
    "- Fungsi yang membutuhkan dua argumen array dan menghasilkan satu buah array tunggal disebut dengan ***binary universal function***"
   ]
  },
  {
   "cell_type": "code",
   "execution_count": 70,
   "id": "fd25d4f6",
   "metadata": {},
   "outputs": [
    {
     "data": {
      "text/plain": [
       "array([0.        , 1.        , 1.41421356, 1.73205081, 2.        ,\n",
       "       2.23606798, 2.44948974, 2.64575131, 2.82842712, 3.        ])"
      ]
     },
     "execution_count": 70,
     "metadata": {},
     "output_type": "execute_result"
    }
   ],
   "source": [
    "np.sqrt(arr)"
   ]
  },
  {
   "cell_type": "code",
   "execution_count": 71,
   "id": "f56551dd",
   "metadata": {},
   "outputs": [
    {
     "data": {
      "text/plain": [
       "array([1.00000000e+00, 2.71828183e+00, 7.38905610e+00, 2.00855369e+01,\n",
       "       5.45981500e+01, 1.48413159e+02, 4.03428793e+02, 1.09663316e+03,\n",
       "       2.98095799e+03, 8.10308393e+03])"
      ]
     },
     "execution_count": 71,
     "metadata": {},
     "output_type": "execute_result"
    }
   ],
   "source": [
    "np.exp(arr)"
   ]
  },
  {
   "cell_type": "code",
   "execution_count": 72,
   "id": "ece77ed2",
   "metadata": {},
   "outputs": [
    {
     "data": {
      "text/plain": [
       "(array([ 0.30471708, -1.03998411,  0.7504512 ,  0.94056472, -1.95103519,\n",
       "        -1.30217951,  0.1278404 , -0.31624259, -0.01680116, -0.85304393]),\n",
       " array([ 1.35074732,  0.34309058, -1.16299016, -0.18708582, -0.3394646 ,\n",
       "        -0.22767632,  0.59685616, -1.27902314,  0.96665533, -1.12796069]))"
      ]
     },
     "execution_count": 72,
     "metadata": {},
     "output_type": "execute_result"
    }
   ],
   "source": [
    "rs = np.random.default_rng(seed=42)\n",
    "rsy = np.random.default_rng(seed=24)\n",
    "x = rs.standard_normal(10)\n",
    "y = rsy.standard_normal(10)\n",
    "x, y"
   ]
  },
  {
   "cell_type": "code",
   "execution_count": 73,
   "id": "d966ea69",
   "metadata": {},
   "outputs": [
    {
     "data": {
      "text/plain": [
       "array([ 1.35074732,  0.34309058,  0.7504512 ,  0.94056472, -0.3394646 ,\n",
       "       -0.22767632,  0.59685616, -0.31624259,  0.96665533, -0.85304393])"
      ]
     },
     "execution_count": 73,
     "metadata": {},
     "output_type": "execute_result"
    }
   ],
   "source": [
    "# find maximum value\n",
    "np.maximum(x,y)"
   ]
  },
  {
   "cell_type": "code",
   "execution_count": 74,
   "id": "a103eb5b",
   "metadata": {},
   "outputs": [
    {
     "data": {
      "text/plain": [
       "array([ 1.6554644 , -0.69689352, -0.41253896,  0.75347889, -2.29049978,\n",
       "       -1.52985583,  0.72469656, -1.59526573,  0.94985417, -1.98100462])"
      ]
     },
     "execution_count": 74,
     "metadata": {},
     "output_type": "execute_result"
    }
   ],
   "source": [
    "# additional array\n",
    "np.add(x,y)"
   ]
  },
  {
   "cell_type": "code",
   "execution_count": 75,
   "id": "e57bfa1f",
   "metadata": {},
   "outputs": [
    {
     "data": {
      "text/plain": [
       "(array([ 0.5235854 , -0.19992053,  0.75225598,  0.70282358, -0.75517594,\n",
       "        -0.51089753,  0.63920202, -0.58121296, -0.08400579, -0.26521964]),\n",
       " array([ 1., -5.,  3.,  4., -9., -6.,  0., -1., -0., -4.]))"
      ]
     },
     "execution_count": 75,
     "metadata": {},
     "output_type": "execute_result"
    }
   ],
   "source": [
    "# modf, memecah bilangan pecahan dan bulat dari sebuah array\n",
    "rs = np.random.default_rng(seed=42)\n",
    "arr = rs.standard_normal(10) * 5\n",
    "pecahan, bulat = np.modf(arr)\n",
    "pecahan, bulat"
   ]
  },
  {
   "cell_type": "markdown",
   "id": "53f44a48",
   "metadata": {},
   "source": [
    "Argumen **out** pada ufunc"
   ]
  },
  {
   "cell_type": "code",
   "execution_count": 76,
   "id": "005de3bb",
   "metadata": {},
   "outputs": [
    {
     "data": {
      "text/plain": [
       "array([0., 0., 0., 0., 0., 0., 0., 0., 0., 0.])"
      ]
     },
     "execution_count": 76,
     "metadata": {},
     "output_type": "execute_result"
    }
   ],
   "source": [
    "# Membuat array berisikan nilai 0\n",
    "arr_zero = np.zeros(10)\n",
    "arr_zero.astype(np.float64)"
   ]
  },
  {
   "cell_type": "code",
   "execution_count": 77,
   "id": "821e150c",
   "metadata": {},
   "outputs": [],
   "source": [
    "# Membuat array dengan nilai urut\n",
    "arr = np.arange(10)"
   ]
  },
  {
   "cell_type": "code",
   "execution_count": 78,
   "id": "2e1a7ce5",
   "metadata": {},
   "outputs": [
    {
     "data": {
      "text/plain": [
       "array([ 7.,  8.,  9., 10., 11., 12., 13., 14., 15., 16.])"
      ]
     },
     "execution_count": 78,
     "metadata": {},
     "output_type": "execute_result"
    }
   ],
   "source": [
    "# np.add dengan argumen out pada variable arrya arr_zero\n",
    "np.add(arr,7,out=arr_zero)"
   ]
  },
  {
   "cell_type": "code",
   "execution_count": 79,
   "id": "035ef6aa",
   "metadata": {},
   "outputs": [
    {
     "data": {
      "text/plain": [
       "array([ 7.,  8.,  9., 10., 11., 12., 13., 14., 15., 16.])"
      ]
     },
     "execution_count": 79,
     "metadata": {},
     "output_type": "execute_result"
    }
   ],
   "source": [
    "# nilai arr_zero mengikut output dari np.add diatas\n",
    "arr_zero"
   ]
  }
 ],
 "metadata": {
  "kernelspec": {
   "display_name": "Python 3 (ipykernel)",
   "language": "python",
   "name": "python3"
  },
  "language_info": {
   "codemirror_mode": {
    "name": "ipython",
    "version": 3
   },
   "file_extension": ".py",
   "mimetype": "text/x-python",
   "name": "python",
   "nbconvert_exporter": "python",
   "pygments_lexer": "ipython3",
   "version": "3.10.5"
  }
 },
 "nbformat": 4,
 "nbformat_minor": 5
}
