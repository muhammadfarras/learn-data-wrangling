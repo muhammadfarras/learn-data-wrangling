{
 "cells": [
  {
   "cell_type": "markdown",
   "id": "8218cbca",
   "metadata": {},
   "source": [
    "# Chapter 4 - Numpy Basic : Arrays and Vectorized Computation"
   ]
  },
  {
   "cell_type": "code",
   "execution_count": 1,
   "id": "ff84a502",
   "metadata": {},
   "outputs": [],
   "source": [
    "import numpy as np"
   ]
  },
  {
   "cell_type": "code",
   "execution_count": 2,
   "id": "ae8371d0",
   "metadata": {},
   "outputs": [],
   "source": [
    "my_arr = np.arange(1_000_000)\n",
    "my_list = list(range(1_000_000))"
   ]
  },
  {
   "cell_type": "markdown",
   "id": "0df313dd",
   "metadata": {},
   "source": [
    "## Array Oriented Programming"
   ]
  },
  {
   "cell_type": "code",
   "execution_count": 80,
   "id": "6b03bdeb",
   "metadata": {},
   "outputs": [
    {
     "name": "stdout",
     "output_type": "stream",
     "text": [
      "Number Dimention \t: 1\n",
      "Data Type \t\t: float64\n",
      "Size \t\t\t: 1000\n",
      "Shape \t\t\t: (1000,)\n"
     ]
    }
   ],
   "source": [
    "points = np.arange(-5,5,0.01)\n",
    "print (f'Number Dimention \\t: {points.ndim}')\n",
    "print (f'Data Type \\t\\t: {points.dtype}')\n",
    "print (f'Size \\t\\t\\t: {points.size}')\n",
    "print (f'Shape \\t\\t\\t: {points.shape}')"
   ]
  },
  {
   "cell_type": "code",
   "execution_count": 81,
   "id": "9cd2b058",
   "metadata": {},
   "outputs": [
    {
     "name": "stdout",
     "output_type": "stream",
     "text": [
      "\n",
      "    Return coordinate matrices from coordinate vectors.\n",
      "\n",
      "    Make N-D coordinate arrays for vectorized evaluations of\n",
      "    N-D scalar/vector fields over N-D grids, given\n",
      "    one-dimensional coordinate arrays x1, x2,..., xn.\n",
      "\n",
      "    .. versionchanged:: 1.9\n",
      "       1-D and 0-D cases are allowed.\n",
      "\n",
      "    Parameters\n",
      "    ----------\n",
      "    x1, x2,..., xn : array_like\n",
      "        1-D arrays representing the coordinates of a grid.\n",
      "    indexing : {'xy', 'ij'}, optional\n",
      "        Cartesian ('xy', default) or matrix ('ij') indexing of output.\n",
      "        See Notes for more details.\n",
      "\n",
      "        .. versionadded:: 1.7.0\n",
      "    sparse : bool, optional\n",
      "        If True the shape of the returned coordinate array for dimension *i*\n",
      "        is reduced from ``(N1, ..., Ni, ... Nn)`` to\n",
      "        ``(1, ..., 1, Ni, 1, ..., 1)``.  These sparse coordinate grids are\n",
      "        intended to be use with :ref:`basics.broadcasting`.  When all\n",
      "        coordinates are used in an expression, broadcasting still leads to a\n",
      "        fully-dimensonal result array.\n",
      "\n",
      "        Default is False.\n",
      "\n",
      "        .. versionadded:: 1.7.0\n",
      "    copy : bool, optional\n",
      "        If False, a view into the original arrays are returned in order to\n",
      "        conserve memory.  Default is True.  Please note that\n",
      "        ``sparse=False, copy=False`` will likely return non-contiguous\n",
      "        arrays.  Furthermore, more than one element of a broadcast array\n",
      "        may refer to a single memory location.  If you need to write to the\n",
      "        arrays, make copies first.\n",
      "\n",
      "        .. versionadded:: 1.7.0\n",
      "\n",
      "    Returns\n",
      "    -------\n",
      "    X1, X2,..., XN : ndarray\n",
      "        For vectors `x1`, `x2`,..., `xn` with lengths ``Ni=len(xi)``,\n",
      "        returns ``(N1, N2, N3,..., Nn)`` shaped arrays if indexing='ij'\n",
      "        or ``(N2, N1, N3,..., Nn)`` shaped arrays if indexing='xy'\n",
      "        with the elements of `xi` repeated to fill the matrix along\n",
      "        the first dimension for `x1`, the second for `x2` and so on.\n",
      "\n",
      "    Notes\n",
      "    -----\n",
      "    This function supports both indexing conventions through the indexing\n",
      "    keyword argument.  Giving the string 'ij' returns a meshgrid with\n",
      "    matrix indexing, while 'xy' returns a meshgrid with Cartesian indexing.\n",
      "    In the 2-D case with inputs of length M and N, the outputs are of shape\n",
      "    (N, M) for 'xy' indexing and (M, N) for 'ij' indexing.  In the 3-D case\n",
      "    with inputs of length M, N and P, outputs are of shape (N, M, P) for\n",
      "    'xy' indexing and (M, N, P) for 'ij' indexing.  The difference is\n",
      "    illustrated by the following code snippet::\n",
      "\n",
      "        xv, yv = np.meshgrid(x, y, indexing='ij')\n",
      "        for i in range(nx):\n",
      "            for j in range(ny):\n",
      "                # treat xv[i,j], yv[i,j]\n",
      "\n",
      "        xv, yv = np.meshgrid(x, y, indexing='xy')\n",
      "        for i in range(nx):\n",
      "            for j in range(ny):\n",
      "                # treat xv[j,i], yv[j,i]\n",
      "\n",
      "    In the 1-D and 0-D case, the indexing and sparse keywords have no effect.\n",
      "\n",
      "    See Also\n",
      "    --------\n",
      "    mgrid : Construct a multi-dimensional \"meshgrid\" using indexing notation.\n",
      "    ogrid : Construct an open multi-dimensional \"meshgrid\" using indexing\n",
      "            notation.\n",
      "\n",
      "    Examples\n",
      "    --------\n",
      "    >>> nx, ny = (3, 2)\n",
      "    >>> x = np.linspace(0, 1, nx)\n",
      "    >>> y = np.linspace(0, 1, ny)\n",
      "    >>> xv, yv = np.meshgrid(x, y)\n",
      "    >>> xv\n",
      "    array([[0. , 0.5, 1. ],\n",
      "           [0. , 0.5, 1. ]])\n",
      "    >>> yv\n",
      "    array([[0.,  0.,  0.],\n",
      "           [1.,  1.,  1.]])\n",
      "    >>> xv, yv = np.meshgrid(x, y, sparse=True)  # make sparse output arrays\n",
      "    >>> xv\n",
      "    array([[0. ,  0.5,  1. ]])\n",
      "    >>> yv\n",
      "    array([[0.],\n",
      "           [1.]])\n",
      "\n",
      "    `meshgrid` is very useful to evaluate functions on a grid.  If the\n",
      "    function depends on all coordinates, you can use the parameter\n",
      "    ``sparse=True`` to save memory and computation time.\n",
      "\n",
      "    >>> x = np.linspace(-5, 5, 101)\n",
      "    >>> y = np.linspace(-5, 5, 101)\n",
      "    >>> # full coordinate arrays\n",
      "    >>> xx, yy = np.meshgrid(x, y)\n",
      "    >>> zz = np.sqrt(xx**2 + yy**2)\n",
      "    >>> xx.shape, yy.shape, zz.shape\n",
      "    ((101, 101), (101, 101), (101, 101))\n",
      "    >>> # sparse coordinate arrays\n",
      "    >>> xs, ys = np.meshgrid(x, y, sparse=True)\n",
      "    >>> zs = np.sqrt(xs**2 + ys**2)\n",
      "    >>> xs.shape, ys.shape, zs.shape\n",
      "    ((1, 101), (101, 1), (101, 101))\n",
      "    >>> np.array_equal(zz, zs)\n",
      "    True\n",
      "\n",
      "    >>> import matplotlib.pyplot as plt\n",
      "    >>> h = plt.contourf(x, y, zs)\n",
      "    >>> plt.axis('scaled')\n",
      "    >>> plt.colorbar()\n",
      "    >>> plt.show()\n",
      "    \n"
     ]
    }
   ],
   "source": [
    "print(np.meshgrid.__doc__)"
   ]
  },
  {
   "cell_type": "code",
   "execution_count": 82,
   "id": "8d92930e",
   "metadata": {},
   "outputs": [],
   "source": [
    "xs, ys = np.meshgrid(points, points)"
   ]
  },
  {
   "cell_type": "code",
   "execution_count": 83,
   "id": "e73c3162",
   "metadata": {},
   "outputs": [
    {
     "data": {
      "text/plain": [
       "array([[-5.  , -4.99, -4.98, ...,  4.97,  4.98,  4.99],\n",
       "       [-5.  , -4.99, -4.98, ...,  4.97,  4.98,  4.99],\n",
       "       [-5.  , -4.99, -4.98, ...,  4.97,  4.98,  4.99],\n",
       "       ...,\n",
       "       [-5.  , -4.99, -4.98, ...,  4.97,  4.98,  4.99],\n",
       "       [-5.  , -4.99, -4.98, ...,  4.97,  4.98,  4.99],\n",
       "       [-5.  , -4.99, -4.98, ...,  4.97,  4.98,  4.99]])"
      ]
     },
     "execution_count": 83,
     "metadata": {},
     "output_type": "execute_result"
    }
   ],
   "source": [
    "xs"
   ]
  },
  {
   "cell_type": "code",
   "execution_count": 84,
   "id": "4cc9ca01",
   "metadata": {},
   "outputs": [
    {
     "data": {
      "text/plain": [
       "array([[-5.  , -5.  , -5.  , -5.  , -5.  ],\n",
       "       [-4.99, -4.99, -4.99, -4.99, -4.99],\n",
       "       [-4.98, -4.98, -4.98, -4.98, -4.98],\n",
       "       [-4.97, -4.97, -4.97, -4.97, -4.97],\n",
       "       [-4.96, -4.96, -4.96, -4.96, -4.96]])"
      ]
     },
     "execution_count": 84,
     "metadata": {},
     "output_type": "execute_result"
    }
   ],
   "source": [
    "ys[0:5,0:5]"
   ]
  },
  {
   "cell_type": "code",
   "execution_count": 85,
   "id": "efa8a2fd",
   "metadata": {},
   "outputs": [
    {
     "data": {
      "text/plain": [
       "array([[ True, False, False, False, False],\n",
       "       [False,  True, False, False, False],\n",
       "       [False, False,  True, False, False],\n",
       "       [False, False, False,  True, False],\n",
       "       [False, False, False, False,  True]])"
      ]
     },
     "execution_count": 85,
     "metadata": {},
     "output_type": "execute_result"
    }
   ],
   "source": [
    "ys[0:5,0:5] == xs[0:5,0:5]"
   ]
  },
  {
   "cell_type": "code",
   "execution_count": 86,
   "id": "de45a085",
   "metadata": {},
   "outputs": [
    {
     "data": {
      "image/png": "[encoded data removed]",
      "text/plain": [
       "<Figure size 432x288 with 2 Axes>"
      ]
     },
     "metadata": {
      "needs_background": "light"
     },
     "output_type": "display_data"
    },
    {
     "data": {
      "image/png": "[encoded data removed]",
      "text/plain": [
       "<Figure size 432x288 with 2 Axes>"
      ]
     },
     "metadata": {
      "needs_background": "light"
     },
     "output_type": "display_data"
    }
   ],
   "source": [
    "import matplotlib.pyplot as plt\n",
    "plt.imshow(xs, cmap=plt.cm.gray)\n",
    "plt.colorbar()\n",
    "plt.title(\"Image plot of xs\")\n",
    "plt.show()\n",
    "\n",
    "plt.imshow(ys, cmap=plt.cm.gray)\n",
    "plt.colorbar()\n",
    "plt.title(\"Image plot of ys\")\n",
    "plt.show()"
   ]
  },
  {
   "cell_type": "code",
   "execution_count": 87,
   "id": "8f0f8bc2",
   "metadata": {},
   "outputs": [
    {
     "data": {
      "image/png": "[encoded data removed]",
      "text/plain": [
       "<Figure size 432x288 with 2 Axes>"
      ]
     },
     "metadata": {
      "needs_background": "light"
     },
     "output_type": "display_data"
    }
   ],
   "source": [
    "z = np.sqrt(xs**2 + ys**2)\n",
    "\n",
    "plt.imshow(z, cmap=plt.cm.gray)\n",
    "plt.colorbar()\n",
    "plt.title(\"Image plot of $\\sqrt{xs^2 + ys^2}$ for grid of values\")\n",
    "plt.show()"
   ]
  },
  {
   "cell_type": "code",
   "execution_count": 88,
   "id": "71c0eff8",
   "metadata": {},
   "outputs": [],
   "source": [
    "ar = np.arange(5)\n",
    "x,y = np.meshgrid(ar,ar)"
   ]
  },
  {
   "cell_type": "code",
   "execution_count": 89,
   "id": "eab5fdc7",
   "metadata": {},
   "outputs": [
    {
     "data": {
      "text/plain": [
       "array([[0, 1, 2, 3, 4],\n",
       "       [0, 1, 2, 3, 4],\n",
       "       [0, 1, 2, 3, 4],\n",
       "       [0, 1, 2, 3, 4],\n",
       "       [0, 1, 2, 3, 4]])"
      ]
     },
     "execution_count": 89,
     "metadata": {},
     "output_type": "execute_result"
    }
   ],
   "source": [
    "x"
   ]
  },
  {
   "cell_type": "code",
   "execution_count": 90,
   "id": "da329cce",
   "metadata": {},
   "outputs": [
    {
     "data": {
      "text/plain": [
       "array([[0, 0, 0, 0, 0],\n",
       "       [1, 1, 1, 1, 1],\n",
       "       [2, 2, 2, 2, 2],\n",
       "       [3, 3, 3, 3, 3],\n",
       "       [4, 4, 4, 4, 4]])"
      ]
     },
     "execution_count": 90,
     "metadata": {},
     "output_type": "execute_result"
    }
   ],
   "source": [
    "y"
   ]
  },
  {
   "cell_type": "markdown",
   "id": "900471e9",
   "metadata": {},
   "source": [
    "### Expressing Conditional Logic as Array Operations"
   ]
  },
  {
   "cell_type": "code",
   "execution_count": 91,
   "id": "f7dbc830",
   "metadata": {},
   "outputs": [],
   "source": [
    "xarr = np.arange(1.1, 1.6,0.1)\n",
    "yarr =  np.arange(2.1, 2.6,0.1)\n",
    "cond = np.array([True, False, True, True, False])"
   ]
  },
  {
   "cell_type": "code",
   "execution_count": 92,
   "id": "f64a2086",
   "metadata": {},
   "outputs": [
    {
     "name": "stdout",
     "output_type": "stream",
     "text": [
      "[1.1, 2.2, 1.3000000000000003, 1.4000000000000004, 2.5000000000000004]\n"
     ]
    }
   ],
   "source": [
    "# ambil niali dengan nilai true\n",
    "test = list (x if c else y for x,y,c in zip(xarr,yarr,cond))\n",
    "print(test)"
   ]
  },
  {
   "cell_type": "code",
   "execution_count": 94,
   "id": "82a25840",
   "metadata": {},
   "outputs": [
    {
     "data": {
      "text/plain": [
       "array([1.1, 2.2, 1.3, 1.4, 2.5])"
      ]
     },
     "execution_count": 94,
     "metadata": {},
     "output_type": "execute_result"
    }
   ],
   "source": [
    "np.where (cond,xarr,yarr)"
   ]
  },
  {
   "cell_type": "markdown",
   "id": "909956f8",
   "metadata": {},
   "source": [
    "> Buat matriks 4 x 4\n",
    "Gantilah nilai pada matriks menjadi -2 jika nilai tersebut negatif dan ubah menjadi 2 jika nilai tersebut positif"
   ]
  },
  {
   "cell_type": "code",
   "execution_count": 96,
   "id": "d0af72f5",
   "metadata": {},
   "outputs": [
    {
     "data": {
      "text/plain": [
       "array([[ 0.30471708, -1.03998411,  0.7504512 ,  0.94056472],\n",
       "       [-1.95103519, -1.30217951,  0.1278404 , -0.31624259],\n",
       "       [-0.01680116, -0.85304393,  0.87939797,  0.77779194],\n",
       "       [ 0.0660307 ,  1.12724121,  0.46750934, -0.85929246]])"
      ]
     },
     "execution_count": 96,
     "metadata": {},
     "output_type": "execute_result"
    }
   ],
   "source": [
    "rng = np.random.default_rng(seed=42)\n",
    "arr_rand = rng.standard_normal((4,4))\n",
    "arr_rand"
   ]
  },
  {
   "cell_type": "code",
   "execution_count": 97,
   "id": "063cdd81",
   "metadata": {},
   "outputs": [
    {
     "data": {
      "text/plain": [
       "array([[ 2, -2,  2,  2],\n",
       "       [-2, -2,  2, -2],\n",
       "       [-2, -2,  2,  2],\n",
       "       [ 2,  2,  2, -2]])"
      ]
     },
     "execution_count": 97,
     "metadata": {},
     "output_type": "execute_result"
    }
   ],
   "source": [
    "np.where(arr_rand < 0, -2, 2)"
   ]
  },
  {
   "cell_type": "code",
   "execution_count": 99,
   "id": "88e10e0f",
   "metadata": {},
   "outputs": [
    {
     "data": {
      "text/plain": [
       "array([[ 2.        , -1.03998411,  2.        ,  2.        ],\n",
       "       [-1.95103519, -1.30217951,  2.        , -0.31624259],\n",
       "       [-0.01680116, -0.85304393,  2.        ,  2.        ],\n",
       "       [ 2.        ,  2.        ,  2.        , -0.85929246]])"
      ]
     },
     "execution_count": 99,
     "metadata": {},
     "output_type": "execute_result"
    }
   ],
   "source": [
    "# Kombinasi scalars dengan arrays\n",
    "np.where(arr_rand < 0 , arr_rand, 2)"
   ]
  },
  {
   "cell_type": "markdown",
   "id": "cfe85a62",
   "metadata": {},
   "source": [
    "### Mathematical and Statistical Methods"
   ]
  },
  {
   "cell_type": "code",
   "execution_count": 102,
   "id": "faafb4d0",
   "metadata": {},
   "outputs": [
    {
     "data": {
      "text/plain": [
       "array([[ 0.30471708, -1.03998411,  0.7504512 ,  0.94056472],\n",
       "       [-1.95103519, -1.30217951,  0.1278404 , -0.31624259],\n",
       "       [-0.01680116, -0.85304393,  0.87939797,  0.77779194],\n",
       "       [ 0.0660307 ,  1.12724121,  0.46750934, -0.85929246],\n",
       "       [ 0.36875078, -0.9588826 ,  0.8784503 , -0.04992591]])"
      ]
     },
     "execution_count": 102,
     "metadata": {},
     "output_type": "execute_result"
    }
   ],
   "source": [
    "grn = np.random.default_rng(seed=42)\n",
    "arr = grn.standard_normal((5,4))\n",
    "arr"
   ]
  },
  {
   "cell_type": "code",
   "execution_count": 103,
   "id": "dc3dbb99",
   "metadata": {},
   "outputs": [
    {
     "data": {
      "text/plain": [
       "-0.032932090814718026"
      ]
     },
     "execution_count": 103,
     "metadata": {},
     "output_type": "execute_result"
    }
   ],
   "source": [
    "# Menggunakan instance array\n",
    "arr.mean()"
   ]
  },
  {
   "cell_type": "code",
   "execution_count": 104,
   "id": "0127efc4",
   "metadata": {},
   "outputs": [
    {
     "data": {
      "text/plain": [
       "-0.032932090814718026"
      ]
     },
     "execution_count": 104,
     "metadata": {},
     "output_type": "execute_result"
    }
   ],
   "source": [
    "# menggunakan top-level function\n",
    "np.mean(arr)"
   ]
  },
  {
   "cell_type": "code",
   "execution_count": 105,
   "id": "a6888803",
   "metadata": {},
   "outputs": [
    {
     "data": {
      "text/plain": [
       "-0.6586418162943605"
      ]
     },
     "execution_count": 105,
     "metadata": {},
     "output_type": "execute_result"
    }
   ],
   "source": [
    "np.sum(arr)"
   ]
  },
  {
   "cell_type": "code",
   "execution_count": 108,
   "id": "b59fd0f5",
   "metadata": {},
   "outputs": [
    {
     "data": {
      "text/plain": [
       "array([[ 1,  2,  3,  4,  5],\n",
       "       [ 6,  7,  8,  9, 10]])"
      ]
     },
     "execution_count": 108,
     "metadata": {},
     "output_type": "execute_result"
    }
   ],
   "source": [
    "# aggregate function with axis argumen\n",
    "\n",
    "arr = np.array([[1,3,5,7],[2,4,6,8]])\n",
    "arr"
   ]
  },
  {
   "cell_type": "code",
   "execution_count": 109,
   "id": "1381b04d",
   "metadata": {},
   "outputs": [
    {
     "data": {
      "text/plain": [
       "array([ 7,  9, 11, 13, 15])"
      ]
     },
     "execution_count": 109,
     "metadata": {},
     "output_type": "execute_result"
    }
   ],
   "source": [
    "arr.sum(axis=0)"
   ]
  },
  {
   "cell_type": "code",
   "execution_count": 110,
   "id": "bc3311b3",
   "metadata": {},
   "outputs": [
    {
     "data": {
      "text/plain": [
       "array([15, 40])"
      ]
     },
     "execution_count": 110,
     "metadata": {},
     "output_type": "execute_result"
    }
   ],
   "source": [
    "arr.sum(axis=1)"
   ]
  },
  {
   "cell_type": "code",
   "execution_count": 119,
   "id": "bb8d76d4",
   "metadata": {},
   "outputs": [
    {
     "data": {
      "text/plain": [
       "array([0, 1, 2, 3, 4, 5, 6, 7, 8, 9])"
      ]
     },
     "execution_count": 119,
     "metadata": {},
     "output_type": "execute_result"
    }
   ],
   "source": [
    "# Non aggregate statistical function\n",
    "arr = np.arange(10)\n",
    "arr"
   ]
  },
  {
   "cell_type": "code",
   "execution_count": 120,
   "id": "68b77a3f",
   "metadata": {},
   "outputs": [
    {
     "data": {
      "text/plain": [
       "array([ 0,  1,  3,  6, 10, 15, 21, 28, 36, 45])"
      ]
     },
     "execution_count": 120,
     "metadata": {},
     "output_type": "execute_result"
    }
   ],
   "source": [
    "arr.cumsum()"
   ]
  },
  {
   "cell_type": "code",
   "execution_count": 122,
   "id": "655ca230",
   "metadata": {},
   "outputs": [
    {
     "data": {
      "text/plain": [
       "array([[1, 3, 5, 7],\n",
       "       [2, 4, 6, 8]])"
      ]
     },
     "execution_count": 122,
     "metadata": {},
     "output_type": "execute_result"
    }
   ],
   "source": [
    "# Cum sum multidimensional array\n",
    "arr = np.array([[1,3,5,7],[2,4,6,8]])\n",
    "arr"
   ]
  },
  {
   "cell_type": "code",
   "execution_count": 123,
   "id": "eae53f2d",
   "metadata": {},
   "outputs": [
    {
     "data": {
      "text/plain": [
       "array([[ 1,  3,  5,  7],\n",
       "       [ 3,  7, 11, 15]])"
      ]
     },
     "execution_count": 123,
     "metadata": {},
     "output_type": "execute_result"
    }
   ],
   "source": [
    "arr.cumsum(axis=0)"
   ]
  },
  {
   "cell_type": "code",
   "execution_count": 124,
   "id": "5cac17a5",
   "metadata": {},
   "outputs": [
    {
     "data": {
      "text/plain": [
       "array([[ 1,  4,  9, 16],\n",
       "       [ 2,  6, 12, 20]])"
      ]
     },
     "execution_count": 124,
     "metadata": {},
     "output_type": "execute_result"
    }
   ],
   "source": [
    "arr.cumsum(axis=1)"
   ]
  },
  {
   "cell_type": "markdown",
   "id": "c99c7dc1",
   "metadata": {},
   "source": [
    "### Method for Boolean Array"
   ]
  },
  {
   "cell_type": "code",
   "execution_count": 138,
   "id": "c6fad8c3",
   "metadata": {},
   "outputs": [
    {
     "data": {
      "text/plain": [
       "array([[ 0.30471708, -1.03998411,  0.7504512 ],\n",
       "       [ 0.94056472, -1.95103519, -1.30217951],\n",
       "       [ 0.1278404 , -0.31624259, -0.01680116]])"
      ]
     },
     "execution_count": 138,
     "metadata": {},
     "output_type": "execute_result"
    }
   ],
   "source": [
    "rng = np.random.default_rng(seed=42)\n",
    "arr = rng.standard_normal((3,3))\n",
    "arr"
   ]
  },
  {
   "cell_type": "code",
   "execution_count": 139,
   "id": "089d6d6a",
   "metadata": {},
   "outputs": [
    {
     "data": {
      "text/plain": [
       "array([[ True, False,  True],\n",
       "       [ True, False, False],\n",
       "       [ True, False, False]])"
      ]
     },
     "execution_count": 139,
     "metadata": {},
     "output_type": "execute_result"
    }
   ],
   "source": [
    "(arr > 0)"
   ]
  },
  {
   "cell_type": "code",
   "execution_count": 142,
   "id": "98f4e59c",
   "metadata": {},
   "outputs": [
    {
     "data": {
      "text/plain": [
       "(4, 5)"
      ]
     },
     "execution_count": 142,
     "metadata": {},
     "output_type": "execute_result"
    }
   ],
   "source": [
    "(arr>0).sum(), (arr<0).sum()"
   ]
  },
  {
   "cell_type": "markdown",
   "id": "d18433ad",
   "metadata": {},
   "source": [
    "Fungsi **any** dan **all**\n",
    "- any, akan mengembalikan nilai true jika array mengandung nilai true\n",
    "- all, akan mengembalikan nilai true jika semua array bernilai true\n",
    "\n",
    "*any dan array dapat digunakan pada array bertipe numerik, nilai 0 akan dianggal false*"
   ]
  },
  {
   "cell_type": "code",
   "execution_count": 147,
   "id": "6e8b4174",
   "metadata": {},
   "outputs": [
    {
     "data": {
      "text/plain": [
       "(True, False)"
      ]
     },
     "execution_count": 147,
     "metadata": {},
     "output_type": "execute_result"
    }
   ],
   "source": [
    "arr_bool = np.array([False,True,True,False,False,True,False,True,True])\n",
    "any(arr_bool), all(arr_bool)"
   ]
  },
  {
   "cell_type": "markdown",
   "id": "1809ed5c",
   "metadata": {},
   "source": [
    "### Sorting"
   ]
  },
  {
   "cell_type": "code",
   "execution_count": 170,
   "id": "95e664cf",
   "metadata": {},
   "outputs": [],
   "source": [
    "# Array sorting\n",
    "rng = np.random.default_rng(seed=42)\n",
    "arr = rng.standard_normal((4,4))"
   ]
  },
  {
   "cell_type": "code",
   "execution_count": 171,
   "id": "84180fd5",
   "metadata": {},
   "outputs": [
    {
     "data": {
      "text/plain": [
       "array([[-1.03998411,  0.30471708,  0.7504512 ,  0.94056472],\n",
       "       [-1.95103519, -1.30217951, -0.31624259,  0.1278404 ],\n",
       "       [-0.85304393, -0.01680116,  0.77779194,  0.87939797],\n",
       "       [-0.85929246,  0.0660307 ,  0.46750934,  1.12724121]])"
      ]
     },
     "execution_count": 171,
     "metadata": {},
     "output_type": "execute_result"
    }
   ],
   "source": [
    "np.sort(arr)"
   ]
  },
  {
   "cell_type": "code",
   "execution_count": 176,
   "id": "bbe24264",
   "metadata": {},
   "outputs": [
    {
     "data": {
      "text/plain": [
       "array([[-1.03998411,  0.30471708,  0.7504512 ,  0.94056472],\n",
       "       [-1.95103519, -1.30217951, -0.31624259,  0.1278404 ],\n",
       "       [-0.85304393, -0.01680116,  0.77779194,  0.87939797],\n",
       "       [-0.85929246,  0.0660307 ,  0.46750934,  1.12724121]])"
      ]
     },
     "execution_count": 176,
     "metadata": {},
     "output_type": "execute_result"
    }
   ],
   "source": [
    "# Penggunakan axis ini sama dengan tanpa menggunakan argumen axis\n",
    "np.sort(arr,axis=1)"
   ]
  },
  {
   "cell_type": "code",
   "execution_count": 174,
   "id": "ca5c23ad",
   "metadata": {},
   "outputs": [
    {
     "data": {
      "text/plain": [
       "array([[-1.95103519, -1.30217951,  0.1278404 , -0.85929246],\n",
       "       [-0.01680116, -1.03998411,  0.46750934, -0.31624259],\n",
       "       [ 0.0660307 , -0.85304393,  0.7504512 ,  0.77779194],\n",
       "       [ 0.30471708,  1.12724121,  0.87939797,  0.94056472]])"
      ]
     },
     "execution_count": 174,
     "metadata": {},
     "output_type": "execute_result"
    }
   ],
   "source": [
    "np.sort(arr,axis=0)"
   ]
  },
  {
   "cell_type": "code",
   "execution_count": 178,
   "id": "906bb253",
   "metadata": {},
   "outputs": [
    {
     "data": {
      "text/plain": [
       "array([[-1.03998411,  0.30471708,  0.7504512 ,  0.94056472],\n",
       "       [-1.95103519, -1.30217951, -0.31624259,  0.1278404 ],\n",
       "       [-0.85304393, -0.01680116,  0.77779194,  0.87939797],\n",
       "       [-0.85929246,  0.0660307 ,  0.46750934,  1.12724121]])"
      ]
     },
     "execution_count": 178,
     "metadata": {},
     "output_type": "execute_result"
    }
   ],
   "source": [
    "# sort pada instance akan merubah array asli\n",
    "arr.sort()\n",
    "arr"
   ]
  },
  {
   "cell_type": "markdown",
   "id": "51b77b34",
   "metadata": {},
   "source": [
    "### Unique and Other Set Logic"
   ]
  },
  {
   "cell_type": "code",
   "execution_count": 193,
   "id": "8e5ff48e",
   "metadata": {},
   "outputs": [
    {
     "data": {
      "text/plain": [
       "['Faris', 'Farras', 'Noah', 'Tania']"
      ]
     },
     "execution_count": 193,
     "metadata": {},
     "output_type": "execute_result"
    }
   ],
   "source": [
    "# Built-in Python\n",
    "daftar_nama = (\"Farras\",\"Farras\",\"Tania\",\"Faris\",\"Faris\",\"Noah\", \"Tania\",\"Farras\")\n",
    "nama_unik = sorted(set(daftar_nama))\n",
    "nama_unik"
   ]
  },
  {
   "cell_type": "code",
   "execution_count": 196,
   "id": "8942844c",
   "metadata": {},
   "outputs": [
    {
     "data": {
      "text/plain": [
       "array(['Faris', 'Farras', 'Noah', 'Tania'], dtype='<U6')"
      ]
     },
     "execution_count": 196,
     "metadata": {},
     "output_type": "execute_result"
    }
   ],
   "source": [
    "# Uniqe menggunakan np.unique\n",
    "arr_nama = np.array(daftar_nama)\n",
    "np.unique(arr_nama)"
   ]
  },
  {
   "cell_type": "markdown",
   "id": "1ece584c",
   "metadata": {},
   "source": [
    "**in1d**"
   ]
  },
  {
   "cell_type": "code",
   "execution_count": 198,
   "id": "d107ff92",
   "metadata": {},
   "outputs": [
    {
     "data": {
      "text/plain": [
       "array([ True,  True,  True, False, False, False])"
      ]
     },
     "execution_count": 198,
     "metadata": {},
     "output_type": "execute_result"
    }
   ],
   "source": [
    "arr = np.array((8,9,8,4,3,1))\n",
    "checks = np.array((10,7,6,8,9,8))\n",
    "\n",
    "np.in1d(arr,checks)"
   ]
  }
 ],
 "metadata": {
  "kernelspec": {
   "display_name": "Python 3 (ipykernel)",
   "language": "python",
   "name": "python3"
  },
  "language_info": {
   "codemirror_mode": {
    "name": "ipython",
    "version": 3
   },
   "file_extension": ".py",
   "mimetype": "text/x-python",
   "name": "python",
   "nbconvert_exporter": "python",
   "pygments_lexer": "ipython3",
   "version": "3.9.12"
  }
 },
 "nbformat": 4,
 "nbformat_minor": 5
}
