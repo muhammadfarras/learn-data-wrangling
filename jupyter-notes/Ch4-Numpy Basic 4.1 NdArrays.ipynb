{
 "cells": [
  {
   "cell_type": "markdown",
   "id": "8218cbca",
   "metadata": {},
   "source": [
    "# Chapter 4 - Numpy Basic : Arrays and Vectorized Computation"
   ]
  },
  {
   "cell_type": "markdown",
   "id": "e90704db",
   "metadata": {},
   "source": [
    "## Creating ndarrays"
   ]
  },
  {
   "cell_type": "code",
   "execution_count": 5,
   "id": "ff84a502",
   "metadata": {},
   "outputs": [],
   "source": [
    "import numpy as np"
   ]
  },
  {
   "cell_type": "code",
   "execution_count": 6,
   "id": "ae8371d0",
   "metadata": {},
   "outputs": [],
   "source": [
    "my_arr = np.arange(1_000_000)\n",
    "my_list = list(range(1_000_000))"
   ]
  },
  {
   "cell_type": "code",
   "execution_count": 7,
   "id": "648bc54c",
   "metadata": {},
   "outputs": [
    {
     "name": "stdout",
     "output_type": "stream",
     "text": [
      "1.31 ms ± 58.3 µs per loop (mean ± std. dev. of 7 runs, 1,000 loops each)\n"
     ]
    }
   ],
   "source": [
    "%timeit my_arr * 2"
   ]
  },
  {
   "cell_type": "code",
   "execution_count": 8,
   "id": "61b6a2bf",
   "metadata": {
    "scrolled": true
   },
   "outputs": [
    {
     "name": "stdout",
     "output_type": "stream",
     "text": [
      "58.8 ms ± 2.29 ms per loop (mean ± std. dev. of 7 runs, 10 loops each)\n"
     ]
    }
   ],
   "source": [
    "%timeit [a * 2 for a in my_list]"
   ]
  },
  {
   "cell_type": "code",
   "execution_count": 9,
   "id": "91684bdc",
   "metadata": {},
   "outputs": [
    {
     "data": {
      "text/plain": [
       "(list, tuple)"
      ]
     },
     "execution_count": 9,
     "metadata": {},
     "output_type": "execute_result"
    }
   ],
   "source": [
    "# membuat list dan tuple\n",
    "py_list = [1,2,3,4,5]\n",
    "py_tuple = (1.0,0,3.1,2.9,5)\n",
    "\n",
    "type(py_list), type(py_tuple)"
   ]
  },
  {
   "cell_type": "code",
   "execution_count": 10,
   "id": "c2f28586",
   "metadata": {},
   "outputs": [
    {
     "data": {
      "text/plain": [
       "(numpy.ndarray, numpy.ndarray)"
      ]
     },
     "execution_count": 10,
     "metadata": {},
     "output_type": "execute_result"
    }
   ],
   "source": [
    "# membuat numpy array dengan parameter list dan tuple\n",
    "data1 = np.array(py_list)\n",
    "data2 = np.array(py_tuple)\n",
    "type(data1), type(data2)"
   ]
  },
  {
   "cell_type": "code",
   "execution_count": 11,
   "id": "4899b5c6",
   "metadata": {},
   "outputs": [
    {
     "data": {
      "text/plain": [
       "array([[1, 2, 4, 5],\n",
       "       [8, 0, 1, 4]])"
      ]
     },
     "execution_count": 11,
     "metadata": {},
     "output_type": "execute_result"
    }
   ],
   "source": [
    "# list bersarang\n",
    "py_nested_list = [[1,2,4,5],[8,0,1,4]]\n",
    "data3 = np.array(py_nested_list)\n",
    "data3"
   ]
  },
  {
   "cell_type": "code",
   "execution_count": 12,
   "id": "4f83a797",
   "metadata": {},
   "outputs": [
    {
     "name": "stdout",
     "output_type": "stream",
     "text": [
      "2\n",
      "(2, 4)\n"
     ]
    }
   ],
   "source": [
    "# melihat dimensi dan bentuk dimensi array\n",
    "print(data3.ndim)\n",
    "print(data3.shape)"
   ]
  },
  {
   "cell_type": "code",
   "execution_count": 13,
   "id": "4e847dd1",
   "metadata": {},
   "outputs": [
    {
     "data": {
      "text/plain": [
       "(dtype('int64'), dtype('float64'))"
      ]
     },
     "execution_count": 13,
     "metadata": {},
     "output_type": "execute_result"
    }
   ],
   "source": [
    "# check tipe data\n",
    "data1.dtype, data2.dtype"
   ]
  },
  {
   "cell_type": "code",
   "execution_count": 14,
   "id": "d0e03e94",
   "metadata": {},
   "outputs": [
    {
     "data": {
      "text/plain": [
       "array([1., 1., 1., 1., 1.])"
      ]
     },
     "execution_count": 14,
     "metadata": {},
     "output_type": "execute_result"
    }
   ],
   "source": [
    "data4 = np.ones(5)\n",
    "data4"
   ]
  },
  {
   "cell_type": "code",
   "execution_count": 15,
   "id": "8134d012",
   "metadata": {},
   "outputs": [
    {
     "data": {
      "text/plain": [
       "array([[0., 0., 0.],\n",
       "       [0., 0., 0.],\n",
       "       [0., 0., 0.]])"
      ]
     },
     "execution_count": 15,
     "metadata": {},
     "output_type": "execute_result"
    }
   ],
   "source": [
    "data5 = np.zeros((3,3))\n",
    "data5"
   ]
  },
  {
   "cell_type": "code",
   "execution_count": 16,
   "id": "61804105",
   "metadata": {},
   "outputs": [
    {
     "data": {
      "text/plain": [
       "array([[[4.68228488e-310, 0.00000000e+000],\n",
       "        [6.93287746e-310, 6.93287745e-310],\n",
       "        [6.93287746e-310, 6.93287745e-310],\n",
       "        [6.93287746e-310, 6.93287776e-310]],\n",
       "\n",
       "       [[6.93287746e-310, 6.93287745e-310],\n",
       "        [6.93287746e-310, 6.93287746e-310],\n",
       "        [6.93287746e-310, 6.93287746e-310],\n",
       "        [6.93287746e-310, 6.93287746e-310]],\n",
       "\n",
       "       [[6.93287977e-310, 6.93287746e-310],\n",
       "        [6.93287745e-310, 6.93287746e-310],\n",
       "        [6.93287746e-310, 6.93287746e-310],\n",
       "        [6.93287746e-310, 6.93287746e-310]],\n",
       "\n",
       "       [[6.93287746e-310, 6.93287744e-310],\n",
       "        [6.93287746e-310, 6.93287746e-310],\n",
       "        [6.93287746e-310, 6.93287746e-310],\n",
       "        [6.93287746e-310, 6.93287746e-310]]])"
      ]
     },
     "execution_count": 16,
     "metadata": {},
     "output_type": "execute_result"
    }
   ],
   "source": [
    "data6 = np.empty((4,4,2))\n",
    "data6"
   ]
  },
  {
   "cell_type": "code",
   "execution_count": 17,
   "id": "0b3c714f",
   "metadata": {},
   "outputs": [
    {
     "data": {
      "text/plain": [
       "array([0, 1, 2, 3, 4, 5, 6, 7, 8, 9])"
      ]
     },
     "execution_count": 17,
     "metadata": {},
     "output_type": "execute_result"
    }
   ],
   "source": [
    "np.arange(10)"
   ]
  },
  {
   "cell_type": "markdown",
   "id": "eb9f5707",
   "metadata": {},
   "source": [
    "## Data type for ndaarrays"
   ]
  },
  {
   "cell_type": "code",
   "execution_count": 18,
   "id": "79150644",
   "metadata": {},
   "outputs": [
    {
     "data": {
      "text/plain": [
       "(dtype('int32'), dtype('float32'))"
      ]
     },
     "execution_count": 18,
     "metadata": {},
     "output_type": "execute_result"
    }
   ],
   "source": [
    "arr1 = np.array([1,2,3], dtype=np.int32)\n",
    "arr2 = np.array([4,5,6], dtype=np.float32)\n",
    "arr1.dtype , arr2.dtype"
   ]
  },
  {
   "cell_type": "markdown",
   "id": "ac76ca16",
   "metadata": {},
   "source": [
    "### Konversi int - float"
   ]
  },
  {
   "cell_type": "code",
   "execution_count": 19,
   "id": "bb97ab0c",
   "metadata": {},
   "outputs": [
    {
     "data": {
      "text/plain": [
       "dtype('int64')"
      ]
     },
     "execution_count": 19,
     "metadata": {},
     "output_type": "execute_result"
    }
   ],
   "source": [
    "# crate numpy array dengan tipe int32\n",
    "arr = np.array([1, 2, 3, 4, 5])\n",
    "arr.dtype"
   ]
  },
  {
   "cell_type": "code",
   "execution_count": 20,
   "id": "028b3fbc",
   "metadata": {},
   "outputs": [
    {
     "data": {
      "text/plain": [
       "dtype('float32')"
      ]
     },
     "execution_count": 20,
     "metadata": {},
     "output_type": "execute_result"
    }
   ],
   "source": [
    "# convert tipe data arr menjadi float32\n",
    "int_arr = arr.astype(np.float32)\n",
    "int_arr.dtype"
   ]
  },
  {
   "cell_type": "markdown",
   "id": "bd8d7bb7",
   "metadata": {},
   "source": [
    "### Konversi float - int"
   ]
  },
  {
   "cell_type": "code",
   "execution_count": 21,
   "id": "2e877712",
   "metadata": {},
   "outputs": [
    {
     "data": {
      "text/plain": [
       "(dtype('float64'), array([27.12, 11.6 ,  5.7 , 13.1 ]))"
      ]
     },
     "execution_count": 21,
     "metadata": {},
     "output_type": "execute_result"
    }
   ],
   "source": [
    "# Create float_arry\n",
    "float_arr = np.array((27.12, 11.6, 5.7, 13.10))\n",
    "float_arr.dtype, float_arr"
   ]
  },
  {
   "cell_type": "code",
   "execution_count": 22,
   "id": "4a00fdf3",
   "metadata": {},
   "outputs": [
    {
     "data": {
      "text/plain": [
       "(dtype('int32'), array([27, 11,  5, 13], dtype=int32))"
      ]
     },
     "execution_count": 22,
     "metadata": {},
     "output_type": "execute_result"
    }
   ],
   "source": [
    "# Conver tipe data ke int32\n",
    "int_arr = float_arr.astype(np.int32)\n",
    "int_arr.dtype, int_arr"
   ]
  },
  {
   "cell_type": "markdown",
   "id": "851ea351",
   "metadata": {},
   "source": [
    "### Konversi string to numeric"
   ]
  },
  {
   "cell_type": "code",
   "execution_count": 23,
   "id": "54128bf9",
   "metadata": {},
   "outputs": [
    {
     "data": {
      "text/plain": [
       "dtype('S4')"
      ]
     },
     "execution_count": 23,
     "metadata": {},
     "output_type": "execute_result"
    }
   ],
   "source": [
    "# Create array\n",
    "str_arr = np.array ((\"2.7\",\"0.6\",\"0.6\",\"10.0\"), dtype=np.string_)\n",
    "str_arr.dtype"
   ]
  },
  {
   "cell_type": "code",
   "execution_count": 24,
   "id": "5efdfef4",
   "metadata": {},
   "outputs": [
    {
     "data": {
      "text/plain": [
       "array([ 2.7,  0.6,  0.6, 10. ], dtype=float32)"
      ]
     },
     "execution_count": 24,
     "metadata": {},
     "output_type": "execute_result"
    }
   ],
   "source": [
    "# Conver tipe data string to float32\n",
    "float_arr = str_arr.astype(np.float32)\n",
    "float_arr"
   ]
  },
  {
   "cell_type": "markdown",
   "id": "79285287",
   "metadata": {},
   "source": [
    "## Aritmatic with Numpy Arrays"
   ]
  },
  {
   "cell_type": "code",
   "execution_count": 25,
   "id": "cf7fb989",
   "metadata": {},
   "outputs": [
    {
     "data": {
      "text/plain": [
       "(array([[ 1,  4,  9],\n",
       "        [16, 25, 36]]),\n",
       " array([[0, 0, 0],\n",
       "        [0, 0, 0]]))"
      ]
     },
     "execution_count": 25,
     "metadata": {},
     "output_type": "execute_result"
    }
   ],
   "source": [
    "# Create numpys array\n",
    "arr1 = np.array(((1,2,3),(4,5,6)))\n",
    "arr2 = np.array(((1,2,3),(4,5,6)))\n",
    "\n",
    "arr1 * arr2, arr1-arr2"
   ]
  },
  {
   "cell_type": "code",
   "execution_count": 26,
   "id": "a1715a1f",
   "metadata": {},
   "outputs": [
    {
     "data": {
      "text/plain": [
       "array([[1.        , 0.5       , 0.33333333],\n",
       "       [0.25      , 0.2       , 0.16666667]])"
      ]
     },
     "execution_count": 26,
     "metadata": {},
     "output_type": "execute_result"
    }
   ],
   "source": [
    "# operasi aritmatika terhadpa scalar dan vector array (2nd array)\n",
    "1/arr1"
   ]
  },
  {
   "cell_type": "code",
   "execution_count": 27,
   "id": "70a6b509",
   "metadata": {},
   "outputs": [
    {
     "data": {
      "text/plain": [
       "array([[False, False],\n",
       "       [ True,  True]])"
      ]
     },
     "execution_count": 27,
     "metadata": {},
     "output_type": "execute_result"
    }
   ],
   "source": [
    "# membadingkan antara dua array yang sama ukuran menghasilkan tipe boolean\n",
    "arr3 = np.array ([[1,4],[6,8]])\n",
    "arr4 = np.array ([[9,8],[3,1]])\n",
    "arr3 > arr4"
   ]
  },
  {
   "cell_type": "markdown",
   "id": "5a697d43",
   "metadata": {},
   "source": [
    "## Array slicing and indexing"
   ]
  },
  {
   "cell_type": "code",
   "execution_count": 28,
   "id": "74b98d22",
   "metadata": {},
   "outputs": [
    {
     "data": {
      "text/plain": [
       "array([ 1,  2,  3,  4,  5,  6,  7,  8,  9, 10, 11, 12, 13, 14, 15])"
      ]
     },
     "execution_count": 28,
     "metadata": {},
     "output_type": "execute_result"
    }
   ],
   "source": [
    "arr = np.arange(start=1, stop=16)\n",
    "arr"
   ]
  },
  {
   "cell_type": "code",
   "execution_count": 29,
   "id": "e3309f0b",
   "metadata": {},
   "outputs": [
    {
     "data": {
      "text/plain": [
       "6"
      ]
     },
     "execution_count": 29,
     "metadata": {},
     "output_type": "execute_result"
    }
   ],
   "source": [
    "arr[5]"
   ]
  },
  {
   "cell_type": "code",
   "execution_count": 30,
   "id": "5feef8db",
   "metadata": {},
   "outputs": [
    {
     "data": {
      "text/plain": [
       "array([6, 7, 8])"
      ]
     },
     "execution_count": 30,
     "metadata": {},
     "output_type": "execute_result"
    }
   ],
   "source": [
    "arr[5:8]"
   ]
  },
  {
   "cell_type": "code",
   "execution_count": 31,
   "id": "84efcbb1",
   "metadata": {},
   "outputs": [
    {
     "data": {
      "text/plain": [
       "array([ 1,  2,  3,  4,  5, 12, 12, 12,  9, 10, 11, 12, 13, 14, 15])"
      ]
     },
     "execution_count": 31,
     "metadata": {},
     "output_type": "execute_result"
    }
   ],
   "source": [
    "# array slices adalah views atau tampilan pada original file\n",
    "arr[5:8] = 12\n",
    "arr"
   ]
  },
  {
   "cell_type": "code",
   "execution_count": 32,
   "id": "95d1dac9",
   "metadata": {},
   "outputs": [
    {
     "data": {
      "text/plain": [
       "array([ 1,  2,  3,  4,  5, 12, 99, 12,  9, 10, 11, 12, 13, 14, 15])"
      ]
     },
     "execution_count": 32,
     "metadata": {},
     "output_type": "execute_result"
    }
   ],
   "source": [
    "# contoh lain\n",
    "bag_arr = arr[5:8]\n",
    "bag_arr[1] = 99\n",
    "arr"
   ]
  },
  {
   "cell_type": "code",
   "execution_count": 33,
   "id": "379840bc",
   "metadata": {},
   "outputs": [
    {
     "data": {
      "text/plain": [
       "array([99, 99, 99, 99, 99, 99, 99, 99, 99, 99, 99, 99, 99, 99, 99])"
      ]
     },
     "execution_count": 33,
     "metadata": {},
     "output_type": "execute_result"
    }
   ],
   "source": [
    "# Mengganti semua element pada array\n",
    "arr[:] = 99\n",
    "arr"
   ]
  },
  {
   "cell_type": "code",
   "execution_count": 34,
   "id": "3c2866fe",
   "metadata": {},
   "outputs": [
    {
     "data": {
      "text/plain": [
       "(array([[8, 9, 0],\n",
       "        [2, 7, 2],\n",
       "        [1, 5, 3]]),\n",
       " 2)"
      ]
     },
     "execution_count": 34,
     "metadata": {},
     "output_type": "execute_result"
    }
   ],
   "source": [
    "# array slices hihger dimentional array\n",
    "arr2d = np.array([[8,9,0],[2,7,2],[1,5,3]])\n",
    "arr2d, arr2d.ndim"
   ]
  },
  {
   "cell_type": "code",
   "execution_count": 35,
   "id": "f05d90da",
   "metadata": {},
   "outputs": [
    {
     "data": {
      "text/plain": [
       "array([8, 9, 0])"
      ]
     },
     "execution_count": 35,
     "metadata": {},
     "output_type": "execute_result"
    }
   ],
   "source": [
    "arr2d[0].copy()"
   ]
  },
  {
   "cell_type": "code",
   "execution_count": 36,
   "id": "cd221a73",
   "metadata": {},
   "outputs": [
    {
     "data": {
      "text/plain": [
       "array([[9, 0],\n",
       "       [7, 2],\n",
       "       [5, 3]])"
      ]
     },
     "execution_count": 36,
     "metadata": {},
     "output_type": "execute_result"
    }
   ],
   "source": [
    "arr2d[:,1:]"
   ]
  },
  {
   "cell_type": "markdown",
   "id": "a8141831",
   "metadata": {},
   "source": [
    "### Boolean Indexing"
   ]
  },
  {
   "cell_type": "code",
   "execution_count": 37,
   "id": "f6dacece",
   "metadata": {},
   "outputs": [
    {
     "data": {
      "text/plain": [
       "(array(['Farid', 'Yayah', 'Farras', 'Tania', 'Faris', 'Noah'], dtype='<U6'),\n",
       " array([[1964,   10],\n",
       "        [1966,   12],\n",
       "        [1995,   12],\n",
       "        [1998,    6],\n",
       "        [2020,    6],\n",
       "        [2021,   10]]))"
      ]
     },
     "execution_count": 37,
     "metadata": {},
     "output_type": "execute_result"
    }
   ],
   "source": [
    "name = np.array([\"Farid\",\"Yayah\",\"Farras\",\"Tania\",\"Faris\",\"Noah\"])\n",
    "birth_year = np.array([[1964,10],[1966,12],[1995,12],[1998,6],[2020,6],[2021,10]])\n",
    "name, birth_year"
   ]
  },
  {
   "cell_type": "code",
   "execution_count": 38,
   "id": "c96ee704",
   "metadata": {},
   "outputs": [
    {
     "data": {
      "text/plain": [
       "array([False, False,  True, False, False, False])"
      ]
     },
     "execution_count": 38,
     "metadata": {},
     "output_type": "execute_result"
    }
   ],
   "source": [
    "name == \"Farras\""
   ]
  },
  {
   "cell_type": "code",
   "execution_count": 39,
   "id": "65db9b09",
   "metadata": {},
   "outputs": [
    {
     "data": {
      "text/plain": [
       "array([[1995,   12]])"
      ]
     },
     "execution_count": 39,
     "metadata": {},
     "output_type": "execute_result"
    }
   ],
   "source": [
    "birth_year[name == \"Farras\"]"
   ]
  },
  {
   "cell_type": "code",
   "execution_count": 40,
   "id": "99a98bb1",
   "metadata": {},
   "outputs": [
    {
     "data": {
      "text/plain": [
       "array(['Yayah', 'Farras', 'Tania', 'Faris'], dtype='<U6')"
      ]
     },
     "execution_count": 40,
     "metadata": {},
     "output_type": "execute_result"
    }
   ],
   "source": [
    "# Tampilkan nama yang bulan lahirnya 12 atau 6\n",
    "name[(birth_year[:,1] == 12) | (birth_year[:,1] == 6)]"
   ]
  },
  {
   "cell_type": "code",
   "execution_count": 41,
   "id": "7674df78",
   "metadata": {},
   "outputs": [
    {
     "data": {
      "text/plain": [
       "array(['Farid', 'Yayah', 'Tania', 'Faris', 'Noah'], dtype='<U6')"
      ]
     },
     "execution_count": 41,
     "metadata": {},
     "output_type": "execute_result"
    }
   ],
   "source": [
    "# Tampilkan nama orang selain nama Farras menggunakan !=\n",
    "name[name != \"Farras\"]"
   ]
  },
  {
   "cell_type": "code",
   "execution_count": 42,
   "id": "ce64759c",
   "metadata": {},
   "outputs": [
    {
     "data": {
      "text/plain": [
       "array(['Farid', 'Yayah', 'Tania', 'Faris', 'Noah'], dtype='<U6')"
      ]
     },
     "execution_count": 42,
     "metadata": {},
     "output_type": "execute_result"
    }
   ],
   "source": [
    "# Atau bisa menggunakan ~ untuk me negate\n",
    "name[~(name==\"Farras\")]"
   ]
  },
  {
   "cell_type": "markdown",
   "id": "923315b0",
   "metadata": {},
   "source": [
    "> *Boolean indexing dan mengassign hasilnya kedalam variable, akan dianggat sebagai copy, bukan view*"
   ]
  },
  {
   "cell_type": "code",
   "execution_count": 43,
   "id": "8e70e17b",
   "metadata": {},
   "outputs": [
    {
     "data": {
      "text/plain": [
       "array(['Faris', 'Noah'], dtype='<U6')"
      ]
     },
     "execution_count": 43,
     "metadata": {},
     "output_type": "execute_result"
    }
   ],
   "source": [
    "# Membuat variabel baru untuk menampung cucu-cucu dari farid dan yayah, yang umurnya kurang dari 5 tahun\n",
    "kasta = name[2022 - birth_year[:,0] < 5]\n",
    "kasta"
   ]
  },
  {
   "cell_type": "code",
   "execution_count": 44,
   "id": "09cae11f",
   "metadata": {},
   "outputs": [],
   "source": [
    "# menggati elemnt variable kasta menjadi cucu\n",
    "kasta[:] = \"cucu\""
   ]
  },
  {
   "cell_type": "code",
   "execution_count": 45,
   "id": "462a4a33",
   "metadata": {},
   "outputs": [
    {
     "data": {
      "text/plain": [
       "(array(['cucu', 'cucu'], dtype='<U6'),\n",
       " array(['Farid', 'Yayah', 'Farras', 'Tania', 'Faris', 'Noah'], dtype='<U6'))"
      ]
     },
     "execution_count": 45,
     "metadata": {},
     "output_type": "execute_result"
    }
   ],
   "source": [
    "# Menampilkan variabel kasta dan array original\n",
    "kasta, name"
   ]
  },
  {
   "cell_type": "code",
   "execution_count": 46,
   "id": "b757b171",
   "metadata": {},
   "outputs": [
    {
     "data": {
      "text/plain": [
       "(array(['Cucu', 'Cucu'], dtype='<U6'),\n",
       " array(['Farid', 'Yayah', 'Farras', 'Tania', 'Cucu', 'Cucu'], dtype='<U6'))"
      ]
     },
     "execution_count": 46,
     "metadata": {},
     "output_type": "execute_result"
    }
   ],
   "source": [
    "# Meng-view nama faris dan noah\n",
    "kasta_view = name[-2:]\n",
    "kasta_view[:] = \"Cucu\"\n",
    "kasta_view, name"
   ]
  },
  {
   "cell_type": "markdown",
   "id": "50f4a875",
   "metadata": {},
   "source": [
    "### Fancy Indexing"
   ]
  },
  {
   "cell_type": "code",
   "execution_count": 47,
   "id": "20642a5c",
   "metadata": {},
   "outputs": [
    {
     "data": {
      "text/plain": [
       "array([[0., 0., 0., 0.],\n",
       "       [1., 1., 1., 1.],\n",
       "       [2., 2., 2., 2.],\n",
       "       [3., 3., 3., 3.],\n",
       "       [4., 4., 4., 4.],\n",
       "       [5., 5., 5., 5.],\n",
       "       [6., 6., 6., 6.],\n",
       "       [7., 7., 7., 7.]])"
      ]
     },
     "execution_count": 47,
     "metadata": {},
     "output_type": "execute_result"
    }
   ],
   "source": [
    "arr = np.zeros((8,4))\n",
    "for a in range(8):\n",
    "    arr[a] = a\n",
    "arr"
   ]
  },
  {
   "cell_type": "code",
   "execution_count": 48,
   "id": "e56c7e33",
   "metadata": {},
   "outputs": [
    {
     "data": {
      "text/plain": [
       "array([[0., 0., 0., 0.],\n",
       "       [4., 4., 4., 4.],\n",
       "       [2., 2., 2., 2.],\n",
       "       [3., 3., 3., 3.]])"
      ]
     },
     "execution_count": 48,
     "metadata": {},
     "output_type": "execute_result"
    }
   ],
   "source": [
    "arr[[0,4,2,3]]"
   ]
  },
  {
   "cell_type": "code",
   "execution_count": 49,
   "id": "18f57c3b",
   "metadata": {},
   "outputs": [
    {
     "data": {
      "text/plain": [
       "array([[7., 7., 7., 7.],\n",
       "       [0., 0., 0., 0.],\n",
       "       [4., 4., 4., 4.],\n",
       "       [6., 6., 6., 6.]])"
      ]
     },
     "execution_count": 49,
     "metadata": {},
     "output_type": "execute_result"
    }
   ],
   "source": [
    "arr[[-1,-8,-4,-2]]"
   ]
  },
  {
   "cell_type": "code",
   "execution_count": 50,
   "id": "8e528e5a",
   "metadata": {},
   "outputs": [
    {
     "data": {
      "text/plain": [
       "array([[ 0,  1,  2,  3],\n",
       "       [ 4,  5,  6,  7],\n",
       "       [ 8,  9, 10, 11],\n",
       "       [12, 13, 14, 15],\n",
       "       [16, 17, 18, 19],\n",
       "       [20, 21, 22, 23],\n",
       "       [24, 25, 26, 27],\n",
       "       [28, 29, 30, 31]])"
      ]
     },
     "execution_count": 50,
     "metadata": {},
     "output_type": "execute_result"
    }
   ],
   "source": [
    "arr = np.arange(32).reshape((8,4))\n",
    "arr"
   ]
  },
  {
   "cell_type": "code",
   "execution_count": 51,
   "id": "a0d1113d",
   "metadata": {},
   "outputs": [
    {
     "data": {
      "text/plain": [
       "array([ 7,  3, 23, 19])"
      ]
     },
     "execution_count": 51,
     "metadata": {},
     "output_type": "execute_result"
    }
   ],
   "source": [
    "arr[[1,0,5,4],[3,3,3,3]]"
   ]
  },
  {
   "cell_type": "code",
   "execution_count": 52,
   "id": "1f9c4758",
   "metadata": {},
   "outputs": [
    {
     "data": {
      "text/plain": [
       "array([ 7,  3, 23, 19])"
      ]
     },
     "execution_count": 52,
     "metadata": {},
     "output_type": "execute_result"
    }
   ],
   "source": [
    "# prove\n",
    "np.array([arr[1,3],arr[0,3],arr[5,3], arr[4,3]])"
   ]
  },
  {
   "cell_type": "markdown",
   "id": "ef3a1668",
   "metadata": {},
   "source": [
    "> More deep fancy indexing"
   ]
  },
  {
   "cell_type": "code",
   "execution_count": 53,
   "id": "afdc8b52",
   "metadata": {},
   "outputs": [
    {
     "data": {
      "text/plain": [
       "array([[ 4,  5,  6,  7],\n",
       "       [ 0,  1,  2,  3],\n",
       "       [20, 21, 22, 23],\n",
       "       [16, 17, 18, 19]])"
      ]
     },
     "execution_count": 53,
     "metadata": {},
     "output_type": "execute_result"
    }
   ],
   "source": [
    "# Part 1\n",
    "arr[[1,0,5,4]]\n",
    "# (1,0) --> 4\n",
    "# (0,3) --> 3\n",
    "# (5,2) --> 22\n",
    "# (4,1) --> 17"
   ]
  },
  {
   "cell_type": "code",
   "execution_count": 54,
   "id": "04e8e2f9",
   "metadata": {},
   "outputs": [
    {
     "data": {
      "text/plain": [
       "array([[ 4,  5,  6],\n",
       "       [ 0,  1,  2],\n",
       "       [20, 21, 22],\n",
       "       [16, 17, 18]])"
      ]
     },
     "execution_count": 54,
     "metadata": {},
     "output_type": "execute_result"
    }
   ],
   "source": [
    "# A\n",
    "arr[[1,0,5,4]][:,0:3]"
   ]
  },
  {
   "cell_type": "code",
   "execution_count": 55,
   "id": "213be453",
   "metadata": {},
   "outputs": [
    {
     "data": {
      "text/plain": [
       "array([[ 4,  5,  6],\n",
       "       [ 0,  1,  2],\n",
       "       [20, 21, 22],\n",
       "       [16, 17, 18]])"
      ]
     },
     "execution_count": 55,
     "metadata": {},
     "output_type": "execute_result"
    }
   ],
   "source": [
    "# A is eual to this\n",
    "arr[[1,0,5,4]][:,[0,1,2]]"
   ]
  },
  {
   "cell_type": "code",
   "execution_count": 56,
   "id": "67ce6033",
   "metadata": {},
   "outputs": [
    {
     "data": {
      "text/plain": [
       "array([[ 4,  7,  5,  6],\n",
       "       [ 0,  3,  1,  2],\n",
       "       [20, 23, 21, 22],\n",
       "       [16, 19, 17, 18]])"
      ]
     },
     "execution_count": 56,
     "metadata": {},
     "output_type": "execute_result"
    }
   ],
   "source": [
    "arr[[1,0,5,4]][:,[0, 3, 1, 2]]"
   ]
  },
  {
   "cell_type": "code",
   "execution_count": 57,
   "id": "07310738",
   "metadata": {},
   "outputs": [
    {
     "data": {
      "text/plain": [
       "array([[ 0,  0,  2,  3],\n",
       "       [ 0,  5,  6,  7],\n",
       "       [ 8,  9, 10, 11],\n",
       "       [12, 13, 14, 15],\n",
       "       [16, 17, 18,  0],\n",
       "       [20, 21,  0, 23],\n",
       "       [24, 25, 26, 27],\n",
       "       [28, 29, 30, 31]])"
      ]
     },
     "execution_count": 57,
     "metadata": {},
     "output_type": "execute_result"
    }
   ],
   "source": [
    "# Faincy indexing is view\n",
    "arr[[1,0,5,4],[0,1,2,3]] = 0\n",
    "arr"
   ]
  },
  {
   "cell_type": "markdown",
   "id": "035a3310",
   "metadata": {},
   "source": [
    "### Tansposing Array and Swapping Axe"
   ]
  },
  {
   "cell_type": "code",
   "execution_count": 58,
   "id": "13438b01",
   "metadata": {},
   "outputs": [
    {
     "data": {
      "text/plain": [
       "array([[ 0,  1,  2,  3,  4],\n",
       "       [ 5,  6,  7,  8,  9],\n",
       "       [10, 11, 12, 13, 14]])"
      ]
     },
     "execution_count": 58,
     "metadata": {},
     "output_type": "execute_result"
    }
   ],
   "source": [
    "arr = np.arange(15).reshape(3,5)\n",
    "arr"
   ]
  },
  {
   "cell_type": "code",
   "execution_count": 59,
   "id": "5ef21802",
   "metadata": {},
   "outputs": [
    {
     "data": {
      "text/plain": [
       "array([[ 0,  5, 10],\n",
       "       [ 1,  6, 11],\n",
       "       [ 2,  7, 12],\n",
       "       [ 3,  8, 13],\n",
       "       [ 4,  9, 14]])"
      ]
     },
     "execution_count": 59,
     "metadata": {},
     "output_type": "execute_result"
    }
   ],
   "source": [
    "# T mean, transpose\n",
    "arr.T"
   ]
  },
  {
   "cell_type": "markdown",
   "id": "ee7f0237",
   "metadata": {},
   "source": [
    "Transpose is use often usefulle when doing matrix computation"
   ]
  },
  {
   "cell_type": "code",
   "execution_count": 60,
   "id": "00ddd6b7",
   "metadata": {},
   "outputs": [
    {
     "data": {
      "text/plain": [
       "((5, 3), (3, 5))"
      ]
     },
     "execution_count": 60,
     "metadata": {},
     "output_type": "execute_result"
    }
   ],
   "source": [
    "arr = np.array([[0, 1, 0], [1, 2, -2], [6, 3, 2], [-1, 0, -1], [1, 0, 1\n",
    "]])\n",
    "arr.shape, arr.T.shape"
   ]
  },
  {
   "cell_type": "markdown",
   "id": "868da104",
   "metadata": {},
   "source": [
    "Ingat perkalian matrix memliki syarat, *inner dimention* harus sama dengan *outer dimention*"
   ]
  },
  {
   "cell_type": "code",
   "execution_count": 61,
   "id": "24a0db31",
   "metadata": {},
   "outputs": [
    {
     "name": "stdout",
     "output_type": "stream",
     "text": [
      "matmul: Input operand 1 has a mismatch in its core dimension 0, with gufunc signature (n?,k),(k,m?)->(n?,m?) (size 5 is different from 3)\n"
     ]
    }
   ],
   "source": [
    "try:\n",
    "    arr @ arr\n",
    "except Exception as E :\n",
    "    print (E)"
   ]
  },
  {
   "cell_type": "code",
   "execution_count": 62,
   "id": "38159ba3",
   "metadata": {},
   "outputs": [
    {
     "data": {
      "text/plain": [
       "array([[39, 20, 12],\n",
       "       [20, 14,  2],\n",
       "       [12,  2, 10]])"
      ]
     },
     "execution_count": 62,
     "metadata": {},
     "output_type": "execute_result"
    }
   ],
   "source": [
    "arr.T @ arr"
   ]
  },
  {
   "cell_type": "code",
   "execution_count": 63,
   "id": "1dd6a077",
   "metadata": {},
   "outputs": [
    {
     "name": "stdout",
     "output_type": "stream",
     "text": [
      "\n",
      "    Interchange two axes of an array.\n",
      "\n",
      "    Parameters\n",
      "    ----------\n",
      "    a : array_like\n",
      "        Input array.\n",
      "    axis1 : int\n",
      "        First axis.\n",
      "    axis2 : int\n",
      "        Second axis.\n",
      "\n",
      "    Returns\n",
      "    -------\n",
      "    a_swapped : ndarray\n",
      "        For NumPy >= 1.10.0, if `a` is an ndarray, then a view of `a` is\n",
      "        returned; otherwise a new array is created. For earlier NumPy\n",
      "        versions a view of `a` is returned only if the order of the\n",
      "        axes is changed, otherwise the input array is returned.\n",
      "\n",
      "    Examples\n",
      "    --------\n",
      "    >>> x = np.array([[1,2,3]])\n",
      "    >>> np.swapaxes(x,0,1)\n",
      "    array([[1],\n",
      "           [2],\n",
      "           [3]])\n",
      "\n",
      "    >>> x = np.array([[[0,1],[2,3]],[[4,5],[6,7]]])\n",
      "    >>> x\n",
      "    array([[[0, 1],\n",
      "            [2, 3]],\n",
      "           [[4, 5],\n",
      "            [6, 7]]])\n",
      "\n",
      "    >>> np.swapaxes(x,0,2)\n",
      "    array([[[0, 4],\n",
      "            [2, 6]],\n",
      "           [[1, 5],\n",
      "            [3, 7]]])\n",
      "\n",
      "    \n"
     ]
    }
   ],
   "source": [
    "print(np.swapaxes.__doc__)"
   ]
  },
  {
   "cell_type": "code",
   "execution_count": 64,
   "id": "56e93a9f",
   "metadata": {},
   "outputs": [
    {
     "name": "stdout",
     "output_type": "stream",
     "text": [
      "[[[ 1  2 -1 -2]\n",
      "  [ 3  4 -3 -4]]\n",
      "\n",
      " [[ 5  6 -5 -6]\n",
      "  [ 7  8 -7 -8]]]\n",
      "----------------\n",
      "(2, 2, 4)\n",
      "----------------\n",
      "3\n"
     ]
    }
   ],
   "source": [
    "x = np.array([[[1,2,-1,-2],[3,4,-3,-4]],[[5,6,-5,-6],[7,8,-7,-8]]])\n",
    "print(x, x.shape, x.ndim,sep=\"\\r\\n----------------\\r\\n\")"
   ]
  },
  {
   "cell_type": "code",
   "execution_count": 65,
   "id": "2ffd03d6",
   "metadata": {},
   "outputs": [
    {
     "data": {
      "text/plain": [
       "-7"
      ]
     },
     "execution_count": 65,
     "metadata": {},
     "output_type": "execute_result"
    }
   ],
   "source": [
    "# mengambil coba amil angka  -7\n",
    "x[1,1,2]"
   ]
  },
  {
   "cell_type": "code",
   "execution_count": 66,
   "id": "36f80d38",
   "metadata": {},
   "outputs": [
    {
     "data": {
      "text/plain": [
       "array([[[ 1,  5],\n",
       "        [ 3,  7]],\n",
       "\n",
       "       [[ 2,  6],\n",
       "        [ 4,  8]],\n",
       "\n",
       "       [[-1, -5],\n",
       "        [-3, -7]],\n",
       "\n",
       "       [[-2, -6],\n",
       "        [-4, -8]]])"
      ]
     },
     "execution_count": 66,
     "metadata": {},
     "output_type": "execute_result"
    }
   ],
   "source": [
    "x.swapaxes(0,2)"
   ]
  },
  {
   "cell_type": "code",
   "execution_count": 67,
   "id": "03e6eaad",
   "metadata": {},
   "outputs": [
    {
     "data": {
      "text/plain": [
       "-7"
      ]
     },
     "execution_count": 67,
     "metadata": {},
     "output_type": "execute_result"
    }
   ],
   "source": [
    "x.swapaxes(0,2)[2,1,1]"
   ]
  },
  {
   "cell_type": "markdown",
   "id": "39d263c4",
   "metadata": {},
   "source": [
    "## Pseudorandom Number Generation"
   ]
  },
  {
   "cell_type": "code",
   "execution_count": 68,
   "id": "02cfe6d8",
   "metadata": {},
   "outputs": [
    {
     "data": {
      "text/plain": [
       "array([[ 0.23258002, -1.21434639,  0.52639156,  0.26484982],\n",
       "       [ 0.54174189,  0.09584333, -0.68138624, -0.51807892],\n",
       "       [-1.93022877,  0.18044549, -0.22974385, -0.04449118],\n",
       "       [-1.66146923,  1.0449471 , -0.13395862, -0.77028626]])"
      ]
     },
     "execution_count": 68,
     "metadata": {},
     "output_type": "execute_result"
    }
   ],
   "source": [
    "# Create 4 x 4 random numpy array\n",
    "samples = np.random.standard_normal((4,4))\n",
    "samples"
   ]
  },
  {
   "cell_type": "markdown",
   "id": "0b370b79",
   "metadata": {},
   "source": [
    "> Perbandingan random numpy dengan buil-in python function normalvariate"
   ]
  },
  {
   "cell_type": "code",
   "execution_count": 69,
   "id": "d1a7c41e",
   "metadata": {},
   "outputs": [
    {
     "data": {
      "text/plain": [
       "-0.1423714724684688"
      ]
     },
     "execution_count": 69,
     "metadata": {},
     "output_type": "execute_result"
    }
   ],
   "source": [
    "from random import normalvariate\n",
    "\n",
    "normalvariate(0,1)"
   ]
  },
  {
   "cell_type": "code",
   "execution_count": 70,
   "id": "94d7e977",
   "metadata": {},
   "outputs": [
    {
     "name": "stdout",
     "output_type": "stream",
     "text": [
      "41.1 ms ± 3.04 ms per loop (mean ± std. dev. of 7 runs, 10 loops each)\n"
     ]
    }
   ],
   "source": [
    "%timeit samples = [normalvariate for _ in range(1_000_000)]"
   ]
  },
  {
   "cell_type": "code",
   "execution_count": 71,
   "id": "6b837a9e",
   "metadata": {},
   "outputs": [
    {
     "name": "stdout",
     "output_type": "stream",
     "text": [
      "27.2 ms ± 1.99 ms per loop (mean ± std. dev. of 7 runs, 10 loops each)\n"
     ]
    }
   ],
   "source": [
    "%timeit np.random.standard_normal(1_000_000)"
   ]
  },
  {
   "cell_type": "markdown",
   "id": "20b9ad0b",
   "metadata": {},
   "source": [
    "Set **seed** for random to create number generaotor"
   ]
  },
  {
   "cell_type": "code",
   "execution_count": 72,
   "id": "ad524103",
   "metadata": {},
   "outputs": [
    {
     "data": {
      "text/plain": [
       "array([[ 0.30471708, -1.03998411,  0.7504512 ,  0.94056472],\n",
       "       [-1.95103519, -1.30217951,  0.1278404 , -0.31624259],\n",
       "       [-0.01680116, -0.85304393,  0.87939797,  0.77779194],\n",
       "       [ 0.0660307 ,  1.12724121,  0.46750934, -0.85929246]])"
      ]
     },
     "execution_count": 72,
     "metadata": {},
     "output_type": "execute_result"
    }
   ],
   "source": [
    "random_seed = np.random.default_rng(seed=42)\n",
    "sample = random_seed.standard_normal((4,4))\n",
    "sample"
   ]
  },
  {
   "cell_type": "markdown",
   "id": "a4b4160d",
   "metadata": {},
   "source": [
    "## Universal Function"
   ]
  },
  {
   "cell_type": "code",
   "execution_count": 73,
   "id": "852997b5",
   "metadata": {},
   "outputs": [],
   "source": [
    "# Create an nparray\n",
    "arr = np.arange (10)"
   ]
  },
  {
   "cell_type": "markdown",
   "id": "1324728e",
   "metadata": {},
   "source": [
    "- Fungsi yang membutuhkan argumen array tunggal disebut dengan ***unary unversal function***\n",
    "- Fungsi yang membutuhkan dua argumen array dan menghasilkan satu buah array tunggal disebut dengan ***binary universal function***"
   ]
  },
  {
   "cell_type": "code",
   "execution_count": 74,
   "id": "fd25d4f6",
   "metadata": {},
   "outputs": [
    {
     "data": {
      "text/plain": [
       "array([0.        , 1.        , 1.41421356, 1.73205081, 2.        ,\n",
       "       2.23606798, 2.44948974, 2.64575131, 2.82842712, 3.        ])"
      ]
     },
     "execution_count": 74,
     "metadata": {},
     "output_type": "execute_result"
    }
   ],
   "source": [
    "np.sqrt(arr)"
   ]
  },
  {
   "cell_type": "code",
   "execution_count": 75,
   "id": "f56551dd",
   "metadata": {},
   "outputs": [
    {
     "data": {
      "text/plain": [
       "array([1.00000000e+00, 2.71828183e+00, 7.38905610e+00, 2.00855369e+01,\n",
       "       5.45981500e+01, 1.48413159e+02, 4.03428793e+02, 1.09663316e+03,\n",
       "       2.98095799e+03, 8.10308393e+03])"
      ]
     },
     "execution_count": 75,
     "metadata": {},
     "output_type": "execute_result"
    }
   ],
   "source": [
    "np.exp(arr)"
   ]
  },
  {
   "cell_type": "code",
   "execution_count": 76,
   "id": "ece77ed2",
   "metadata": {},
   "outputs": [
    {
     "data": {
      "text/plain": [
       "(array([ 0.30471708, -1.03998411,  0.7504512 ,  0.94056472, -1.95103519,\n",
       "        -1.30217951,  0.1278404 , -0.31624259, -0.01680116, -0.85304393]),\n",
       " array([ 1.35074732,  0.34309058, -1.16299016, -0.18708582, -0.3394646 ,\n",
       "        -0.22767632,  0.59685616, -1.27902314,  0.96665533, -1.12796069]))"
      ]
     },
     "execution_count": 76,
     "metadata": {},
     "output_type": "execute_result"
    }
   ],
   "source": [
    "rs = np.random.default_rng(seed=42)\n",
    "rsy = np.random.default_rng(seed=24)\n",
    "x = rs.standard_normal(10)\n",
    "y = rsy.standard_normal(10)\n",
    "x, y"
   ]
  },
  {
   "cell_type": "code",
   "execution_count": 77,
   "id": "d966ea69",
   "metadata": {},
   "outputs": [
    {
     "data": {
      "text/plain": [
       "array([ 1.35074732,  0.34309058,  0.7504512 ,  0.94056472, -0.3394646 ,\n",
       "       -0.22767632,  0.59685616, -0.31624259,  0.96665533, -0.85304393])"
      ]
     },
     "execution_count": 77,
     "metadata": {},
     "output_type": "execute_result"
    }
   ],
   "source": [
    "# find maximum value\n",
    "np.maximum(x,y)"
   ]
  },
  {
   "cell_type": "code",
   "execution_count": 78,
   "id": "a103eb5b",
   "metadata": {},
   "outputs": [
    {
     "data": {
      "text/plain": [
       "array([ 1.6554644 , -0.69689352, -0.41253896,  0.75347889, -2.29049978,\n",
       "       -1.52985583,  0.72469656, -1.59526573,  0.94985417, -1.98100462])"
      ]
     },
     "execution_count": 78,
     "metadata": {},
     "output_type": "execute_result"
    }
   ],
   "source": [
    "# additional array\n",
    "np.add(x,y)"
   ]
  },
  {
   "cell_type": "code",
   "execution_count": 79,
   "id": "e57bfa1f",
   "metadata": {},
   "outputs": [
    {
     "data": {
      "text/plain": [
       "(array([ 0.5235854 , -0.19992053,  0.75225598,  0.70282358, -0.75517594,\n",
       "        -0.51089753,  0.63920202, -0.58121296, -0.08400579, -0.26521964]),\n",
       " array([ 1., -5.,  3.,  4., -9., -6.,  0., -1., -0., -4.]))"
      ]
     },
     "execution_count": 79,
     "metadata": {},
     "output_type": "execute_result"
    }
   ],
   "source": [
    "# modf, memecah bilangan pecahan dan bulat dari sebuah array\n",
    "rs = np.random.default_rng(seed=42)\n",
    "arr = rs.standard_normal(10) * 5\n",
    "pecahan, bulat = np.modf(arr)\n",
    "pecahan, bulat"
   ]
  },
  {
   "cell_type": "markdown",
   "id": "53f44a48",
   "metadata": {},
   "source": [
    "Argumen **out** pada ufunc"
   ]
  },
  {
   "cell_type": "code",
   "execution_count": 80,
   "id": "005de3bb",
   "metadata": {},
   "outputs": [
    {
     "data": {
      "text/plain": [
       "array([0., 0., 0., 0., 0., 0., 0., 0., 0., 0.])"
      ]
     },
     "execution_count": 80,
     "metadata": {},
     "output_type": "execute_result"
    }
   ],
   "source": [
    "# Membuat array berisikan nilai 0\n",
    "arr_zero = np.zeros(10)\n",
    "arr_zero.astype(np.float64)"
   ]
  },
  {
   "cell_type": "code",
   "execution_count": 81,
   "id": "821e150c",
   "metadata": {},
   "outputs": [],
   "source": [
    "# Membuat array dengan nilai urut\n",
    "arr = np.arange(10)"
   ]
  },
  {
   "cell_type": "code",
   "execution_count": 82,
   "id": "2e1a7ce5",
   "metadata": {},
   "outputs": [
    {
     "data": {
      "text/plain": [
       "array([ 7.,  8.,  9., 10., 11., 12., 13., 14., 15., 16.])"
      ]
     },
     "execution_count": 82,
     "metadata": {},
     "output_type": "execute_result"
    }
   ],
   "source": [
    "# np.add dengan argumen out pada variable arrya arr_zero\n",
    "np.add(arr,7,out=arr_zero)"
   ]
  },
  {
   "cell_type": "code",
   "execution_count": 83,
   "id": "035ef6aa",
   "metadata": {},
   "outputs": [
    {
     "data": {
      "text/plain": [
       "array([ 7.,  8.,  9., 10., 11., 12., 13., 14., 15., 16.])"
      ]
     },
     "execution_count": 83,
     "metadata": {},
     "output_type": "execute_result"
    }
   ],
   "source": [
    "# nilai arr_zero mengikut output dari np.add diatas\n",
    "arr_zero"
   ]
  },
  {
   "cell_type": "markdown",
   "id": "0df313dd",
   "metadata": {},
   "source": [
    "## Array Oriented Programming"
   ]
  },
  {
   "cell_type": "code",
   "execution_count": 84,
   "id": "6b03bdeb",
   "metadata": {},
   "outputs": [
    {
     "name": "stdout",
     "output_type": "stream",
     "text": [
      "Number Dimention \t: 1\n",
      "Data Type \t\t: float64\n",
      "Size \t\t\t: 1000\n",
      "Shape \t\t\t: (1000,)\n"
     ]
    }
   ],
   "source": [
    "points = np.arange(-5,5,0.01)\n",
    "print (f'Number Dimention \\t: {points.ndim}')\n",
    "print (f'Data Type \\t\\t: {points.dtype}')\n",
    "print (f'Size \\t\\t\\t: {points.size}')\n",
    "print (f'Shape \\t\\t\\t: {points.shape}')"
   ]
  },
  {
   "cell_type": "code",
   "execution_count": 85,
   "id": "9cd2b058",
   "metadata": {},
   "outputs": [
    {
     "name": "stdout",
     "output_type": "stream",
     "text": [
      "\n",
      "    Return coordinate matrices from coordinate vectors.\n",
      "\n",
      "    Make N-D coordinate arrays for vectorized evaluations of\n",
      "    N-D scalar/vector fields over N-D grids, given\n",
      "    one-dimensional coordinate arrays x1, x2,..., xn.\n",
      "\n",
      "    .. versionchanged:: 1.9\n",
      "       1-D and 0-D cases are allowed.\n",
      "\n",
      "    Parameters\n",
      "    ----------\n",
      "    x1, x2,..., xn : array_like\n",
      "        1-D arrays representing the coordinates of a grid.\n",
      "    indexing : {'xy', 'ij'}, optional\n",
      "        Cartesian ('xy', default) or matrix ('ij') indexing of output.\n",
      "        See Notes for more details.\n",
      "\n",
      "        .. versionadded:: 1.7.0\n",
      "    sparse : bool, optional\n",
      "        If True a sparse grid is returned in order to conserve memory.\n",
      "        Default is False.\n",
      "\n",
      "        .. versionadded:: 1.7.0\n",
      "    copy : bool, optional\n",
      "        If False, a view into the original arrays are returned in order to\n",
      "        conserve memory.  Default is True.  Please note that\n",
      "        ``sparse=False, copy=False`` will likely return non-contiguous\n",
      "        arrays.  Furthermore, more than one element of a broadcast array\n",
      "        may refer to a single memory location.  If you need to write to the\n",
      "        arrays, make copies first.\n",
      "\n",
      "        .. versionadded:: 1.7.0\n",
      "\n",
      "    Returns\n",
      "    -------\n",
      "    X1, X2,..., XN : ndarray\n",
      "        For vectors `x1`, `x2`,..., 'xn' with lengths ``Ni=len(xi)`` ,\n",
      "        return ``(N1, N2, N3,...Nn)`` shaped arrays if indexing='ij'\n",
      "        or ``(N2, N1, N3,...Nn)`` shaped arrays if indexing='xy'\n",
      "        with the elements of `xi` repeated to fill the matrix along\n",
      "        the first dimension for `x1`, the second for `x2` and so on.\n",
      "\n",
      "    Notes\n",
      "    -----\n",
      "    This function supports both indexing conventions through the indexing\n",
      "    keyword argument.  Giving the string 'ij' returns a meshgrid with\n",
      "    matrix indexing, while 'xy' returns a meshgrid with Cartesian indexing.\n",
      "    In the 2-D case with inputs of length M and N, the outputs are of shape\n",
      "    (N, M) for 'xy' indexing and (M, N) for 'ij' indexing.  In the 3-D case\n",
      "    with inputs of length M, N and P, outputs are of shape (N, M, P) for\n",
      "    'xy' indexing and (M, N, P) for 'ij' indexing.  The difference is\n",
      "    illustrated by the following code snippet::\n",
      "\n",
      "        xv, yv = np.meshgrid(x, y, sparse=False, indexing='ij')\n",
      "        for i in range(nx):\n",
      "            for j in range(ny):\n",
      "                # treat xv[i,j], yv[i,j]\n",
      "\n",
      "        xv, yv = np.meshgrid(x, y, sparse=False, indexing='xy')\n",
      "        for i in range(nx):\n",
      "            for j in range(ny):\n",
      "                # treat xv[j,i], yv[j,i]\n",
      "\n",
      "    In the 1-D and 0-D case, the indexing and sparse keywords have no effect.\n",
      "\n",
      "    See Also\n",
      "    --------\n",
      "    mgrid : Construct a multi-dimensional \"meshgrid\" using indexing notation.\n",
      "    ogrid : Construct an open multi-dimensional \"meshgrid\" using indexing\n",
      "            notation.\n",
      "\n",
      "    Examples\n",
      "    --------\n",
      "    >>> nx, ny = (3, 2)\n",
      "    >>> x = np.linspace(0, 1, nx)\n",
      "    >>> y = np.linspace(0, 1, ny)\n",
      "    >>> xv, yv = np.meshgrid(x, y)\n",
      "    >>> xv\n",
      "    array([[0. , 0.5, 1. ],\n",
      "           [0. , 0.5, 1. ]])\n",
      "    >>> yv\n",
      "    array([[0.,  0.,  0.],\n",
      "           [1.,  1.,  1.]])\n",
      "    >>> xv, yv = np.meshgrid(x, y, sparse=True)  # make sparse output arrays\n",
      "    >>> xv\n",
      "    array([[0. ,  0.5,  1. ]])\n",
      "    >>> yv\n",
      "    array([[0.],\n",
      "           [1.]])\n",
      "\n",
      "    `meshgrid` is very useful to evaluate functions on a grid.\n",
      "\n",
      "    >>> import matplotlib.pyplot as plt\n",
      "    >>> x = np.arange(-5, 5, 0.1)\n",
      "    >>> y = np.arange(-5, 5, 0.1)\n",
      "    >>> xx, yy = np.meshgrid(x, y, sparse=True)\n",
      "    >>> z = np.sin(xx**2 + yy**2) / (xx**2 + yy**2)\n",
      "    >>> h = plt.contourf(x, y, z)\n",
      "    >>> plt.axis('scaled')\n",
      "    >>> plt.show()\n",
      "\n",
      "    \n"
     ]
    }
   ],
   "source": [
    "print(np.meshgrid.__doc__)"
   ]
  },
  {
   "cell_type": "code",
   "execution_count": 86,
   "id": "8d92930e",
   "metadata": {},
   "outputs": [],
   "source": [
    "xs, ys = np.meshgrid(points, points)"
   ]
  },
  {
   "cell_type": "code",
   "execution_count": 87,
   "id": "e73c3162",
   "metadata": {},
   "outputs": [
    {
     "data": {
      "text/plain": [
       "array([[-5.  , -4.99, -4.98, ...,  4.97,  4.98,  4.99],\n",
       "       [-5.  , -4.99, -4.98, ...,  4.97,  4.98,  4.99],\n",
       "       [-5.  , -4.99, -4.98, ...,  4.97,  4.98,  4.99],\n",
       "       ...,\n",
       "       [-5.  , -4.99, -4.98, ...,  4.97,  4.98,  4.99],\n",
       "       [-5.  , -4.99, -4.98, ...,  4.97,  4.98,  4.99],\n",
       "       [-5.  , -4.99, -4.98, ...,  4.97,  4.98,  4.99]])"
      ]
     },
     "execution_count": 87,
     "metadata": {},
     "output_type": "execute_result"
    }
   ],
   "source": [
    "xs"
   ]
  },
  {
   "cell_type": "code",
   "execution_count": 88,
   "id": "4cc9ca01",
   "metadata": {},
   "outputs": [
    {
     "data": {
      "text/plain": [
       "array([[-5.  , -5.  , -5.  , -5.  , -5.  ],\n",
       "       [-4.99, -4.99, -4.99, -4.99, -4.99],\n",
       "       [-4.98, -4.98, -4.98, -4.98, -4.98],\n",
       "       [-4.97, -4.97, -4.97, -4.97, -4.97],\n",
       "       [-4.96, -4.96, -4.96, -4.96, -4.96]])"
      ]
     },
     "execution_count": 88,
     "metadata": {},
     "output_type": "execute_result"
    }
   ],
   "source": [
    "ys[0:5,0:5]"
   ]
  },
  {
   "cell_type": "code",
   "execution_count": 89,
   "id": "efa8a2fd",
   "metadata": {},
   "outputs": [
    {
     "data": {
      "text/plain": [
       "array([[ True, False, False, False, False],\n",
       "       [False,  True, False, False, False],\n",
       "       [False, False,  True, False, False],\n",
       "       [False, False, False,  True, False],\n",
       "       [False, False, False, False,  True]])"
      ]
     },
     "execution_count": 89,
     "metadata": {},
     "output_type": "execute_result"
    }
   ],
   "source": [
    "ys[0:5,0:5] == xs[0:5,0:5]"
   ]
  },
  {
   "cell_type": "code",
   "execution_count": 90,
   "id": "de45a085",
   "metadata": {},
   "outputs": [
    {
     "data": {
      "image/png": "[encoded data removed]",
      "text/plain": [
       "<Figure size 432x288 with 2 Axes>"
      ]
     },
     "metadata": {
      "needs_background": "light"
     },
     "output_type": "display_data"
    },
    {
     "data": {
      "image/png": "[encoded data removed]",
      "text/plain": [
       "<Figure size 432x288 with 2 Axes>"
      ]
     },
     "metadata": {
      "needs_background": "light"
     },
     "output_type": "display_data"
    }
   ],
   "source": [
    "import matplotlib.pyplot as plt\n",
    "plt.imshow(xs, cmap=plt.cm.gray)\n",
    "plt.colorbar()\n",
    "plt.title(\"Image plot of xs\")\n",
    "plt.show()\n",
    "\n",
    "plt.imshow(ys, cmap=plt.cm.gray)\n",
    "plt.colorbar()\n",
    "plt.title(\"Image plot of ys\")\n",
    "plt.show()"
   ]
  },
  {
   "cell_type": "code",
   "execution_count": 91,
   "id": "8f0f8bc2",
   "metadata": {},
   "outputs": [
    {
     "data": {
      "image/png": "[encoded data removed]",
      "text/plain": [
       "<Figure size 432x288 with 2 Axes>"
      ]
     },
     "metadata": {
      "needs_background": "light"
     },
     "output_type": "display_data"
    }
   ],
   "source": [
    "z = np.sqrt(xs**2 + ys**2)\n",
    "\n",
    "plt.imshow(z, cmap=plt.cm.gray)\n",
    "plt.colorbar()\n",
    "plt.title(\"Image plot of $\\sqrt{xs^2 + ys^2}$ for grid of values\")\n",
    "plt.show()"
   ]
  },
  {
   "cell_type": "code",
   "execution_count": 92,
   "id": "71c0eff8",
   "metadata": {},
   "outputs": [],
   "source": [
    "ar = np.arange(5)\n",
    "x,y = np.meshgrid(ar,ar)"
   ]
  },
  {
   "cell_type": "code",
   "execution_count": 93,
   "id": "eab5fdc7",
   "metadata": {},
   "outputs": [
    {
     "data": {
      "text/plain": [
       "array([[0, 1, 2, 3, 4],\n",
       "       [0, 1, 2, 3, 4],\n",
       "       [0, 1, 2, 3, 4],\n",
       "       [0, 1, 2, 3, 4],\n",
       "       [0, 1, 2, 3, 4]])"
      ]
     },
     "execution_count": 93,
     "metadata": {},
     "output_type": "execute_result"
    }
   ],
   "source": [
    "x"
   ]
  },
  {
   "cell_type": "code",
   "execution_count": 94,
   "id": "da329cce",
   "metadata": {},
   "outputs": [
    {
     "data": {
      "text/plain": [
       "array([[0, 0, 0, 0, 0],\n",
       "       [1, 1, 1, 1, 1],\n",
       "       [2, 2, 2, 2, 2],\n",
       "       [3, 3, 3, 3, 3],\n",
       "       [4, 4, 4, 4, 4]])"
      ]
     },
     "execution_count": 94,
     "metadata": {},
     "output_type": "execute_result"
    }
   ],
   "source": [
    "y"
   ]
  },
  {
   "cell_type": "markdown",
   "id": "900471e9",
   "metadata": {},
   "source": [
    "### Expressing Conditional Logic as Array Operations"
   ]
  },
  {
   "cell_type": "code",
   "execution_count": 95,
   "id": "f7dbc830",
   "metadata": {},
   "outputs": [],
   "source": [
    "xarr = np.arange(1.1, 1.6,0.1)\n",
    "yarr =  np.arange(2.1, 2.6,0.1)\n",
    "cond = np.array([True, False, True, True, False])"
   ]
  },
  {
   "cell_type": "code",
   "execution_count": 96,
   "id": "f64a2086",
   "metadata": {},
   "outputs": [
    {
     "name": "stdout",
     "output_type": "stream",
     "text": [
      "[1.1, 2.2, 1.3000000000000003, 1.4000000000000004, 2.5000000000000004]\n"
     ]
    }
   ],
   "source": [
    "# ambil niali dengan nilai true\n",
    "test = list (x if c else y for x,y,c in zip(xarr,yarr,cond))\n",
    "print(test)"
   ]
  },
  {
   "cell_type": "code",
   "execution_count": 97,
   "id": "82a25840",
   "metadata": {},
   "outputs": [
    {
     "data": {
      "text/plain": [
       "array([1.1, 2.2, 1.3, 1.4, 2.5])"
      ]
     },
     "execution_count": 97,
     "metadata": {},
     "output_type": "execute_result"
    }
   ],
   "source": [
    "np.where (cond,xarr,yarr)"
   ]
  },
  {
   "cell_type": "markdown",
   "id": "0daeee4a",
   "metadata": {},
   "source": [
    "> Buat matriks 4 x 4\n",
    "Gantilah nilai pada matriks menjadi -2 jika nilai tersebut negatif dan ubah menjadi 2 jika nilai tersebut positif"
   ]
  },
  {
   "cell_type": "code",
   "execution_count": 98,
   "id": "d0af72f5",
   "metadata": {},
   "outputs": [
    {
     "data": {
      "text/plain": [
       "array([[ 0.30471708, -1.03998411,  0.7504512 ,  0.94056472],\n",
       "       [-1.95103519, -1.30217951,  0.1278404 , -0.31624259],\n",
       "       [-0.01680116, -0.85304393,  0.87939797,  0.77779194],\n",
       "       [ 0.0660307 ,  1.12724121,  0.46750934, -0.85929246]])"
      ]
     },
     "execution_count": 98,
     "metadata": {},
     "output_type": "execute_result"
    }
   ],
   "source": [
    "rng = np.random.default_rng(seed=42)\n",
    "arr_rand = rng.standard_normal((4,4))\n",
    "arr_rand"
   ]
  },
  {
   "cell_type": "code",
   "execution_count": 99,
   "id": "6ed39e8b",
   "metadata": {},
   "outputs": [
    {
     "data": {
      "text/plain": [
       "array([[ 2, -2,  2,  2],\n",
       "       [-2, -2,  2, -2],\n",
       "       [-2, -2,  2,  2],\n",
       "       [ 2,  2,  2, -2]])"
      ]
     },
     "execution_count": 99,
     "metadata": {},
     "output_type": "execute_result"
    }
   ],
   "source": [
    "np.where(arr_rand < 0, -2, 2)"
   ]
  },
  {
   "cell_type": "code",
   "execution_count": 100,
   "id": "d859d93b",
   "metadata": {},
   "outputs": [
    {
     "data": {
      "text/plain": [
       "array([[ 2.        , -1.03998411,  2.        ,  2.        ],\n",
       "       [-1.95103519, -1.30217951,  2.        , -0.31624259],\n",
       "       [-0.01680116, -0.85304393,  2.        ,  2.        ],\n",
       "       [ 2.        ,  2.        ,  2.        , -0.85929246]])"
      ]
     },
     "execution_count": 100,
     "metadata": {},
     "output_type": "execute_result"
    }
   ],
   "source": [
    "# Kombinasi scalars dengan arrays\n",
    "np.where(arr_rand < 0 , arr_rand, 2)"
   ]
  },
  {
   "cell_type": "markdown",
   "id": "0463e7ef",
   "metadata": {},
   "source": [
    "### Mathematical and Statistical Methods"
   ]
  },
  {
   "cell_type": "code",
   "execution_count": 101,
   "id": "94c56cb2",
   "metadata": {},
   "outputs": [
    {
     "data": {
      "text/plain": [
       "array([[ 0.30471708, -1.03998411,  0.7504512 ,  0.94056472],\n",
       "       [-1.95103519, -1.30217951,  0.1278404 , -0.31624259],\n",
       "       [-0.01680116, -0.85304393,  0.87939797,  0.77779194],\n",
       "       [ 0.0660307 ,  1.12724121,  0.46750934, -0.85929246],\n",
       "       [ 0.36875078, -0.9588826 ,  0.8784503 , -0.04992591]])"
      ]
     },
     "execution_count": 101,
     "metadata": {},
     "output_type": "execute_result"
    }
   ],
   "source": [
    "grn = np.random.default_rng(seed=42)\n",
    "arr = grn.standard_normal((5,4))\n",
    "arr"
   ]
  },
  {
   "cell_type": "code",
   "execution_count": 102,
   "id": "39b77094",
   "metadata": {},
   "outputs": [
    {
     "data": {
      "text/plain": [
       "-0.032932090814718026"
      ]
     },
     "execution_count": 102,
     "metadata": {},
     "output_type": "execute_result"
    }
   ],
   "source": [
    "# Menggunakan instance array\n",
    "arr.mean()"
   ]
  },
  {
   "cell_type": "code",
   "execution_count": 103,
   "id": "e0f005f9",
   "metadata": {},
   "outputs": [
    {
     "data": {
      "text/plain": [
       "-0.032932090814718026"
      ]
     },
     "execution_count": 103,
     "metadata": {},
     "output_type": "execute_result"
    }
   ],
   "source": [
    "# menggunakan top-level function\n",
    "np.mean(arr)"
   ]
  },
  {
   "cell_type": "code",
   "execution_count": 104,
   "id": "7dc41c23",
   "metadata": {},
   "outputs": [
    {
     "data": {
      "text/plain": [
       "-0.6586418162943605"
      ]
     },
     "execution_count": 104,
     "metadata": {},
     "output_type": "execute_result"
    }
   ],
   "source": [
    "np.sum(arr)"
   ]
  },
  {
   "cell_type": "code",
   "execution_count": 105,
   "id": "a39f3aab",
   "metadata": {},
   "outputs": [
    {
     "data": {
      "text/plain": [
       "array([[1, 3, 5, 7],\n",
       "       [2, 4, 6, 8]])"
      ]
     },
     "execution_count": 105,
     "metadata": {},
     "output_type": "execute_result"
    }
   ],
   "source": [
    "# aggregate function with axis argumen\n",
    "\n",
    "arr = np.array([[1,3,5,7],[2,4,6,8]])\n",
    "arr"
   ]
  },
  {
   "cell_type": "code",
   "execution_count": 106,
   "id": "0eff06ed",
   "metadata": {},
   "outputs": [
    {
     "data": {
      "text/plain": [
       "array([ 3,  7, 11, 15])"
      ]
     },
     "execution_count": 106,
     "metadata": {},
     "output_type": "execute_result"
    }
   ],
   "source": [
    "arr.sum(axis=0)"
   ]
  },
  {
   "cell_type": "code",
   "execution_count": 107,
   "id": "c06b55b3",
   "metadata": {},
   "outputs": [
    {
     "data": {
      "text/plain": [
       "array([16, 20])"
      ]
     },
     "execution_count": 107,
     "metadata": {},
     "output_type": "execute_result"
    }
   ],
   "source": [
    "arr.sum(axis=1)"
   ]
  },
  {
   "cell_type": "code",
   "execution_count": 108,
   "id": "25fe8f2f",
   "metadata": {},
   "outputs": [
    {
     "data": {
      "text/plain": [
       "array([0, 1, 2, 3, 4, 5, 6, 7, 8, 9])"
      ]
     },
     "execution_count": 108,
     "metadata": {},
     "output_type": "execute_result"
    }
   ],
   "source": [
    "# Non aggregate statistical function\n",
    "arr = np.arange(10)\n",
    "arr"
   ]
  },
  {
   "cell_type": "code",
   "execution_count": 109,
   "id": "3882fb8a",
   "metadata": {},
   "outputs": [
    {
     "data": {
      "text/plain": [
       "array([ 0,  1,  3,  6, 10, 15, 21, 28, 36, 45])"
      ]
     },
     "execution_count": 109,
     "metadata": {},
     "output_type": "execute_result"
    }
   ],
   "source": [
    "arr.cumsum()"
   ]
  },
  {
   "cell_type": "code",
   "execution_count": 110,
   "id": "892ab64b",
   "metadata": {},
   "outputs": [
    {
     "data": {
      "text/plain": [
       "array([[1, 3, 5, 7],\n",
       "       [2, 4, 6, 8]])"
      ]
     },
     "execution_count": 110,
     "metadata": {},
     "output_type": "execute_result"
    }
   ],
   "source": [
    "# Cum sum multidimensional array\n",
    "arr = np.array([[1,3,5,7],[2,4,6,8]])\n",
    "arr"
   ]
  },
  {
   "cell_type": "code",
   "execution_count": 111,
   "id": "a26dea7d",
   "metadata": {},
   "outputs": [
    {
     "data": {
      "text/plain": [
       "array([[ 1,  3,  5,  7],\n",
       "       [ 3,  7, 11, 15]])"
      ]
     },
     "execution_count": 111,
     "metadata": {},
     "output_type": "execute_result"
    }
   ],
   "source": [
    "arr.cumsum(axis=0)"
   ]
  },
  {
   "cell_type": "code",
   "execution_count": 112,
   "id": "5336c173",
   "metadata": {},
   "outputs": [
    {
     "data": {
      "text/plain": [
       "array([[ 1,  4,  9, 16],\n",
       "       [ 2,  6, 12, 20]])"
      ]
     },
     "execution_count": 112,
     "metadata": {},
     "output_type": "execute_result"
    }
   ],
   "source": [
    "arr.cumsum(axis=1)"
   ]
  },
  {
   "cell_type": "markdown",
   "id": "70bb85a9",
   "metadata": {},
   "source": [
    "### Method for Boolean Array"
   ]
  },
  {
   "cell_type": "code",
   "execution_count": 113,
   "id": "6744216d",
   "metadata": {},
   "outputs": [
    {
     "data": {
      "text/plain": [
       "array([[ 0.30471708, -1.03998411,  0.7504512 ],\n",
       "       [ 0.94056472, -1.95103519, -1.30217951],\n",
       "       [ 0.1278404 , -0.31624259, -0.01680116]])"
      ]
     },
     "execution_count": 113,
     "metadata": {},
     "output_type": "execute_result"
    }
   ],
   "source": [
    "rng = np.random.default_rng(seed=42)\n",
    "arr = rng.standard_normal((3,3))\n",
    "arr"
   ]
  },
  {
   "cell_type": "code",
   "execution_count": 114,
   "id": "a90022f1",
   "metadata": {},
   "outputs": [
    {
     "data": {
      "text/plain": [
       "array([[ True, False,  True],\n",
       "       [ True, False, False],\n",
       "       [ True, False, False]])"
      ]
     },
     "execution_count": 114,
     "metadata": {},
     "output_type": "execute_result"
    }
   ],
   "source": [
    "(arr > 0)"
   ]
  },
  {
   "cell_type": "code",
   "execution_count": 115,
   "id": "22b4bd48",
   "metadata": {},
   "outputs": [
    {
     "data": {
      "text/plain": [
       "(4, 5)"
      ]
     },
     "execution_count": 115,
     "metadata": {},
     "output_type": "execute_result"
    }
   ],
   "source": [
    "(arr>0).sum(), (arr<0).sum()"
   ]
  },
  {
   "cell_type": "markdown",
   "id": "6699afba",
   "metadata": {},
   "source": [
    "Fungsi **any** dan **all**\n",
    "- any, akan mengembalikan nilai true jika array mengandung nilai true\n",
    "- all, akan mengembalikan nilai true jika semua array bernilai true\n",
    "\n",
    "*any dan array dapat digunakan pada array bertipe numerik, nilai 0 akan dianggal false*"
   ]
  },
  {
   "cell_type": "code",
   "execution_count": 116,
   "id": "09dc5b10",
   "metadata": {},
   "outputs": [
    {
     "data": {
      "text/plain": [
       "(True, False)"
      ]
     },
     "execution_count": 116,
     "metadata": {},
     "output_type": "execute_result"
    }
   ],
   "source": [
    "arr_bool = np.array([False,True,True,False,False,True,False,True,True])\n",
    "any(arr_bool), all(arr_bool)"
   ]
  },
  {
   "cell_type": "markdown",
   "id": "33070f65",
   "metadata": {},
   "source": [
    "### Sorting"
   ]
  },
  {
   "cell_type": "code",
   "execution_count": 117,
   "id": "bb3b2304",
   "metadata": {},
   "outputs": [],
   "source": [
    "# Array sorting\n",
    "rng = np.random.default_rng(seed=42)\n",
    "arr = rng.standard_normal((4,4))"
   ]
  },
  {
   "cell_type": "code",
   "execution_count": 118,
   "id": "8daff148",
   "metadata": {},
   "outputs": [
    {
     "data": {
      "text/plain": [
       "array([[-1.03998411,  0.30471708,  0.7504512 ,  0.94056472],\n",
       "       [-1.95103519, -1.30217951, -0.31624259,  0.1278404 ],\n",
       "       [-0.85304393, -0.01680116,  0.77779194,  0.87939797],\n",
       "       [-0.85929246,  0.0660307 ,  0.46750934,  1.12724121]])"
      ]
     },
     "execution_count": 118,
     "metadata": {},
     "output_type": "execute_result"
    }
   ],
   "source": [
    "np.sort(arr)"
   ]
  },
  {
   "cell_type": "code",
   "execution_count": 119,
   "id": "9518d850",
   "metadata": {},
   "outputs": [
    {
     "data": {
      "text/plain": [
       "array([[-1.03998411,  0.30471708,  0.7504512 ,  0.94056472],\n",
       "       [-1.95103519, -1.30217951, -0.31624259,  0.1278404 ],\n",
       "       [-0.85304393, -0.01680116,  0.77779194,  0.87939797],\n",
       "       [-0.85929246,  0.0660307 ,  0.46750934,  1.12724121]])"
      ]
     },
     "execution_count": 119,
     "metadata": {},
     "output_type": "execute_result"
    }
   ],
   "source": [
    "# Penggunakan axis ini sama dengan tanpa menggunakan argumen axis\n",
    "np.sort(arr,axis=1)"
   ]
  },
  {
   "cell_type": "code",
   "execution_count": 120,
   "id": "9c4dbcdd",
   "metadata": {},
   "outputs": [
    {
     "data": {
      "text/plain": [
       "array([[-1.95103519, -1.30217951,  0.1278404 , -0.85929246],\n",
       "       [-0.01680116, -1.03998411,  0.46750934, -0.31624259],\n",
       "       [ 0.0660307 , -0.85304393,  0.7504512 ,  0.77779194],\n",
       "       [ 0.30471708,  1.12724121,  0.87939797,  0.94056472]])"
      ]
     },
     "execution_count": 120,
     "metadata": {},
     "output_type": "execute_result"
    }
   ],
   "source": [
    "np.sort(arr,axis=0)"
   ]
  },
  {
   "cell_type": "code",
   "execution_count": 121,
   "id": "6748e215",
   "metadata": {},
   "outputs": [
    {
     "data": {
      "text/plain": [
       "array([[-1.03998411,  0.30471708,  0.7504512 ,  0.94056472],\n",
       "       [-1.95103519, -1.30217951, -0.31624259,  0.1278404 ],\n",
       "       [-0.85304393, -0.01680116,  0.77779194,  0.87939797],\n",
       "       [-0.85929246,  0.0660307 ,  0.46750934,  1.12724121]])"
      ]
     },
     "execution_count": 121,
     "metadata": {},
     "output_type": "execute_result"
    }
   ],
   "source": [
    "# sort pada instance akan merubah array asli\n",
    "arr.sort()\n",
    "arr"
   ]
  },
  {
   "cell_type": "markdown",
   "id": "03b830b7",
   "metadata": {},
   "source": [
    "### Unique and Other Set Logic"
   ]
  },
  {
   "cell_type": "code",
   "execution_count": 122,
   "id": "d2e11b2f",
   "metadata": {},
   "outputs": [
    {
     "data": {
      "text/plain": [
       "['Faris', 'Farras', 'Noah', 'Tania']"
      ]
     },
     "execution_count": 122,
     "metadata": {},
     "output_type": "execute_result"
    }
   ],
   "source": [
    "# Built-in Python\n",
    "daftar_nama = (\"Farras\",\"Farras\",\"Tania\",\"Faris\",\"Faris\",\"Noah\", \"Tania\",\"Farras\")\n",
    "nama_unik = sorted(set(daftar_nama))\n",
    "nama_unik"
   ]
  },
  {
   "cell_type": "code",
   "execution_count": 123,
   "id": "2c48afc8",
   "metadata": {},
   "outputs": [
    {
     "data": {
      "text/plain": [
       "array(['Faris', 'Farras', 'Noah', 'Tania'], dtype='<U6')"
      ]
     },
     "execution_count": 123,
     "metadata": {},
     "output_type": "execute_result"
    }
   ],
   "source": [
    "# Uniqe menggunakan np.unique\n",
    "arr_nama = np.array(daftar_nama)\n",
    "np.unique(arr_nama)"
   ]
  },
  {
   "cell_type": "markdown",
   "id": "ed6b67a5",
   "metadata": {},
   "source": [
    "**in1d**"
   ]
  },
  {
   "cell_type": "code",
   "execution_count": 124,
   "id": "813f2a56",
   "metadata": {},
   "outputs": [
    {
     "data": {
      "text/plain": [
       "array([ True,  True,  True, False, False, False])"
      ]
     },
     "execution_count": 124,
     "metadata": {},
     "output_type": "execute_result"
    }
   ],
   "source": [
    "arr = np.array((8,9,8,4,3,1))\n",
    "checks = np.array((10,7,6,8,9,8))\n",
    "\n",
    "np.in1d(arr,checks)"
   ]
  }
 ],
 "metadata": {
  "kernelspec": {
   "display_name": "Python 3 (ipykernel)",
   "language": "python",
   "name": "python3"
  },
  "language_info": {
   "codemirror_mode": {
    "name": "ipython",
    "version": 3
   },
   "file_extension": ".py",
   "mimetype": "text/x-python",
   "name": "python",
   "nbconvert_exporter": "python",
   "pygments_lexer": "ipython3",
   "version": "3.9.12"
  }
 },
 "nbformat": 4,
 "nbformat_minor": 5
}
