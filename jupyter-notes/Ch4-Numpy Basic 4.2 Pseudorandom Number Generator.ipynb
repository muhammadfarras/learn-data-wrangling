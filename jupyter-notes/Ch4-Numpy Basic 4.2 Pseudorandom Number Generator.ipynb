{
 "cells": [
  {
   "cell_type": "markdown",
   "id": "8218cbca",
   "metadata": {},
   "source": [
    "# Chapter 4 - Numpy Basic : Arrays and Vectorized Computation"
   ]
  },
  {
   "cell_type": "code",
   "execution_count": 1,
   "id": "ff84a502",
   "metadata": {},
   "outputs": [],
   "source": [
    "import numpy as np"
   ]
  },
  {
   "cell_type": "code",
   "execution_count": 2,
   "id": "ae8371d0",
   "metadata": {},
   "outputs": [],
   "source": [
    "my_arr = np.arange(1_000_000)\n",
    "my_list = list(range(1_000_000))"
   ]
  },
  {
   "cell_type": "markdown",
   "id": "39d263c4",
   "metadata": {},
   "source": [
    "## Pseudorandom Number Generation"
   ]
  },
  {
   "cell_type": "code",
   "execution_count": 64,
   "id": "02cfe6d8",
   "metadata": {},
   "outputs": [
    {
     "data": {
      "text/plain": [
       "array([[-0.12831755,  0.71675318, -1.9372112 , -0.12602398],\n",
       "       [ 0.93013747,  0.21350607,  1.33715843,  0.78656348],\n",
       "       [-0.66830641,  1.16615891, -0.28028758, -1.02078601],\n",
       "       [-0.15491588, -1.18507422,  0.17153173,  0.68229193]])"
      ]
     },
     "execution_count": 64,
     "metadata": {},
     "output_type": "execute_result"
    }
   ],
   "source": [
    "# Create 4 x 4 random numpy array\n",
    "samples = np.random.standard_normal((4,4))\n",
    "samples"
   ]
  },
  {
   "cell_type": "markdown",
   "id": "0b370b79",
   "metadata": {},
   "source": [
    "> Perbandingan random numpy dengan buil-in python function normalvariate"
   ]
  },
  {
   "cell_type": "code",
   "execution_count": 65,
   "id": "d1a7c41e",
   "metadata": {},
   "outputs": [
    {
     "data": {
      "text/plain": [
       "0.07855822363047703"
      ]
     },
     "execution_count": 65,
     "metadata": {},
     "output_type": "execute_result"
    }
   ],
   "source": [
    "from random import normalvariate\n",
    "\n",
    "normalvariate(0,1)"
   ]
  },
  {
   "cell_type": "code",
   "execution_count": 66,
   "id": "94d7e977",
   "metadata": {},
   "outputs": [
    {
     "name": "stdout",
     "output_type": "stream",
     "text": [
      "59.4 ms ± 3.96 ms per loop (mean ± std. dev. of 7 runs, 10 loops each)\n"
     ]
    }
   ],
   "source": [
    "%timeit samples = [normalvariate for _ in range(1_000_000)]"
   ]
  },
  {
   "cell_type": "code",
   "execution_count": 67,
   "id": "6b837a9e",
   "metadata": {},
   "outputs": [
    {
     "name": "stdout",
     "output_type": "stream",
     "text": [
      "33.2 ms ± 4.56 ms per loop (mean ± std. dev. of 7 runs, 10 loops each)\n"
     ]
    }
   ],
   "source": [
    "%timeit np.random.standard_normal(1_000_000)"
   ]
  },
  {
   "cell_type": "markdown",
   "id": "20b9ad0b",
   "metadata": {},
   "source": [
    "Set **seed** for random to create number generaotor"
   ]
  },
  {
   "cell_type": "code",
   "execution_count": 68,
   "id": "ad524103",
   "metadata": {},
   "outputs": [
    {
     "data": {
      "text/plain": [
       "array([[ 0.30471708, -1.03998411,  0.7504512 ,  0.94056472],\n",
       "       [-1.95103519, -1.30217951,  0.1278404 , -0.31624259],\n",
       "       [-0.01680116, -0.85304393,  0.87939797,  0.77779194],\n",
       "       [ 0.0660307 ,  1.12724121,  0.46750934, -0.85929246]])"
      ]
     },
     "execution_count": 68,
     "metadata": {},
     "output_type": "execute_result"
    }
   ],
   "source": [
    "random_seed = np.random.default_rng(seed=42)\n",
    "sample = random_seed.standard_normal((4,4))\n",
    "sample"
   ]
  }
 ],
 "metadata": {
  "kernelspec": {
   "display_name": "Python 3 (ipykernel)",
   "language": "python",
   "name": "python3"
  },
  "language_info": {
   "codemirror_mode": {
    "name": "ipython",
    "version": 3
   },
   "file_extension": ".py",
   "mimetype": "text/x-python",
   "name": "python",
   "nbconvert_exporter": "python",
   "pygments_lexer": "ipython3",
   "version": "3.10.5"
  }
 },
 "nbformat": 4,
 "nbformat_minor": 5
}
